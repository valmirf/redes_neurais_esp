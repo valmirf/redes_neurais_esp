{
  "nbformat": 4,
  "nbformat_minor": 0,
  "metadata": {
    "colab": {
      "name": "Lenet e VGG.ipynb",
      "provenance": [],
      "toc_visible": true,
      "authorship_tag": "ABX9TyNAYj901uvJ5jnwPUKAIa8R",
      "include_colab_link": true
    },
    "kernelspec": {
      "name": "python3",
      "display_name": "Python 3"
    },
    "accelerator": "GPU"
  },
  "cells": [
    {
      "cell_type": "markdown",
      "metadata": {
        "id": "view-in-github",
        "colab_type": "text"
      },
      "source": [
        "<a href=\"https://colab.research.google.com/github/valmirf/redes_neurais_esp/blob/main/PyTorch/Lenet_e_VGG.ipynb\" target=\"_parent\"><img src=\"https://colab.research.google.com/assets/colab-badge.svg\" alt=\"Open In Colab\"/></a>"
      ]
    },
    {
      "cell_type": "markdown",
      "metadata": {
        "id": "KFu-z3KHikWn"
      },
      "source": [
        "#PyTorch\n",
        "\n",
        "Veremos agora o uso da biblioteca PyTorch pra implementar o Lenet. Hoje em dia, em torno de 80% dos trabalhos com redes neurais utilizam essa biblioteca e outros 20%, utilizam o TensorFlow. Essa biblioteca encapsula o TensorFlow, porém, dá uma boa liberdade para o desenvolvedor ajustar o modelo criado. \n",
        "\n",
        "\n",
        "Na primeira parte, são importados todas as bibliotecas que iremos precisar para construir nossa primeira rede neural com o PyTorch."
      ]
    },
    {
      "cell_type": "code",
      "metadata": {
        "id": "wWal9N41id-7"
      },
      "source": [
        "import numpy as np\n",
        "from datetime import datetime \n",
        "\n",
        "import torch\n",
        "import torch.nn as nn\n",
        "import torch.nn.functional as F\n",
        "from torch.utils.data import DataLoader\n",
        "\n",
        "from torchvision import datasets, transforms\n",
        "\n",
        "\n",
        "import matplotlib.pyplot as plt\n",
        "\n",
        "# check device\n",
        "DEVICE = 'cuda' if torch.cuda.is_available() else 'cpu'\n",
        "print(DEVICE)"
      ],
      "execution_count": null,
      "outputs": []
    },
    {
      "cell_type": "markdown",
      "metadata": {
        "id": "AagGn8ySp_5L"
      },
      "source": [
        "Nessa outra parte do código, colocamos alguns parâmetros da rede neural, como taxa de aprendizado, tamanho do lote, número de épocas. \n",
        "\n",
        "Outros parâmetros importantes são o tamanho da entrada, que é relacionado ao tamanho da matriz de entrada e o número de classes que produzirá a resposta final."
      ]
    },
    {
      "cell_type": "code",
      "metadata": {
        "id": "Lvsqwj_aiz63"
      },
      "source": [
        "# parameters\n",
        "RANDOM_SEED = 42\n",
        "LEARNING_RATE = 0.001\n",
        "BATCH_SIZE = 32\n",
        "N_EPOCHS = 15\n",
        "\n",
        "IMG_SIZE = 32\n",
        "N_CLASSES = 10"
      ],
      "execution_count": null,
      "outputs": []
    },
    {
      "cell_type": "code",
      "metadata": {
        "id": "ykQZ6qKNVCoL"
      },
      "source": [
        "def get_accuracy(model, data_loader, device):\n",
        "    '''\n",
        "    Function for computing the accuracy of the predictions over the entire data_loader\n",
        "    '''\n",
        "    \n",
        "    correct_pred = 0 \n",
        "    n = 0\n",
        "    \n",
        "    with torch.no_grad():\n",
        "        model.eval()\n",
        "        for X, y_true in data_loader:\n",
        "\n",
        "            X = X.to(device)\n",
        "            y_true = y_true.to(device)\n",
        "\n",
        "            _, y_prob = model(X)\n",
        "            _, predicted_labels = torch.max(y_prob, 1)\n",
        "\n",
        "            n += y_true.size(0)\n",
        "            correct_pred += (predicted_labels == y_true).sum()\n",
        "\n",
        "    return correct_pred.float() / n\n",
        "\n",
        "def plot_losses(train_losses, valid_losses):\n",
        "    '''\n",
        "    Function for plotting training and validation losses\n",
        "    '''\n",
        "    \n",
        "    # temporarily change the style of the plots to seaborn \n",
        "    plt.style.use('seaborn')\n",
        "\n",
        "    train_losses = np.array(train_losses) \n",
        "    valid_losses = np.array(valid_losses)\n",
        "\n",
        "    fig, ax = plt.subplots(figsize = (8, 4.5))\n",
        "\n",
        "    ax.plot(train_losses, color='blue', label='Training loss') \n",
        "    ax.plot(valid_losses, color='red', label='Validation loss')\n",
        "    ax.set(title=\"Loss over epochs\", \n",
        "            xlabel='Epoch',\n",
        "            ylabel='Loss') \n",
        "    ax.legend()\n",
        "    fig.show()\n",
        "    \n",
        "    # change the plot style to default\n",
        "    plt.style.use('default')"
      ],
      "execution_count": null,
      "outputs": []
    },
    {
      "cell_type": "markdown",
      "metadata": {
        "id": "I5mEf_U-r6af"
      },
      "source": [
        "##Construindo a Rede Neural\n",
        "\n",
        "\n",
        "O módulo torch.nn.Module é o principal no design da arquitetura da rede neural no PyTorch. O PyTorch fornece vários tipos de camadas. Essa classe pode ser usada para implementar uma camada como uma camada totalmente conectada, uma camada convolucional, uma camada de pool, uma função de ativação e também uma rede neural inteira, instanciando um objeto torch.nn.Module. \n",
        "\n",
        "Vários objetos nn.Module podem ser agrupados para formar um objeto nn.Module maior, que é como podemos implementar uma rede neural usando várias camadas. \n",
        "\n",
        "A classe nn.Module possui dois métodos que você deve substituir:\n",
        "\n",
        "*A  função __init__ - Esta função é chamada quando você cria uma instância do nn.Module. Aqui você definirá os vários parâmetros de uma camada, como filtros, tamanho do kernel para uma camada convolucional, probabilidade do dropout.\n",
        "\n",
        "*A função forward - É aqui que você define como sua saída é calculada. Essa função não precisa ser chamada explicitamente e pode ser executada apenas chamando a instância nn.Module como uma função com a entrada como argumento.\n",
        "\n",
        "*Outra* classe amplamente usada é a classe nn.Sequential. Ao iniciar esta classe, podemos passar uma lista de objetos nn.Module em uma sequência específica. O objeto retornado por nn.Sequential é um objeto nn.Module. Quando esse objeto é executado com uma entrada, ele executa a entrada sequencialmente em todo o objeto nn.Module que passamos para ele, na mesma ordem em que passamos por eles."
      ]
    },
    {
      "cell_type": "markdown",
      "metadata": {
        "id": "e2yrYVq8ixf-"
      },
      "source": [
        "##**Lenet**\n",
        "\n",
        "\n",
        "LeNet-5 é uma rede neural convolucional de 7 camadas, treinada em imagens em tons de cinza de tamanho 32 x 32 pixels.\n",
        "\n"
      ]
    },
    {
      "cell_type": "markdown",
      "metadata": {
        "id": "jB_3DS4XmRAY"
      },
      "source": [
        "![lenet.png](data:image/png;base64,iVBORw0KGgoAAAANSUhEUgAABBoAAAFJCAIAAAC6nNn2AACAAElEQVR42uzdB1gT2bsw8JOEhE6A0HvvCCgCSlHEgiiIqAgoYMcKYll7QWyromJfUFdRFGyo2BUBRVBRug2RXqVJD2nzPdfzv7n5QJGtrvt/f7uPD5lMZiaTyeS8p7xHiCAIBAAAAAAAAAC/HRlOAQAAAAAAAADCCQAAAAAAAACEEwAAAAAAAAAIJwAAAAAAAAAQTgAAAAAAAAAAhBMAAAAAAAAACCcAAAAAAAAAEE4AAAAAAAAAIJwAAAAAAAAAQDgBAAAAAAAAABBOAAAAAAAAACCcAAAAAAAAAEA4AQAAAAAAAIBwAgAAAAAAAADhBAAAAAAAAABAOAEAAAAAAACAcAIAAAAAAAAA4QQAAAAAAAAAwgkAAAAAAAAAgHACAAAAAAAAAOEEAAAAAAAAAMIJAAAAAAAAAIQTAAAAAAAAAAgnAAAAAAAAAADCCQAAAAAAAACEEwAAAAAAAAAIJwAAAAAAAAAQTgAAAAAAAAAgnAAAAAAAAAAACCcAAAAAAAAAEE4AAAAAAAAAIJwAAAAAAAAAQDgBAAAAAAAAABBOAAAAAAAAACCcAAAAAAAAAEA4AQAAAAAAAIBwAgDwX6KxsfHOnTtXr16trKzs/SyT2V1TU/ObNvjo0aOEhISurq5/+BsnCOLVq1e9j5PFYpWXl/fxQiaT+eLFizNnzty6daumpoYgiD7WLCoq4nK5PfZbXFzMYrF+09E2NDQUFRX1WMjj8aqqqjgcDlzGAAAAIJwAAPzd3r9/P3XqVDk5uXHjxk2cOFFdXX3kyJHv3r3D5eOmpiZ/f39RUREVFRVJScmwsLDu7u6+N1hbW6ugoDBs2DAvL6+mpqZ/8nvn8Xjr1683MzPLyMjgL6yvr/fz8xMWFtbU1CSRSNu2bRMs9HO53IyMDC8vL1FRUScnpxUrVvj6+qqoqFhaWl66dInJZPbYRWdnp4ODw9ixY1taWvgL7927Jy0traurKyws7OPjU1dX15+wp7KycvDgwS4uLoLLjx49KiQkpKamJiwsHBAQ0N7eDpc0AACA34kAAIDfqKKiQkNDg0aj7d279/Hjxw8fPty5cyeFQjEyMuro6OByubNmzUIIhYWFpaamrlixAiF08eLFvrd5/PhxhNCKFStevHjB4XB4PN4/8723t7cvXbpUWFgYIZSamooXsliscePGIYQOHz788OHD6dOnI4SSkpL4r9qxYweNRhszZsyVK1dycnKKi4tfvXp1//59f39/hFBISAiXy8Vr8ni8vLw8Z2dnhJCNjU1TUxNeXlpaKi4uPn7c+JSUlDMxZ8TExCZPnvzNo01NTbW1tUUImZqa8hc+evSISqX6+Pg8ffr0wIEDCKHVq1dzOBy4sAEAAPwOEE4AAH4zDw8PhNDmzZsFC/0nTpxACEVFRdXX1+vq6mpqavLLxyIiItOmTet7m4cOHUIIZWdn9/MYKisr3759y99FZmZmcXFxj3W6u7szMjKePXvWOzjpaO/IysrquVEe8erVq6ysrK+Vrevq6rS1tUkkkpSUlGA48fz5cxqNtnTpUn7IoaysvHv3bvzwypUrCKGVK1eyWCwej1f4rrCuto6/zVOnTiGELl++jB+mpaVRKBRhYWEpKSlra2t+OOHj4yMsLPzw4UP8fkNCQhBC1dXVfZyiffv2IYREREQoFAo/nGCxWDja4a82fvx4ZWXllpYWuLABAABAOAEA+MvV1dUpftbV1fV/5XAer6Wl5ddffy0tLSUIgsPhNDc3EwTR2dmZlZWFENq6dStBEA0NDQoKCr3bRX/66SfcXkoikby9vbu7u7+2dwMDA2VlZQsLC7y+lZVVUlKSnJwchUJBCPlM9ens7CQI4s2bN7hWXkREBP975coVHo/3/PlzhNDcuXPJZLKkpCSNRlu+fDmTyeTxeDdv3sRBApVKxRX2LBarx95zc3MHDx58+PDhXbt2CYYTcXFxuIdSdnZ2cnKyYKDS1NSkqqo6atQogiCys7P5Rz58+PARI0bgUzFhwgQlJSW8/pkzZ4YMGfL+/XtHR0crKyt+OGFkZCQnJ8ffbGxsLO6zFBkZiRDy9PTk8XhcLtfX1xchdPXqVYIgli9fPnHixCdPngwYMIAfTrS3txsZGY0YMQJ/agRBJCQkIISqqqrg2gYAAADhBADgL/fs2TNJScnBgwfzy6M98Bfm5uY6ODgwGAxra2s87Lirq2vPnj3r16/v8ZKPHz+uWrUKIXThwoXy8vI+ejoNHjwYIbRo0aLMzMzt27YjhMTFxXfu3JmTkxMUFIQQKi8v7+7u9vHxQQjdvn07Ly/vUeojSUlJKysrFouVlZUlKipKoVBu3Ljx4cMHXH9/6tQpNpttY2MzYMCArKys169fT5w4ESF048aNHnvv6urC5fuff/5ZMJzYsWOnpKTknDlzZGRkKBSKrKzs/Pnz29raCII4ffo0QqimpqawsFBZWVlTU/Nh0sOMjAxzc3OEEC7W49jg9evXBEG0trbiiGjIkCH8cKK1tVVDQ0NbW5t/JLdv3xYSElq9ejVBEJ6envjNhoeHI4R27drFP6sEQXR0dBgbG/PDidbWVllZ2ZkzZ/I3lZ2djRB6/vw5XNsAAAB+BxiKDQD4bZhMJofDUVFRwY0JvVfgL/zw4UNlZWVHR0dxcfHr169xK8Hy5cvDw8P/U5/xv+Tl5dXV1RFChoaG6urqX9wsn4KCwtKlS62trce7j2cwGJqamqtWrbKwsAgODsbJphBCY8aM+eWXX1xdXU1MTBydHN3c3PhplJhM5rx588aNG6etrR0cHGxsbHz58mUymcxiserq6mg0mrGx8YkTJ168eDF69OgeuxYREZGRkel9SFVVlW1tbRcuXIiLi6urq7O2tj527FhKSgqPx0tNTbW3t1dSUoqJiampqYmMjHQe4WxnZxcaGooQGjVqFEJIS0sLIVRSUoIQkpSUFBUV7X3OuVyupKQkf4mYmBiZTO7s7EQIJSQk0On0wMDADRs22NnZLVq0iH9W8SjwHuPluru76XQ6fwnebFtbG1zbAAAAfgcIJwAAv422traUlNSbN296LOdwOJWVlfx0RgRBTJw4saSk5OPHj5qamri+XzDk6Dtm6IOMjAwuAdPpdBqNpqOjg3cnJyeHD4NGo3l4eEhKSgYGBjo4OCgqKsbHx+PeUHhNXJ2PD2DgwIEvX74kk8mhoaEEQZiZmSkqKi5fvryhoaGPLK49SEhI4FaO0aNHMxiMu3fvysnJHTp0iEQiffjwwcHBobu7+86dO6qqqhMmTMCbNTIyQgh5TvifI8H9wYyNjb+2fWlpaWFhYcH8S+3t7VwuF/fOQgjFx8d//PgRIXTw4EExMbE+jpxMJktLS7e2tvKX4ORRDFkGXNsAAAAgnAAA/OXU1dUZDEZ9fX2POSWqq6vHjBmzePFi3AsIT3RAEISkpGRoaGhra+vbt2//lAMQFhbGwxtwnygcJ5BIJFyGJpFInZ2dc+bM8fPzq6ur85zgmZCQMH78eDabzd+CYIU9k8nEwcD06dMfP34cFxfn5OQUHx/v7u6OR0T0Bw5pbAbb4LfMYrEMDQ0bGxtx5yI6nY6bPnAHJywhIYFKpWppa3E4nKSkJFlZWW1t7a9tn0qlSkpKCsYATU1NXC4XN2sghB48eID/SExM/FqrEUahUJSUlMrKyvhLPnz4gBBSUlaCaxsAAACEEwCAvxYustvb2zc3N//888+CbRExMTGvX792cXEpKysbN27csmXL+KV8HFrg7kwcDkewZP81nM++WMv+zZaNlpaWxMTEgICAO3furFq9aujQoRUVFfxNkUiku3fv4r/ZbHZGRoadnR2Xyx0/fvyzZ8+mTp168eLF3NxcNpv95MmTHj2FvgZHAteuX8Pb7+7ufvfunYODA0EQDAajpKRERERES0sLDwQnkUitra27d+8eOHAgQujKlYSrV68ePXq0712Ym5u3tbWlpaXhs40bNHA+2YyMjD179oSEhBgYGOzfv//Fixd9tE4ICQmZmZklJSXxl5w9e1ZOTg6PWQcAAAB+KyE4BQCA/sPl+MjIyKdPn0ZGRn769MnFxUVcXPzmzZsnT54cOXLklClTWCwWrtrfuXPnoEGDioqKwsPDJ06cKC4u3tHRsWnTpqamppMnT/a9o5UrV4oIi4RvDRcS+s23KQqFQqfTMzMzHzx4QCaT4+LicnNzJSUlcSFbRETk0KFDZmZmOjo6sbGxdXV1gYGBXC63qqpq4cKFVCpVVlY2JSUFIWRhYcHvItU3GxsbBweH0NBQcXFxdXX1mJiYpqYmHx8fMplsaWl55syZqKiosa5jHz9+vHjxYmtr682bN5NIpK6urrVr1x45cnjGjBne3t4EQfQRJm3bti0uLm7r1q2hoaFVVVVRUVFLlizR0dEpLy93d3fX1dX96aefQkJCjI2Nly1bdufOHTExsS9uh0qlBgQExMbGTpo0acmSJXl5eYmJiTt37hQcmAEAAAD8BjAaHQDwm+AuRtXV1fPmzcOlbQqFQiaTg4OD8XgDnBDW29sbjxgmkUjTpk3DTzU2Nurp6YmIiPTeLJ53Ijc3Fz9UV1c3NjZmMpm9MztZWFjgfEclJSVKSkpTpkzBT9XW1iKEXrx4wePxDh06RKVSRUVFxcXFnZyc8Bx5BQUFubm5FArFy8tLUlJSRERETU3t5MmT/JkrXFxchISEREVFRUREli5d2nvvfD0yO+ET4uzsTKFQREVFVVRUTp06hU/U/fv3hYSENm/eTBDEggUL6HS6mprapUuXcB4qPT29vXv3VldXR0dH4zkl+AQzO+FN3blzh8FgiIuLU6lUNze3lpaWrq4ufJ6vXLmCX/Xrr7/iefH422ltbRXM7IS3FhUVJSwsjEMOb29vnEsKAAAA+B1I/R9rCAAAvb1//57H5RkaGfJrKPjtGMwu5pu3bywsLMhkMn6KX/vOH+fAf/i1p3pUf3ztJYLr44cEQRQUFOjq6grW02dnZw8cODAuLm7q1Knl5eUaGho99tjV1fXhwwczM7M+jqT3rvlrdnR01H+s19LWEnz5zJkzz5w5c/78+cmTJ/feWktLi5+f361bt9LT04cMGfLFdyS45NWrVzIyMjizVo8Vep/SL54l/h9v3rxRUVGh0+l9nHMAAACgbxBOgL8Jh8Opra399OmT/Ge4fNmjMNTa2kqj0Xpnyfyi+vr6uro6FRUVWVlZOL3fq22zdyH+m0X/73JsPcKJ2NhYPz+/b76FP753/h8zZsy4ePHimM80NTXpdDqHw2lsbMzPzz9z5gxCKCIiwt3dve8D+KuPFgAAAPgdYCg2+Ds8fvzYycnJ2tp6+PDhAwYM8PLyqqys7LFObW2tvb39uXPn+lP6OX78uKWl5bBhw/A0ZL/Dtm3b+MOIwe+sjfj/y6B9PPz7S6v93GPfb+GP753fcBEdHZ2ent7e3r5q1SovL6+xY8eOHz9++vTp0dHRvr6+T58+/WYs8TccLQAAAPB7fkegdQL81aKjo+fNmyctLT1s2DAFBYVHjx69f/9eXl7+5cuXqqqqODxoaWmZNWtWQkJCZGQknoysD11dXbq6umw2e+rUqR4eHr3nGvumKVOmXLp0qbOzs58tIeBfg8vltra2SkhI4FSzfxvBUKGxsfHly5d0Ot3W1pb/LBTrAQAA/KCgdQL8tXJzc1esWCEnJ5ecnHz16tWoqKi3b9/u27evrq4uLCyMw+FwudzLly8PHjw4ISFBsOd9H3g8Xm1tbXBw8KFDh0aPHs0f+1tXV9d7ZTabXVpaWllZKbhlNptNo9H6+RZqamq6urr4D9vb20tKSjgczjcPsqa2ht8AwuVyS0tLmUxmj3Xq6uqKi4t7LMfnoaKioru7u8fy1pbWsrKy/iRaBV9EoVBkZGSoVOrfXJMiGCowGIzRo0fzY4k/OKnfb9Lc3JyTk1NXV9fH229tbe3nBcZkMnNzc0tKSvqZTvc7YjKZ9fX1vZezWCzByQF76+joeP/+/YsXL774PQUAAIAgsxP4q1MA7dixA8/YJZgUiCCIgICAkydPslistra2YcOGaWtrX79+nUaj7d+/n//yPXv24DESgtu8fv26tLQ0nodYS0vr/fv3jQ2Njo6OdDpdWlra2to6Pz8fr4nnMlNSUsJPOTo6lpSU8Hi8sLAwXHSTkJAoLi4ePHjwpEmT+Jlt3N3dTUxMuru709PTFRUVAwIC5OTk9PT0nj17RhBEaGionJwcnU7X1NS8du1a77fc2tqqpqZ29uxZS0tLSUlJNVW148eP37t3T09PT0pKSltb+/Wr13jNs2fP6urqSktL0+l0dXV1nJmnqalp0KBBAQEB48ePx8vDwsJwfiEulxsYGIjXV1RUXLlyJZfLhWsM9FNbW5ubmxuDwZCUlJSWljY0NHz58mXv1e7fvy8vL79z585vbjA7O1tPT09CQmLw4MF4wr5/LDabvXTpUn19fcGFHR0dkydPVlVVlZaWdnZ2Lisr6/GqkuISX19fGRkZOp0uISFBp9N1dHRwhi5B4eHhhoaG5v9LU1OzvLy8j4N58uTJ4MGD+esbGxsfOHAAvssAgB8ahBPgL8TlcseNG9c7auUHFQRBdHd345J6aWkplUoVDCciIyOFhYX5uUexd+/eLVy4ECHk4uKydu3a169fKykrSUhILFy4cOXKlcrKyvLy8rjydd68eQihMWPGrFy50snJCSHk6+tLEMTDhw/V1NTIZPKCBQtaWlp0dHRcXFw6Ojrw9u3s7BQVFbu7u1NTU3G1sZmZmZ2dXVlZ2fjx4xFCXl5eYWFh1tbWCKHHjx73eGstLS0yMjIIoUGDBk3zm4YjHwaD4eDgEBAQQKPRjIyMCIK4desWnkp5xYoV3t7edDodj1ZvbGw0MDBACBkZGe3Zs8fT0xMhFBMTQxBEREQEQmjcuHGrV68eOnQoQujXX3+Fawz0E26TcXV1XbJkyeTJk2VkZCgUSkpKiuA6zc3N+NJat27dN7/aeJrCadOmRUdH95FR958QR50/fx4hJCcnJ/g9dXBwoFAo48aNc3FxoVKpgwcPbmlpwc9yOBzcWCovL+/n53fkyJH4+PidO3fa29tTKBRTU9OSkhL+pqytrSkUisH/UlJSwm2hX4NzFuvp6RkYGBoYGOjq6kZGRgreEgEAAMIJAP4Ph8OxtbXFv+Lf/L0sLi7uEU60tbXhfhQ94hDcs+KXX34hCGLv3r0IoX379uEVXr58iRAKCwtjsVjBwcH+/v7819rY2Ghra+O/J02aRKPR8N99hxMzZszAtZt4FuFx48bh1Wpra7W1tVVUVHqHE5KSksbGxvjhmjVr8Ixs/P3i4Co6Onr48OFv3rwRLGEUFBR8+vTJwMCATqeXlpbipyZOnIiH8+IhJTk5OfjEBgcHJz1IglII6I/Lly8jhARr1q9fv44QmjdvHp56HFuxYgVuuPtmOMFms/38/KSlpft/DMXFxfxvWXd3d3FxcVdXV491amtr3759+8XgpLq6uq2trcfCpqamd+/e9d4OX0FBAa7RoFAoguEEfvtHjx7FD9evXy8pKclvrsGhe3BwcHV1NUEQgg2kDx8+1NfXt7W15b8XSUnJESNG9FFj0mM5vifANQkA+DeBsRPgr+0vrqGh0dDQ8DuGmRIEgbszkclkwakM8FBsPP6BIIjXr18jhNLS0qZ+FhYWRqVSHzx4QKVSIyIidu3aderUqeDg4KFDh2ZmZvK3gwMSwRERX2Nvb48QEhISysrKQghVVFT4+vpOnTo1JCSko6Ojtra2ubm5x0s4HA5uDMFtFAihgQMH4ocKCgr4j5kzZ969e7ekpGTjxo0eHh6rV69GCHV2dpJIJC6Xa2pqqqmpidccOXIkQRDl5eU2NjZCQkK2trbm5ubbtm1bs3rNCJcRMHgX9EdHRwf/X/wtcHd33759u4uLC4/Hw+vcuXNnz549c+bMEZwIPDs7m06n4/ZAQSoqKnFxcS0tLVJSUpGRkV/bb3l5uYyMzOLFix0dHU1NTVVUVK5evZqenq6mpmZsbKylpYWjdB6PFxcXp/2ZhYWFsrLyiRMn8BaMjY2DgoKsrKy0tbV1dHQEj2Tx4sXq6uoWFhYKCgrr16//4gEkJycnJSVt377dy8tLcLhITEyMiYnJ7Nmz8cNNmzbV1NRYWFgghF6/fr19+3ZfX9/IyMjW1lYLCwsVFRUFBYWLFy8OGzYsISHh3r17z549u3r1Kq4C6OrqwrOU8Mdg4HCFRqP5+vriJYmJiSQSKTw8nMfj5efn4xbIjo4O/smHnCgAgB8ahBPgrw0nbG1sEUK908IeOXLk9OnTfaRq7U+aUS6X29jYiBAqLi5++1lZWZmZmRnubhQREaGsrLx48eIbN26Iiorq6ur25zebzWYL7k5SUhL/8enTJ4RQW1vbmzdv3r59++bNG3V1dWtr66amph5b4PF4/GAAb4qfRIi/5aysLCUlJTc3t5MnT5aXlw8YMIBfpODxeIIzaYiIiOAwZtq0ab/88outrW1LS8umTZuUVZRjY2OhFAL6Y4LHBDU1td27d7u5uZ09ezYvL6+ysnLNmjXe3t744qyurvbz8xs3blxAQIDgC6lUqrKyMv5CCVqyZIm+vr6MjMzy5ctxzPy1SoGurq7Dhw/zeLw5c+aIiYn5+vqOGDFi0KBB06dPb25u3rBhQ2dnZ3Fxsa+vL4PBCAkJmTlzJolEWrhwYW5uLh5CHRUVRSaT9+zZM3r06KNHj65btw4hdOLEicOHD48aNWrTpk2DBw/etm3bkSNHeh+Ai4tLQ0PDmjVregwWLy4uNjMz27t3r6GhoZycnI+PT2NjI4VCwS05PB7v3Llz+fn5dnZ2Hz9+XLRokZmZmbe396NHjywsLLS0tCZNmoTbRQsKCng83tWrV8lksqSkpI6Ozs2bN0kk0qhRo5ycnOLi4m7fvl1VVeXp6WllZYXrIIqKitra2qSlpSUkJISFhdetW9fR0QH1AgCAHxs00IC/1J07dxBCHh4egn2WSktLcZ19a2trH52dvgbXAh46dIggiKVLl+JcNPipjo6OY8eO3b59u7y8XFxcfPjw4a9evWpqbCIIwt7eXlVVFa/m6elJo9FwdwVDQ0MHBwe8BR6Pp6ampqyszO/sFB8fj19y7NgxhNCBAwf4nRbOnTt3/Pjx7u7uHp2dhIWFd+zYIdjJ5NKlS/ghrlvt7u4ePXo0mUxOTk7G3axjY2MRQunp6S0tLXp6enh8Be7WhbtGcLnca9euHT9+HJ+oBw8eyMrKmpub99g7AF/sYEMQxIcPH2bOnIkjVRqNZmxsvHLlyvb2dpy0wMvLS0lJqbGxMSMjg0Kh8Ds7sVismpqaHr2M8Ab9/Py0tLT67ttTWloqLCxsbGyMv2t4VpklS5bgZ93c3FRVVWtraxMSEjw8PKqqqvDyTZs28b81mpqaqqqq/O5GI0aMUFRUrK+vDwwMFBYWvn//Pu7ytHPnzps3b36tx1F3d/ekSZMYDAb/KUVFRQkJCRUVlf379m/cuFFYWNjc3Ly6uprNZhsYGPz8889cLnfKlCkkEunVq1f4JbiOoLi4GB8hnkp848aNCCFnZ+dLly5duHDB1NQUIfT8+XOCIMrKymRlZU1NTU1MTMTExPAIsfr6eiEhIWVl5V9//fXmzZve3t4IobVr1wp2OQMAgB/Ojx1ONDc1V1fX4Btxd3d3WVl5j060HA6nsrKqqakJ/7SUl1dUVlZVVlZVVFTW19dz2P/fHbympra2tq7HLjo7OsvLK3g8Xkd7R0VFJX55j/8Fy8Sgh7a2tgEDBpBIpPnz5+OyS3FxsbGxMYlEwvFAH+FEQUFB7/J6j3Di/PnzJBLJ09MTP4UnGI6JiSkqKkIITZw4ES+Pj49HCCkpKeGHU6ZMERISwuMThg8fTqPRPnz4gF+Oq2N7hxMlJSVUKtXIyKi2tpYgiMzMTDExsSFDhvQ4tv6EEy0tLUOGDMG9m/ApUlJSQgglJSW1trYaGBgICQnhl9TU1MjKylpbWxMEMXXqVIRQYWEh3pSCgoK9vT2EE6D/EQUO6VNTU2fPni0uLo4QmjNnDofDuXbtGkLo6dOnBEGkpaUJhhO9i+YYnvVFU1Oz7/2WlpbSaDQ3Nzf8EH+ncAxAEERISIi8vHxZWRmPx+vs7Lx58+batWvHjBkjLi5OpVLxV09dXd3Pz4/FYuEDOHz4MJlMzszMTE5OxjViurq6mzZtwt/Kr+kdTsjLy+Mc0PhhVFQU/gKyWCwKhfLs2TN8k5k/fz7/vc+cOVNaWhpnhpg/f76GhgZBEEwm8+XLlywWC2/n6dOnQkJCOOUDQRAPHjzAB8m/rXG53Pfv3zc3N/OPRPcz/kgMAAD4EQn90E0rc+fNvXTpUkpKyrBhw54/f+bo6GRkZJSXl8fvW1JRUaGtrT116tS4uLj29nYNDfUeW7CwsIiMjBw2bBhCyMBADyFSWVmZYMv+lvAtO3fuZLPZv576dfHixV88jNWrV+N0qKB325eEhERcXNz06dOPfaasrIyLyAsXLly0aFHfLz9//vy2bdvGjx+vqKj4tXW8vb1v374dHx+voaFBpVKLi4s9PDz8/PxaW1vHjh2bkJBgampKoVAqKyutrKyys7M7OjrExcUtLS0vX76spaX14MGD9evXe3h46Ovrq6urt7e3q6iofHEWCC0trV27dm3ZssXIyEhPT+/FixcqKiqJiYk9Zij7ZscthJCUlNT48eNzcnLU1NQMDQ1fvXqloaFRW1v7/PlzHJ/QaLS5c+eGh4cXFRWpq6vfvHkTITRr1qyXL18aGBiYmJgUFxeLiYktWbLkb56L7b/Bq1evvjmpyN9GTExMR0dHcDDD7/PgwYOSkpK5c+cSBOH02b59+xwcHK5du3bw4MEZM2bQ6fQdO3aQSKTGxkYej3fx4sXW1tZ9+/bxd/27e+Pwy+58OJJBCJHJZPxvfn7+yJEjP336pKGhoampaWtrm5KSIvh9IZPJ+ADodDqPx2tra3N2dr5z586BAweKiorCw8PDwsKOHTsWFBTUz6NSUVGR/wx3F5w7d+68efOKioocHR25XK6oqCiepMLNzY3/3l+8eDFgwABRUdGWlpanT5/i8VEcDkdTUxNPY0IikVRUVNTU1N6+fYv3oqysLCQkxOFwNDQ0+D0hZWRkpKSk+DeNUaNGnThx4p8/cQcAAPThxw4nxMXFRUVF8Q8ehfI/7+Xt27fLly8/cOCA4M+VmJgY/ychNDTU3d2dx+ORSKTi4uLly5e7urpWVFR8nkxAuvcucM91hJCnp6eBgQGZTO7s7AwODm5oaEhKSmpra0MIaWtrw5X0tWI0QRDGxsZJSUlZWVlFRUX19fW6OrpGxkaWlpY9CuKKiorXrl0zMjLivzwwMHDgwIE416ogYWHhGzdu4H4FZDL51KlTs2fPfvv2bVtbm6Gh4ZAhQ/BUZSdPnkxLS/vw4YOampqZmZm6unpKSgr+2Q4NDbW0tKysqNTR/p//njx5gqtmHR0dORxOQ0ODkJCQmZnZ9evXcUJY/EaWLl06atSovLw8fOXY2Njg+k7BkpaYmNjVq1f19fXxw6FDh964cQNvBCG0YMECV1dXhNCKFSuGDBmSl5eHU8eam5vn5ubS6XQ2m83j8YyMjI4fP/7gwQOzzxQUFAiCGD169O3btwsLC3Nzc/X09PT19fE5BH+ujx8//nNmCZSWlubxeH88nDh06ND169dNTEwcHBzw905SUtLOzi42NpbFYk2ePBkPCyaRSMLCwviC5xf6/4paBsE/xMXFfXx8uFzuzZs3BwwYoKiouHHjxocPH/JnCn///j2Hw8EnITk5WVZWVktL6+TJk2w2+9q1a7W1tW/evJkzZ86yZcvmzp2L7/nfZG5ufunSJS6Xizf74cMHhBC/0M9isfDbx90yEUJ3797Nz88PDQ0VExPbvn17QUHBqVOn8KQTt27dSkxMxF2hWlpaGhsbbWxsEEJNTU2urq54souAgICkpCQbG5u8vLxJkyZFRkZ6eHjgLRcUFKioqPzxjxgAACCc+NPgwuXUqVNxQp7ejAyNnJ2d8S/ZiBEjmpqaVq1adevWrR4DEHtT/Qz/YIiLi7e0tODfDPDNiALXKY74rEd5okdBfOzYsYKv1f/sC1etkBBO/sjfCK5w7bFxRUXFyZMnC77Qy8uLHyXieke8voWFRe/wRlZW1t3dvccbMTExwWEMf0c9am2FhIRwwIApKSkJHioOD/AIV+fP+E+5uLjgIghOamn1WY+96H2GjxwGYf91V+zfNkd1P4vdf9ykSZOuX7/u6+t74cIFW1tbMpl8+vTpqKioUaNGCQkJ4a4+WHp6enJy8pQpU8LDw3EGglu3bunp6fV9u3vy5ElJSYnLCBdlFeXfccKrq6vxEAsFBYWioqKoqCghISEc1JHJ5KSkpOzsbDs7u8LCwjNnzlhaWmpra/v7+7948WLgwIGDBg2iUqnCwsK4EaOfO120aNHZs2cXLlyIczTPmDFDSkpKTU0N36xycnJwHqr9+/dPnz69uro6MDAQf50jIyPXrVsXEhJiZmZGIpFw08q2bduioqJwX6y2trZVP63Cu6isrDx+/PjAgQOtrKw2btx45coVDQ2N0tLS0NBQHE5cvnw5LS1t+bLlOIoDAIAftfj9L3s/sbGxHR0da9as6ezs7E8xF9d8907OA/6KoOJrD/+iffWxlx5po/rzki++8M86Ib9jTUgFA/oflgQEBOzdu5fD4QwdOpRCoZBIpBkzZtja2u7evRs33vaIYfhXV2Fh4bRp0/pIBYtFRET4+/u/zHrZn+PpURPPZDJXrVrV0NBgYWHh6OhoZ2c3cODAz8Pe/pMOTkZGxsnJydTUdNCgQdra2jhvwdGjR1VUVGxtbQcMGKCnp9fc3Lxt27Z+xmAEQQwYMCA4OPjUqVOqqqoqKir5+fk7duwwMzOjUCg+Pr5bt25ls9mHDx9mMpmysrLDhw8fN26cuLj4qlWr1q9fv3jx4uXLl7979669vX316tUjR46Mjo5WU1PT1NQ8ceLE5s2bBw4aePHixbi4uAkTJsyaNcvS0jIsLOzu3bunTp2Sk5OLiIior68nkUgmJiaTJ092dXUNWRoCrRMAgB/av611ws7OLjIycsmSJRs2bMBTEfXA5rBxctK2trbMzEz8M4nnHgbgu5OUlDwQeYBKgxER4E+OKHA/z7q6utzcXCkpKQMDAy0tLdyPTjA0NTc3T0lJ4Xf7MTY2fvz4ce/BSxQKZfPmzbi3J0Jox44dy5cvNzEx6bGaoqJicnIyf+yEhYVFcnIyv31vyZIlU6dOlZaWDgoKGjhwYE5ODpVKNTc3t7S0fPLkiYqKCs5p5uzs/NNPP+EhRsbGxjg/m7m5eVpaWlFRUWZmpqGhIZ6R+mujmISEhMLDw1taWvihuJiY2J49ewICAt68eSMmJqavr29ubo4bQ0JCghMSruCWnJSUlLq6OgaDYWxsvHDhws7OTgaDoaSk5O/vX11d/fTpU2Fh4StXruTm5ubn58vJyZmYmOApLK2srJKSkvgTzqxdu3b48OESEhJ4drxRo0a9evWqra3N9DOcJAoqCAAAPy7SD91lYsaMGRcuXLh3756Dg0NGRsbQoUMLCwsVFBTGjBnz7Nmzp0+fqn02c+bMkydPtre38+cQELRx48awsDCEkLq6OkIoLy9PcCh2WFjY5s2b2Wy2kNB/Qq+WlhZ7e/vq6mpo0+h/UYbJZDY3NXN5XHl5eRqN1qNPAo/HY7FY1dXV2dnZtbW1+vr6AwcOlJKSotFogqtxuVwWi1VeXi4uJi6vIE+lUvnbYbPZbW1t1dXVurq6VCoV17/2cUgcDqe7u7uqqkqaLi1FlxIWFsbr48yYHe0dDY0NqqqqIiIif2etoWCRAooX30tKSkqPuUe+4xeHTqdbWVn9WQPu/7EXVY8rX7B5RENDY8iQIWfPnsUn4Wvfkd/31nq/Ci+JioqaP3++oaFhTEyMubk5HgiOn3r27Jm3t3dNTU1eXp65uXmPLfTzMODbDQD4l/kXTmNHp9N37twpJiY2f/78urq6Hs+OcB4RHByMW6t//vnntLS0sLAw/AMmLCzM4/F6JHXB88iC343D4Vy4cEFTU1NdQ13js+vXrwsGsXV1dZs3b9bS0jIwMFi1atWxY8cCAgIUFRXd3NySk5P5CU/YbPb69eslJCSMjY3VNdTV1dVjYmLwUyUlJWPHjmUwGFZWVmJiYgsXLuydmklQY2PjwoULJSQkDA0NFZUUDQwMEhMT8fS02dnZtra2DDmGoaGhhITE+vXrv9lr7s8M7v+knlQAfPMC+8ceWI+BK330k/zj35fer8Jhw7x581JSUoyNje3t7TU1NUeMGDFx4sQRI0ZoamqOHDnSwcEhPz+/dyzR/8OAbzcA4F9G6F/5roYPH77us97zpPr5+c2eM/uLN3cZGZlPnz41NzcLpjUsKyuDXq1/RHZ29ty5c3Fm1fr6Bi+vicuWLRs6dKiCggKeLRtn1sIJYcXExCgUCpPJLCkpWbx4sZubG+5/jBCKjIzcuXOnn5/f+vXrmV3M4JDgmTNn2traGhsbBwUFJScnHz16dPTo0VeuXFm5cqWlpSWe4aE3giBOnDgRHR29YcOGwMDAhoYGLy+vefPmvXz5UlZWdt26dbm5uampqZqamitWrNi5c+fAgQOnTJkCnyMA38Xp06fpUvS/+SaM0+na2tqWl5e3tra+evXqw4cPurq6pqamUlJSmpqauOEUogIAAMDI/8p3RRDE2rVrraysTpw40eOpPtJ7W1tbNzY2Pn70mL9Od3f31atX8SxscK38vg/i2rVrbW1tuDf2oEEDIyIiaDQaPxGnh4dHbW1tamrq4sWLRURECgoKuFwug8EwMzPLzs52dnb29fXFTQ1paWl4KKSxsbHVQKuQkBCE0O3btxFCb968UVRUDAoK0tHRmTZtGp1Ov3//PkKoubm5vr6e/2k2NTXhKaiSk5OlpaW3bNmio6Nja2u7fv36urq61tbW7u7u3NxcnCRKU1Pz559/xqmHIYcSAN/rBjJ8+HCrgVb9T9n0x/GbR4SFhfX09AYNGhQQEBAWFhYQEDBo0CA9Pb0enTABAAD8O8MJ/GNw8uRJBoPR/1etWbNGX19/SfCSlStXRkVFHThwYPDgwSwWa8GCBX/nj9m/CY/Hu337to+PT1NT07lz506dOqWjo/P27VuccvfEiRP5+fmxsbEDBgxYtWqVmpqap6enoqJiYGAgzj1/9sxZERERXKzfsmXLxYsXBwwYgAsZuA+SnJwcTt766dOnCxcu1NfX37lzp6WlxcXFhc1m+/r6KigonD9/HiH0/PlzBoMxfvx4nCr+3r17/Ouku7v7f74JJLKIiIiVldWLFy9evnxZW1uLM0jq6upCMAnAbw0DOjs7O/6wzs7O6urqGzdufK+JBb/YGwo+XwAA6EHoX/x7ZmlpOXfu3J07d/ZzfQ0Njdu3by9atCg6Orq9vR0hJC8vf/jw4dmzZ8NPyO/28eNHBoMxZMgQPNuulJTU1q1bFy5c2NXVdf78eQ8PjzFjxmzfvn3Xrl3BwcFhYWFv3rwZOnQoQmjKlCmyDFknJ6crV65s2rRpwGe4s3Jra+vmzZulpaX9/Pzw5Nnu7u6BgYFycnJNTU2enp6BgYFUKvXUqVPm5uYbNmwwNTWdNGmSmppaTEwMhULBk8rhTRUUFKxZs8bOzk5JWUlERGT//v1OTk4uLi5iYmK1tbX+/v6Q9QuA337/RdnZ2X88BiCTyc+fP1+3bp2Tk1N0dDSeKg4AAMA/zQ+c2embKT7+SA6Q9+/fi4qK4lmNBDONCL6Wx+NBq0XfOByOjIxMe3u7t7f36dOnX79+7eHhwWKxcnJyaDSaiorKo0eP9PX1ra2tCYIoLS3Fp9fS0jI3Nxdn05o9e/aNGzcEh9S3tbUNHTq0oKDg9u3beMK42NjYoKAgJSUlHR2d/Px8CQmJ69evGxsbI4SuXr06ceJESUnJ9vb2o0ePBgUFCV4/RUVFo0ePbmhoiI2N9fDw4HA4a1av2R+538DAQFFRMTc3V01N7fLly3p6evBR/vfoO7MTiUTKzMzso8/kn1zfIyQkLi7ex/1KSkrK19eXn3fuH4LH4z169OiPhxMEQVAolHfv3u3evbu6uvrAgQPe3t69p8kHAAAA4cQ/LkoRbNGGjH5/BJfLVVFRodFoFRUVeMmTJ08cHBzS0tL09PSUlJRqa2ubmppMTExiYmL8/f3x2R45cmRTU9Pz58+5XO7w4cPFxcUfPHiAP4usrCw/P7+KiorDhw/PnDkTIVRUVGRubm5nZ3fv3j0qlVpbWztq1Kimpqaqqiq8tUmTJl25csXKyiorK0vw07x3797cuXM7Ozt/+eUXPFt2TU2NiorKsmXL8IwlhYWFgwcPHj169Llz5/6sTJ3gRw8nyGTyvXv3/s6+N33fohkMxsqVK/9p1+efFU7gt6+srKyvr3/s2LF9+/YpKCiEhIRMnDixx+x7AAAAviOoXO8VYPWZphD8VkpKSniEAy4V4UaDlpYWfiGpvr4eITRo0CD+2U5NTR0yZAiZTC4qKsrNzR07dixes7CwcNSoUeXl5cnJyTiWwJmjmEzm1KlTqVQqQRBKSkru7u7V1dXl5eW4WxQelp2fn5+Zmcn/NOPj4z08PPCwbC8vL3wwaWlpCKHFixfjozUwMJg8eXJqaiqe9xAA/j2B/Dei9Om/oYGUxWJRqdSQkJCCggJHR8cZM2a4uLiUlJTApQgAABBO/DlqamqePn2akpJSUlLS1dXFX04QRFVV1cuXLxMTE9++fcufD/VruFxueXn5s2fP0tLSiouL+amHcO+ad+/eJScnP336tKSk5HsNCvxBC152dnY5OTmNjY24KH/r1i2EkKmpKX7Y1tamra2NEDp37hz+1IKDgzkczuDBg5ubm2fNmiWvIL98+XKEUHl5uZmZmbCw8IsXL2xtbfnRiIyMDI1Ge/nyJd4dh8MpKytDCCkrKyOExo4dy+Px9u7dS6PRlixZ0tbWRhDEkydPZsyYoaKikpSUZGZmxm+ywEeSlZXFD2wKCwvl5OSgSxsA3x1BEOLi4hEREVlZWSwWS09Pb8uWLbgyAgAAwPf1Yw/FvnHjxpIlS0pLSyUlJdls9uzZs/ft24fb/U+fPr1u3brq6moGg9HY2Ojg4HDhwgVcxOyNx+PFx8eHhoZ+/PhRQkKCIIgVK1asWbNGWFi4vr5+4cKFly5dotFoLBaLTqevX78+NDQUJqPoV7RKJi9YsCA+Pt7R0XHp0qWtra1btmyZMMFTTk6Ow+Ho6OhER0dv3bp19OjRBw4c6OzsrKqqunv3LkIoLi4uMjKyurr66tWreA67BQsWcDgcdXX16OhoHNFxOBxXV1d3d3cbG5szZ87g+YMzn2eeO3cuODiYSqVu3749PT191apVoaGhNBpt8eLFu3fvDgsL27BhA5PJNDY2PnbsGE7rxGQy165Za2pqOnjw4ICAgMLCQnV19YcPH6alpe3atUtYWBg+SgC+e90EDirMzc2fPn166eKlnT/vjIuLmzdv3pw5cyQkJOAUAQDAd7tF/7hjJzo7Ow0MDDo7Ox88eGBqahoREbFu3brMzExra+uamhodHR1lZeXExEQtLa34+PjZs2ePHTsWV4331tjYaGlpyeVy37x+IyYu5u7u/ujRozt37jg5OR08eDA4OHjHjh2hoaEtLS3Dhg2rqKjIyMgwNzeHq6efnjx54uXl9fHjRxqN5uTkFBcXx2AweDze2rXr9uzZ/f79ezKZPG/evEePHrm5uR04cMDGxubTp0/Dhg2LiooqLCzMzs62sbEJCAgoLS3tseV169Zt3bq1o6NjxowZly5dEhISIpFIoaGhYWFhlZWVlpaWioqKHz58wKUQd3f3mzdvvnv3ztDQsPdBZmRk2NnZlZeX+/j4ZGRk4HBxy5Yta9asgQ5v/1W+OXbi/v37f9tQ7G+SlZVdvnz5v3vsBIPBsLS05DcS8psTOzs7IyIiwsLCjIyMzp8/D/dkAAD4Xn7g1onCwkI1NbVBgwYNHDiQIAg/P79169bduHHD2to6KytLVlbW29vb1NQUIeTp6RkREZGRkYEQevnyJY/Hs7S0pFKpHA4nJycHd4whk8l7du+hS9MRQitWrLh79y4ePfz8+XNNTc3Vq1cTBKGgoBAeHj5lypSmpia4dPpfGrC3t6+rq2toaMCDKPBCMpm8atVPN24kOjk5JSYm4kYJrKqqCq9z9epVX19fZ2fn5cuXf62rNO4CcfHiRR6XV1xSzM/CpKenh7P98gPmGzdu8F/ytU1paGikp6ezWKyamhqclZL47L82ouByuYWFhe/evXvx4oW+vr7xZ5KSkvhZDodTXFyMP1xVVVUtLS082XnftQAvXrx48OCBmpra9OnTYUAt+K34X0YxMbENGzb4+/vPnj3bysoqODh4+fLl+GYOZwkAACCc6Fch1dLS8smTJ7iasKKi4pdffkEIubm5IYQcHBzu3LmjoqKCV25tbW1vb1dSUkIIhYaGPn78+Pz58z4+PrGxsTNmzFi8ePHBgweLioqoVCqPxysvL4+KihIREdHQ0EAIhYeHs9lsfoGyqKgIISQiLAKXzm/97ecPyMaD3QmCkJGRuXz5cmhoqLOz87Bhw2xsbHR0dCQlJT99+vT+/fu0tLSMjIwFCxbgaey+Vqb/TxcIRJApZBxL9Fiz/5EAvzcFjUbjxxL/5U0Tq1atOnLkCEJIXV29oaGhqanJw8PjwIEDmpqaPB7v9OnTa9asqa+vp9PpLS0t9vb20dHReLT91762Fy5cmDlzpqKioqOj45QpUyCcAH/wh0BLS+vBgwf37t3bsmWLjY3N7NmzV678SVIS+j4BAACEE/0o+eGU5BQKZWv41rAtYVwud8OGDThBEJ1Oxw3fuDh45MiR8vLy2NhYhFBCQoKKisqOHTuMjIxmzpxpZ2e3detWhBDuLRAcHHz48GGE0LZt2xwdHRFCWlpa/J0WFBRs3LjR0tJST18PCpp/MLrAn6ChoWFiYuK9e/dWrFhx8+ZNLpeLl4uLi5uZmWVkZPCnwe77bJPQn5aMC/J68RUVFUVERIwaNerChQsSEhIUCmXBggW//PKLxQCLLeFbmpubf/rpJykpqby8PCUlpePHj8+dO/fIkSP79+//2sgigiAyMzMRQrW1tVwuF2qRwZ/yQ0AikcaMGTNixIiTJ0+Ghob++uuvZ86cGT58+D8v+kFPnz0tLS3V0dEZNGjQHxmA19XV1djYpKamCtcAAADCiT+hYEoQhKKSYmBgYFZW1rFjx2xsbMaPH89fp6OjY//+/bt3754+fbqfnx/uhhsfHz9x4sQhQ4ZISUnt2bOHTqfz15eXl/f393/27NmRI0ecnJzs7e35BcoXL15MmTJFQkJi+/btDAYDLp0/6xMkk8ljP0MIVVZUlpaVGhoaysvL8wugPVL3gr9NSkoKQsjV1VVaWhp/EPv377979251TTWTyWxra+vu7t6yZYuSkhJBEHPmzFmzZk1OTg6Hw+nq6srIyFBSUurRnf3hw4eFhYXy8vLJyckaGhq6urpf3C+TyUxLS1NWVu7s6Ex7kqapqTlkyBBRUdH09PS3b9/q6ekNHTpUTk6OIIi6urp37969f//+48ePpqamVlZWuFHx8ePHUlJSnZ2debl5DDmGkZGRmZkZ3vibN2+ys7PLysqMjIxMTEy+OJAG/OXlaoJgMpn9GblHEISwsHBDQ0MfwaeQkBCdTqdSqUFBQW5ubqGhoW5ubtOnTw8JCTEyMvonpM3o6Oj45ZdfNm7c2NHRgbN6SEpK7tu3LzAwEE9BOHv27JMnTwrOd/Tu3TsDA4OvbTA+Pn7mzJkpKSnDhg2DywkA8P1LdP+aaew+fvzo6upaUVHBTx3Y2NgYFBR0+fLlOXPmHDhwQEREBFdlEQQxduzYe/fuubu7X79+vfcs2jU1NcbGxs7OzhcvXsT3+kuXLs2fP59Go128eNHe3h6aJv6K4kWPUwon+bt7/eq1qZmprq7uihUrxo4dizuAVVZWUqlUeXn57u7ukpISPT09Go2GEGpvb5eXl3d3d4+NjX379u2AAQO8vb3j4+MFN2hvb5+fn89isQwNDRcsWDB//vwv7reiokJTU1NBQYHH40lKShYXFw8bNoxGo6WmpsrKytbW1gYGBkZHR/N4vKFDh+bn5+vp6XV0dJSXl1tZWd26dUtJSUlNTa2jo4PNZltbWxcXF3d2dp49e9bV1TU3N9fZ2ZkgCGNj49zcXBERkcTExKFDh/YIomAo9h/0zaHYLBYrLy+vs7OzP1ujUChUKrWPu4GamtrUqVNpNBr/ppGenr5p06aXL1/6+/tv3rxZRkbm+56QOXPmnDhxws/Pb8GCBSIiIhUVFXv37k1LS8PdbhFCRkZGra2tW7duJZHIn3PZsaZNmyYuLv61DZ47d27atGmPHj3CregAAPB9/cCtE01NTbdu3bK1tdXX10cIKSgoDBo0KDs7u6KiQl1dHSHk7+9/+/btkJCQ/fv3/1/8RCIVFxffu3cP15Xm5+ebm5s3NTVdu3bN29sb376VlZUdHR0zMjI4HI6QkNDFixe9vb1VVVWTkpIMDQ2hmPuXxLW9Timc5O8e4JmYmhw9enTBZ3gKQj8/v2XLluEBD6KioiYmJvz1p06dymQyJ02aRKVSNTU14+Pj8RdTcINpaWmzZs26f/9+bm5u3+NhxMXFOzo6bty4MWzYsK1bt27YsEFbW7u5qVlMXMzExOTRo0fNzc23bt3KyspKTEzEDZI+Pj6XLl16/PjxlClTREVFcdLh0aNHNzU16enpLVmy5NWrV4cOHeJwOGlpaQMGDMjJyXF0dNyxY0diYuKfeNIoFIqFhcXfNiaEQqE8e/asjxXIZHKPeOkfgvnZn3LOpaSkcL0Yv2Jo6NCh9+/fv3Tp0owZM06fPn327Nnx48d/r1v3kydPTpw4YWlpefDgQRzYWFtb29vbm5iYrFixwsfHh8lkVlZW2tvbz5o1q/e7+2YLLX7vTU1NOTk5ioqKOAEJf7lgRizBoWtcLjcnJ0dVVRWPKuTXtZHJ5JqaGg6Ho6amBjdhAEA//cB9lzMzM/39/desWYMffvz4MTc3V1RUFMcSY8eOvX37dmRk5P79+/FdEq/W0tIyfPhwXV3dq1evstns5cuXd3Z2FhYWzpo1KyYmBq9TX1+PU8FSKJT09PRp06ZZWVmlpaVBLAH+qwI8giDmz5///PnzZcuWDR8+vKOjY8OGDUpKSg/uP+DxePw1W1tb5wXNu3Xr1uzZs729vRFCUlJS3t7eVlZWgo2f/PJKPyNGY2PjYcOGEQQxatQohFBYWJiY+P+U0V1cXD59+tTe3j506NDExERTU9OCgoKMjAxlZWUul4vnsuTxePb29vjlsrKyixYtqqysfPfunb6+fltb2/79+2/evEmhUN68eZOYmPint9CKioqK/11ERES6+tTPFoB/X90EQRCTJ08uKyvz9fWdNm3axIkT09PTv0uzUnR0NIlEWrZsmaysLD8wYDAYsbGxZ86cQQjl5OSwWCwGg3Hz5s0zZ86kpKTgrHQIoUWLFlEolKioqD62f+3aNTU1NTk5OU9PT3Nzcx0dncLCwoqKCgkJCWtra/5qx44do1AohYWFHR0dK1eupFKpI0aMUFFR0dXVffbsGUEQtbW1FAplypQpKioqGhoaT548gdvg17BYrKqqqurqasEZb7Guri48nZFgvMdhc/A3kc1md3Z++avK4XB6PMtisQTvTjwer6uL2XuPLBaLyewmCKK7u/uLG+/s7PrnNKiCf6sfuHVi9GcJCQkTJkywsrJKTk7OzMw8e/YsQujkyZN37twRExO7ePHilStX/vNWhYQePHgQFBRUWVkZExMzYcKEgwcPBgUF7d27d/Xq1S4uLsuWLUtNTTUwMLhy5Upra+uiRYuoVOrKlSvZbHZXV9ecOXNw2z2TydyzZ4+DgwNcPeDfrbOzs6GhYfBnTCaztrb26dOnQUFBIUtDHj16hEcQtbe3e3p6Jicnb968Gc/RIRhy/+7Ym8fjqar+Z5gp7vuOqwlwelCcwVZPT+/QoUOrV69ubm7GXdIpFAr+9SUIQldXl0wm4wOwsLBgMpkVFRWLFy+uqKg4fPjwr7/+qqysbGBgcOTIEcE2lh+39Ay+GA8zGAzcwrZ9+3Z3d3c3N7dt27bhbnt/m7dv3woLC/MbDfhX9ZgxY/Dfr1+/5vF4V69evX79Ok4kOHHixLi4OBKJ5OXlxWAwvta+RCKRmpubg4KChIWFMzMzxcXFc3Jy/Pz8tmzZEhsbO2XKlJiYGP5MO9HR0U5OToaGhnv37o2IiNixY4e3t3dnZ+ekSZP8/f2fPn1KJpMlJCQuXboUExMjJCQkGIoAvu7u7m3btj18+LCxsREhpKqq6u/vHxgYyF/B1XWshoZ6VFSUqKgof+HBgwdjzsRkZ2fHnI45euwo7kTdw6ZNm6qrqw8fPoy7j+KWJRkZGS8vr2nTpomIiFRWVgYFBRkZGe3bt0/whTjj9vHjx5cuXZqZmdl74xwO9+DBA0OGDIGPD0A40RMusty5c8fHx+fy5cu3bt2SkJA4deqUn58fQigrK0tUVJQgiJcvX/LXFxMTS01NvXHjhrOzs7+/P0EQAQEBFy5c2LBhw9y5c8+dOzd58uTLly/jBKYXLlzw9PRECD179kxERKTsM37dQ1tbG1w64F/P1dU1LS2ttbVVUlJSREREU1NTS0srPz9/+/btra2tDAYDNxEUFBRs27aN3074Z5Vu8XiAr0UmYmJiq1evPnjw4KhRo1atWuXu7p6QkDBr1ix+ZV5nZyf/b1ztKiUlRaVSIyMjd+/eHRMTc+rUqdTU1JEjR1ZXV8Nn/W+NKPAfAwYMiIuLu3nzZmBgYEJCwunTpydNmvS3RWIsFotMJvPTS/RWVVVFJpNnzZp16NAhhNDkyZMvXLjg4eExbdq0kZ99rWcgbu5btWqVvr6+tbU1HuFtYGBQXl6OEBo3btyZM2dOnz69ffv2j3Ufs7Ozz58/z+FwTp06JSUltXr16u7ubiqVumXLFh8fn8rKSiUlJRaL5eXl5e/v/1t/jvsT6/J4vH7m1RDsuvaPwmQybW1t8/LylJWVBw4cWFZW9vjx45SUFCEhIT8/P3zAmZnPP31qFhw4RBBEcUkxnuSqo6Ojrq5OSEiIIIjKykqEEE66TSKRcJ+37OxsJSUlERERfOW8ePHi1q1bTCZz0aJFTCYzKyur95CkrKwsaWlpHo/X3NyMN87lcisrK6U/wx3berdpAADhBBLMDxgfH89msxsaGpSVlflf3UOfffGFglObiYiIPHjwgP/Uo0ePcL4afN/H63xtNCH0egL/emPHjk1LS1uzZs2mTZvk5eVJJFJlZWVqaqqOjo6EhERXV5evr++bN28OHz6MB1fwsdnsiooKSUnJPopQ+MeyrKxMWlq679W+iEajXb16VUNDIy4uTlZWlsPhXL9+nUQi4TZ9Mpmcnp6O5yJks9lnzpxRVVU1NzefMWNG4bvCy5cvz/vMxsYmNzeXzWb/04Yyg7+iBmrcuHHV1dXh4eFz586NjIxct27dyJEjv1hP/OdWe5mamubn5xcWFvJb2LC6ujoKhSInJ7dhw4aQkBApKSm8fO/evcnJycePH582bdoXy+WCZGVl3dzcbt686enp+eHDh4qKipaWFtxy6O3tvWTJkrt3727fvn3turWysrLW1tYEQVRUVODGPcEfsuzs7PHjx3M4HCsrq9/6Nt+/f3/58pUeGbRIJDR69GgLCwsej5eXl1dQUFBWVqauru7i4sJvePya6OhoOTk5Dw+Pv/TT+R38/Pzy8vLWrl27bds2vKS4uHjixImBgYGqqqr9yU0cHBIcHBKMb5I6OjpiYmLv3r3jP5ubm0sikS5cuMAfYf/69esxY8asXr160aJFfW+5s7MzLi4O/93S0qKgoDBnzpxdu3ZBoQVAONHfmicqlYpjif4nFf3iOgRBiHzWr4kO4GsJ/u1CQkKSkpIOHz58584dbW1tPNigsrJyz5498vLyNz6jUqm//vrr8ePHcUWpkZHR6dOnS0tLXV1dJ0yY0KNRvofS0lJ7e/t58+bxf5v7j8Ph2Nranj17dvbs2ba2tg8fPkxOTsYDOfDXs7q62sPDw9XVNScn5/nz50ePHqXT6c7OzufOnXP3cB89enRhYWFWVta4ceMglvhvgGugaDRaeHj4nDlzIiIipk6dOmTIkP379xsZGf2lP1J2dnZnz57Nz893cXERjKU3bNhw+/btzMxMLpf74cMHJycn/LtDoVCkpaX5wyf63n5RUdHYsWOrqqp8fHyWhizV09cTbKObP3/+9u3b05+kx8bGurq66unpsdlsPLJoxYoVOPbGZ8bY2JjH4+GxRr/1bebk5Kxdu4ZGo+FfT/6xMRgMCwuL+/fvT58+vaurS1lZuaioyNjYOD09XVpauo8NhoeHGxoaurq6/qPCicePH9+5c8fR0RHfr/BJ1tHROXfunJOT09y5c9+/f9//rX369InH431xSENHRwe/TGJiYjJ58uT9+/f3GI/Rd5mkpaUF98uCQguAcOIPBRh//OXwxcNVSnAe/mkkJCS+Nl3Dnwv3D0xKSlq6dGlCQsLTp09JJJKmpmZ0dDTOP/P48WMxMTEREZEPHz7wrxkGg0EQBI/Ha29v/2LeHgkJCX5Jgsvltre39/6ZxD2GJST+M7GxkJAQlUrlPxQTE5ORkenq6jpx4kRZWdm9z4yNjUtLS01NTfHB4Byy3d3dBw8elJOT27lz5/z58/HkGEwm8+DBg4cPHxYREZk+ffqpU6eg0u6/J6LAf2hoaBw4cGDy5MkzZsywsLA4cODA9OnT+8jK+gfhSXX27ds3YcIETU1NMplMEMT79+9Pnz6tq6urpKTk7e198eLFtLQ0e3t7hFB1dXVFRQXu48TlcnGCwS/OnkEikdLT00tLSyMiIpYtW4YbCpqbm/khwapVq7Zs2fLzrp+ZTKa7uzt+ia6ubllZGc5wgBB6/vx5aGjooUOHvtlo8DU4edSuXbtCQkJ6P7tg4QIymdzY2CgsLLx169aNGzdGRESEh4f3sUEqldrj/XK5XB6PJyQk1M+vKi6p914f9/z5fVFKeXl5V1cXbjISvGloampaWFgkJ/8/9v4DLIqr7//Hd2a2UnbpICAiHUERK3bFjo2oIKI0FVtUUHPH5PtEE6NJNCoWVBQQFBsqiib2goq9YwUFBFFAabuUhe3zvx7O/95nf5QVZah+Xvd13ZeZGWannDPn8z7nU64WFxdTUpNKmbJCoVBIpdInT57Q6XQWiwVdGAA5AbRJPn78CHWLWxUkSRoYGDSz7bWlmuLiYg6Hg8Kg0VC3vpo6/9bBwaGgoKD2Kh+O48gLEZ3B0dERJWJSPYwkSVNTU+RVjLZ3795dIpEo/+rXatDBycnJZWVlBEEgW1AgECh/y8jIKDExUSgUol3oVCRJLqomPz9f6R4JfIO6giTJwYMHv337dtOmTWvXro2MjFyxYsX48eMpz/BLkqSVldW6det++uknT09Pb29vS0vLvLy8devWsdns6OholGT55MmT33///cqVK2k02l9//aWhobH6t9U0Gu3YsWPHjx9ftGhRfeXquFwuQRDnz5/v1q1baWnpzp07+dUoZwQmT5584sQJHo+HIiIIgli4cGFwcLCfn9/06dNR0hFTU9POnTt/dv5bPaiT1uDMmTNZb7OOHDmCrOHvv/8ewzBUUzI7O3v//v1eXl5qVodIknz+/PnNmzczMzPLysrs7Ow8PDycnJzOnj2bkZHh5eWl7MU7d+7U1dWdOnUqQRDnzp27d+9eYWGhg4ODp6cnirz/559/cnJyOnbsePHixf79+0+dOvVLDfRPnz7RaDSUuUH1s6alpdW5c+erV69mZ2c3Xk6QJHns2LGnT5+SJFleXn7t2rU7d+788MMP0G0BkBNAWwUlxoGJ21YlJ5r/daAfVR0mG34N9R1ZY3t9C4NqDlNeGPI4rx27qVAoxGKxqpZQjbn6UvdIoF0qCgzDli9fPnv27A0bNqCViujo6BopmCiR5T/88IOlpeVPP/30yy+/0Ol0mUzWs2fPnTt39unTh0ajTZkyJTIyMiQkxMfHB8dxOzu7y5cvm3QwQfnQExISPDw86pQTCoXC09PT398/NjYW5XWdOXOmsbHx4cOHy8vLtbW1aTRacHDwiRMnAgICGAwGuuWgoCChUPjzzz8nJCSIRCIbG5uoqCgdHR1kLlNLUlKSrq6ujo7OihUrHj9+3LVr17/++gvZ8a9fv161apW1tXV9cgLDsMLCwpEjR1ZUVPTo0ePTp0/R0dFxcXHJycnFxcUhISFoYYdGo7158+b7778PCgqaPn368uXLN2/e3KVLl86dOx88eHDdunXPnz03MDSIiYk5deoUh8NBNftV41IaCHJMqu2ehNZjUTQmGjdrx6Z/UTbq/fv3o+8Sl8tFK2lz585Vfem1mwH0aKDlLUZ4BAAAfIUkaFUXVkMVGBkZqRZCbqBcAVoVyMnts6AEwVKpVFI/daa1UZan4PF4f/zxx+PHj8VisbOz86pVq1AOUAohCGLatGlZWVklJSWPHj0Si8UPHz7s06ePMq9xYGBgaWnpq1evCgoKnj9/jmKmSZLctGkTSZJBQUGq9ihJkr6+viRJDho0iCTJmJiYqqqqR48eCYXC3bt3Hzp0iCRJbW1t9Ceo3MH//M//KEUUjuMhISGVlZWpqan5+fnp6elubm4kSRobGysUioULF35dJZb169d36dLFsRo7O7sff/yRRqO9e/eusrJy9uzZkZGRz58/37x5s7m5Obqk/v36nzx50t3dvb4TMhiM+Pj4goKCBw8e3Lhx482bN56enm/evHn48KGfnx+DwUhISEDGPUoQP3PmzIyMjLCwMHd396dPn/7777+nT5/m8/mBswKV+aYXL15MkiRKH/+lt2lsbIySPdbYLhQK379/T6PRUOFOHo8nkUhqLPUUFhY28GuDYdjly5fRGQoLCx89erR48WKUOha19tqJJQsLCzkcDrgSAC38xYZHAACAesRicVVVVb3RkyStqqoq/2O+QCDg8Xjm5ub1eRGQJCkUCpGtU3uvTCarrKxU5rf5LKWlpTiO13mqy5cv4zjeOr2NlRZkc4ouNUWsMBqGE63OECEIwsnJqYGNgSCIx48fqzHXWCwWWgdQI0odHBweP34cGxsbFhaWkJCwePHi6dOnq48Y/or3rltNjZUx5TUge7TORTM1khglEUFz/KoLmNevX09PT//zzz8nTZpkZGRU+7SWlpZ1rux9ncy2sLBwdHRUOv2jBcDi4mKxWOzm5hYREWFgYLBly5alS5eGhIRERUVpc7UnTZqkZtFVJpN5enr27duXRqNdvHjxU8EneTUo3WJISMjGjRujoqKQr5elpaW7uztygzQ0NDx+/LhUKpXL5bq6usnXk9EJORzO5MmT0Y1/xUpv3759DQ0Nd+7cGRgYiKQF4s6dO1euXJkwYQIy+q2srF68ePH+/XsDfQNa9S8oFIpHjx6hp90QkAto7bePEr+mp6dXVlYqvfJyc3MrKio6dOgAwRUAyAkAAFopCoUiJCTk1KlTYrG4W7du0dHRNUqAffz4cdWqVadPnxaLxTKZjCAIXV3dmTNnLl++vLYtKJfLR48ePWzYsLVr19Y2tpAX+7t37xqSW6a4uLhXr15BQUGrVq2qPRjb29sHBASsWbOmFc7YyeXy58+fo9QrzcPdu3fVvF8ul7t06dJW2PbYbLZqIbDPKt7PaqrPmvvIEcjLy2vHjh3Lly9H5Q579+5Noa5ryCV9qZlbnxI4fvx4RESEkZER6m4N9Dz8ary9vX/88UdlanXU9Tp06MBgMIKDg1HQV2ho6P/8z/88ffpULpcrg63ruwCFQqGrqxscHPzgwQOxWIxhmI6OjrJU5fTp0zdu3BgXF+fu7v7gwQMUlJWbm0uj0RISEpTla6VSqZaWVlFREYZhTCZTmZP6K+7a3t5+1qxZ69evnzBhwqlTp5BeOnjw4IIFC9hs9o4dO9Bh8+bN8/PzCw0JPXjooLm5OUmSoaGhmZmZP/30UyOfsK6ubq9evV68eDF79uyIiAgdHZ2ioqLAwECUPUxZ/A4AQE4AANC6GDJkyM2bN0ePHi2Xy69duzZ8+PCMjAzlYJ+YmOjl5aWvrz906NABAwZ06NAhOzv7n3/+Wbdu3alTp06fPm1ubq601SoqKpYvX3779m03N7faP5SWlrZ69eqqqqo6AzprmH2FhYVeXl7Z2dnIa6IGkydPzs3NLSsra7YVgC8FeTI0m6uVmkeqUCharY/EF72+xj9Mpe+TpqbmihUrAgMCfab79OnTB0VIGxoaNv5ByeXyq1evdurUCa1CKAX5p0+fPnz4YGNjY2RkpKOjo1xQysnJycjIMDY2NqrmSy/gt19/mzhxoru7e51ZoSiHIAgcx2sYtTY2NrJqlFuYTGYDEzRpaGjMmDHj4sWLwcHBU6dOHTVqFFrcQA3D0tKyR48eO3bs0NTQpNFoqPSNgYEBhmEnTpzw8PBAP4oSihgYGKC/asyjIEly3bp1xcXFBw4cMDU1NTY2Lisrq6qqMjc337p1K1IOyOfq8ePH4eHhHTt21NLSQgl/XV1dkZ9VIxtqbGxsWlpafDV6enolJSUEQQwbNqxG5R8AADkBAEBrASWvVNZs2rJly7Jly+7cudOvXz+UKcXX13fevHk//vhj586dCwoKDA0MMRxbsWLF9evXFyxY4O7ufuvWLTQdmJSUtGzZsmfPntX5Q0KhcNq0aWiJ/7PD7b59+/744w9U97f2eL979+6bN2/Cu2tZMAwzNTVVyOuNEBWJRK2z3IdSVBibGF+9evXff/9dv3597969g4ODFy1apBqQ8xVs3Ljxp59++uuvv5QT1QkJCT/++GNWVhYyDfv06RMfH9+5c2cajRYdHb106VINDY3KykoTE5Po6Gg1YQZ19gV9A32UDbYFUyH7+/uvWbPm2LFjI0eOZDAYp0+fLi0t7dOnD47j5eXlL168sLe3V7Maee3aNTs7u23btrHZbIFAsH//flTyWVm/b+3atat/Xx0QEIC01vDhw9evX3/s2LHRo0ezWKxXr15Nnjy5S5cuysWKxkvcqKiogICAu3fv5uTksFgse3v7IUOGqOpDkiTXr18/atSo7Ozs1NRUDofj6Og4ZswYVf8olA/q999/r5GyduzYsXp6eo6OjvX9OoZhV65cQYmtsrOzjYyMunbt+t1336Ey28q3rKuru2nTpq5du8K3CAA5AQBAC3PgwAE6nb569Wr0n99///2sWbOQ/4lMJvPz8/P19d2yZYtAIBg8ePCTJ0+4XG5UVNR//vMfR0fHkydPOjo6rl+/fuPGjcgl4P379zdu3JgyZUrtPCRBQUE5OTkBAQH79u1DW3bt2rVo0aJffvll1apVOI6HhYX9/vvv/v7+27Zt+/333zkczokTJ8aPH1/jPJ8+fQoNDV2zZs3KlStb7dLENyInVA2s2lRUVLRm3wxl3qcJEyaMGDEiPj5+yZIlkZGR0dHRo0aN+grTXCqVLl++PCIiArncoI3FxcUo7vnevXtOTk4XLlzw8vIKCAhITk7OyMhYvHjx2LFj4+LiZFJZv/795s6dq1wYbLguqv3vZsbGxiYkJGTr1q0vX750dnZOTEw0NjZGRSfu378/YsSIo0ePenl51ffnQ4YMOXz48JgxY3r06HHmzBlUJ05Z5c3Hx+evv/56//799OnT0ZaRI0eOHTt2//79WVlZtra2Z86cKSgooEpLKB/jwGrkcjmGYUjGqMafYBjGYDDGjBmDlphUj1FNh83hcGbPnq26nSTJvtXUpwBRs9TQ0Jg6dSoqoIFXU/t4bW3tRYsWQSVsoDmBVAAAANSBXC4vLCy0srI6ffq0s7Ozjo5OQEDAx48f0aQyStuycuXKyspKR0fHtLS04OBgR0dHT0/PV69e6ejo2NnZjR49+vz582jNISQkpLCwsH///jViglGS9RMnTqxevRqNo4j58+e7ubmtXr369evXqamp69atMzQ0RMokPDz85cuX3bp1q3HBCoXCx8fH1tb2P//5T52ZfIBmtsjV0/qvH/2Dw+EEBQVlZ2f37NlzwoQJs2bNysrKUvXeaQgDBgwIDw/v3bu3qsp9+fIlh8OZOHFinz59NDQ0Ro0a1a9fvzt37qCad1KpNCQkhMfj6Rvor1mzJjMzE+1qhejq6vbo0cPExKT2LpIkt2zZsmbNGrFYfOPGDTTvgNInoIqcPB6v9l9169bN3t5eJBLt2bNnypQpeXl5p0+f7tGjR0VFhZOTU3FxMSrg7eTkZGpqamVlhQpZoJ87e/bsypUrS0tLr127ZmlpeezYMVQpwsbGpkePHhTGKyPnLtXW/tlj1Iu9hihA1YPpdHqdJ69PVQJAkwKrEwAA1EFZWZlQKMzLy1u+fPmsWbMUCsWGDRvu3Lnz7NkzDQ2Nf/75Z+TIkVZWVuPGjRMKhadOnRozZoxUKh0+fPiNGzdQjvzx48evWbOmuLjY3NzcxcUFzdHW+JWCgoLQ0NCAgICQkJC///5bdVdcXNygQYOmTJliaWkpEolu3LjBZDJJkhw3blydqYpWrFhx8+bNa9euwbsDqIUkSX19/ZMnT964ceOPP/7o2bNnQEDAzz//bGRk1MAzuLi4/PbbbzVqLLi6uv7777/IBwbDsKqqKoFAgIzyt2/f0mg0pXeTpaUlk8lMTExEfoat7eEMHz780aNHdc6Fo//8pRrVmpIoURJab6nxVyRJnjx5UvmfCQkJQqGQyWSiiYznz58rd6WlpRUWFs6cObNGPe/fqyktLUVaRVl2U3l+MLIBAOQE0FqQy+V37txpniA/4P96LJ2enJxcnyePQqGwtbWdOHFi438Izf8JhcKwsLBJkyah4r4zZ86MioqaPn16YWHhmDFjsrOzb9261bNnT7Syz2AwunXrduPGjWHDhtFotPT0dA6Ho346MCAggE6n//nnn7VtFCsrq59++ik0NDQtLW3fvn12dnZq7IArV65s3bp12bJlAwcOhEYCUIvS92nQoEHnzp07e/YsqhwXERGhdLNRz65duwiCeP36tWoL19bWRots6OR79ux5+fLlrl27FApFRUWFlpaW8mBONR8/fmydD6fOf9fozhiG1agpWd9f1ZAWqn+ourdnz555eXkikUi1YrTSawjDMKWWaHhOra9DKpVmZ2dbWVnVGA2LiopIklTmkgIAkBMAUPcIIRAIWmc8Zft+7Oo1HlWZ8rlcrra2No7jSJxgGObs7Mzlcp89ezZ+/HiRSNS5c+e3b98KhUKls69EIsnKytLR0UEJnc6cOWNpaalmNL158+aFCxccHBwWLVpEkiRyjA4MDJw+ffrMmTMxDLO3t8dxnE6no3Kz9dkBUqk0KipKKpXm5uZOmTIF5Y05d+5cVlbWoUOH6vSmAICvNprHjRv39u3b5cuXz5s3Lz4+fuXKlS4uLuq/hLWnXVRPKBKJdu/e/fPPP0+cOHHevHkVFRVyuVw1SS6DwSAI4rNJz1oVCrlCIpWwWKwajkDKvFUymeyzrkd1ahWkEGQyma6ublhYmL29fQ3N0JxxIyRJrl27Fi2GKFNjp6WlTZ48OTU1FdUzOXLkSG3nTAAAOQEA//elhlXjFjRr6hzbqHojDAbD1NSUJMm0tDSUaaS8vLyqqsrJyYlezcePH7t06cJgMPLz89GFpaenX758GTkjhYWFpaen//777+oVi5eXF0EQKKZQObPIYDAwDPv48WNISIiJiYm9vf2CBQsGDBhgampa3zNxc3PDMEwqlRLVoPMQBFEjcUpbQU9Pr3kilVFIaGFhoZpoEyaTiYoGAMqVCh6PFx0dvXDhwg0bNowYMWLy5Mm//PJL586dv6L3VVRULFmyJDY21svLKzo6mkajaWpq8ng8gUCgPKayslIsFjekHktrQCaTRUREXLlyRVghNO9ovnz5cmVsg5KwsLBLly79888/aKbgK76BN27cIAhCU1OzBZ2X8vLyfvvtN1RKT/Ua5s6dK5PJkpKSJBLJ0qVLhw8f/ubNm0amBQMAkBMAALRJAgICEhIS1qxZExcXh2HYoUOHpFLplClT9PT0tLS0rl+/7uvrq62tnZSUlJ2dzePpjB07ViKRODk5HTlyZMWKFcOGDfPx8alvsCdJslu3bkePHlVu2bBhw9OnT/ft24e8yf/666+0tLSbN29yuVxXV9dJkyY9ePCg7q8YnR4aGqq65ciRIx4eHlu3bkVFr9qc6LWxsaGwHvNnSUlJUbOXx+O1Tjnxpcm71B/f8EaiPLJHjx6HDx++fv361KlTDx06tHv37oCAgC9tb3PmzDly5MisWbP27NmjnBHQ09OTSqVisRjN31dUVAiFQvXJsloP27Zt++GHH9hstqWl5ZWkK+fPn797965q+ctnz56tXbu2rKxMLBZ/hZxQTkZ86YujlqKiogEDBmRnZ+vr66tqv3Pnzt24cSM+Pn7o0KEYhoWEhMyfPz8uLi4kJATGFADkBAAA3xYkSY4fP37u3LlxcXHW1tYcDuft27fh4eFWVlYogePRo0fXr18fsTNi/oL5VlZWTCZz7NixNBpt7dq1bDbb19c3PDw8NTXVwsICuT5/1npT9Y1OTEzctm3b/PnzBwwYgBJDhYWFoQywX2rzwQJaw59V40325uTOnTsVFRUNfL+nT59Wc49aWloNb1o1/nbIkCEf8z+uXLVy2bJlu3fv/v3334cMGdJAL1AfH58jR46sXr161apVqu2/f//+hw4dioqKQn6Aly5dotFoU6ZMaf1tqby8fM+ePXp6ekVFRTQabfv27YsXLz516tSSJUvQAZWVlfPnzy8rK2vrvUYqlZqamqLP3dSpU1Vbmqampp2dHXqVXl5e8+fPr28qBABATgAA0P4Vxe7du4ODg1NSUhgMhqurq7OzM5o93b59e7du3WbOnHny5Mlkp+RPnz5xuVxnZ+dXr14VFRUZGxt37NhxxowZBQUFx44dU8oJgiASExPrTCiJTKsePXoglwBzc/OkpCSUDwplhhk/fryWlpayirOxsfHly5ctLS3rPNXly5fNzc1bbb1ngBIU1TReLpIk+aWJX1WVGEmSBJ34888/AwMDd+7c6eXlNXjw4NWrV3fv3l393546derEiRNMJvPy5cvXr19HckImkyUnJy9cuHD9+vVr1qzJy8vj8/nR0dFr1qyxsLBoE0ttCoVCGTHVs2dPtEW5d8GCBTk5OcqUuG0XQ0PDCxcuaGlpxcTEqG5/9+6dpqamMpIeuajx+fzWXIEeAEBOAADQJCgjGXr27NmrV68a5ZaMjIzOnDnTq1cvGxubw4cPDxw4EBl2KMX7i+cv+vXrl5aWFh0dbWFhoTwnjuODBg2q7xctqkH/7t27t+ouXV1dlC1KCYfDGT58eH2nqnEw0F6bKFXhW405ifJvbW1tt2zZ4uPjM23atN69e4eFhS1YsEDVqx5Zk8qw7JcvX6It9+/fV7XF0TmfP3/er1+/9evXEwQxduxYtEzR+rUEh8MZMWLE9u3bf/nlF3d399DQUA0NDfRZQF6IcXFxmzdvzsjIaOtygk6nq2bfUlJVVcWoRrmFIAipVCqTyVpz6UYAADkBAEDTiooa/0Yzsj179rx379769etHjBjB5XLt7Oz09PTKy8uzsrLy8vJGjRoVExPj5uYGWd6BOk0xBweH+mLrURvT0NBoc52FJEk3N7d3795t2LDhzz//jIyM/P33NaNGjUQRw7a2tmgJAv3//6um9nnQXh6P9+rVKz6fT6fTUd23NgFBELNnzz569Ogf1aAQLKT8c3JyfvzxR09Pz9DQ0DnBc9pr2zYxMXn+/LlqbgO5XM5ms5kM0BIAyAkAAIBaMqNPnz7x8fGZmZkCgeD169cZGRkdO3Z0cXHh8XiWlpZsNrs1e97Xh7a2tkwmq08CgbtC4yFpJJvNnjBhgppjZDLZ48ePS0tL25YWVVao+M9//uPv718dnO3v4uKyceNG1aLv6m9Kda8yHVBbkeXl5eUzZswgCCI5OdnExCQ6Ovrvv/92dXUNCQlZsmQJnU7//7sGke22edvY2CQmJpaXl6P/RNVCDAwMaDCpAoCcAAAAqBMGg2Fvb49Stf6fvfhf06fNrUugVRf1x5w8ebJ2TW7gC2zudm1YKdu8kZHRqlWrfKpxc3P7+eefV6xYweVyv65TtJWuVFhY+OrVqxs3bgwcOJAkyfXr11+9evXEiRM2NjanTp0aMWLE6tWrCYJAock//PBDYGAgSrfQbhg8ePDvv/+enp7u6uqKYVhiYiKNRqudKhcA2hkw0wYAADX2U5szfdqu0QY0kZisTSPbkp2d3ePHjyMjIxMTE/v27btv376SkpJ2/AyfPXuGwpSVT8DR0TEjI0Mikbi6ugoEguvXr1+7di0vL49Go12/fh1VrWlPTWj48OG9e/desWJFQkLCsWPHwsLCnJ2dFy5cCP0LaN/A6gQAAADQfuw5VKjki1aQMAy7c+dObfEgl8vt7e2NjIwacz0YhgUHB0+bNi0qKmrx4sWbN2/esWPHwIED2+XzRz5dISEh58+fR2mOjh496u7uPnLkyCFDhiCBwWQyFyxYsH///osXL5qZmbW/h3DgwAFU2p8kyY4dO548eRJ5fsJsBdCOgdUJAAAAoB2Najiu+YVoaGgIhcLKumikY5syGZq2tvby5ctR1bNBgwbNmTOnqKhINYNq+8DIyCg0NPTChQtmZmbjx4+3trbW0tJavny5lpaWnp6ebjWampoox5Gurm4DC3S0Zvk6a9Ys9H5Vl6QePXqUk5Pz8uXLzMxMa2tr0BJAuwdWJ4CmRV9fn8FgtMWQ3LaIQqHQ0NAoKipSzStSG4IgDA0NYXhro2AY9vHjx2aL3xAIBHS6upFCS0vL2tpamf8UUCMq9PX1k5KSTpw4sWnTph49eixatCggIACVgW8nJgWdvnHjxh49ejx48IDP5/+/n//fd5O/c3V1rWFPT5w40czMrM0l76rvzdYpM4yrUX8YAHyjckKhUDR+tgZoheA43kS5CK2trblcLjzh5hzenj59qv4YFotlYGAAI1zb7a1v3rypqqpqtjf4+PHj+naRJGlpaWlhYQFyoiF9E1nVkydPHjVqVGRk5MqVK7dt2zZlyhQHB4dGvk2SJHV0dKZPn96y90iSJEEQfn5+M2fOlMlkaPGhxnQSSZITq2lDGauokhkAAHKChqrKP378uLKyEh5ce4IkSU1NzcGDBzeR6QO5NZv/hTbyAKCVo1AomvMlqplCIkkSJpi+wsrU0tJatmyZoaHhH3/8sW3bNicnJw8Pj8b4PgmFwsJqvvvuOwaDwWQy2Ww2i8VqZpmnWp1G6chUw7aus5oNAADfkJzAMIyoBj4B7cz6hJlFAACA5vzqYhjm5+dnamoaHR2dm5vbyGmX0tLSW7duXbhw4ddff9XV1TUyMjIxMenQoYOJiYmhoaGJiYmpqamZmZmpqSl87QEAaGE5AQAAAABAI1E6Pg0bNkwsFl+7dg2tOH31VJ2pqamPjw9aLNLR0XFxcXn69OmrV69u376dlZUlFosJgqDT6SwWq3Pnzra2to6Ojs7Ozi4u3Tt3toTXAQAAyAkAAACgvVnbXC5XTQg4Wipv6/eI3EE9PDz4fP5nQ57Uo+pWWllZKZFI1qxZo9zL5/NfvXqVmpr6ppqXL1/eunWr/H8pw3HCxMSkU6dO9vb2Xbp06dq1q6GhIYvF4lSjoaHB4XC+TYdVkiSrqqqOHj366NEjuVyuTN/UmKehUChGjRo9dOgQ9ekNAADkBAAAQHvGyspKTeIsHMdREkygMRAE4eDgoP6YK1euCASCtu55i1YkZsyYYWBgkJSUpFAoGn9HBEE8fvxYLpdPmzZNmZJ1QDXKY1CsRVFRUXFxcUlJSV5efnZ21pUrV2JiYgQCgUQi0dDQ0NfXNzQ0RBmKTExMzMzMLCwsOnXqZGJi0v6UQ/VDyMvPz/9UTXFxcWFhYXFxcVFRUUZGRmVlJUEQ3t7e2trajQwWOnPmdHFxkaenJ4vFgp4OgJwAAAD4FgkICFCzVy6XP3z4EPJVAA1E6fU0cuTIysrKO3fuUHXalJQUoVA4f/78OgUMKrhhaWmp3EiSpKIa9I+3b98+ffr02bNnyGMqJydHKpWiiXkul2ttbW1vb+/s7NytW7cePXo0ptJf81NYWPjy5cvXr1+np6dnZma+e/fu/fv3ZWVlyofA4XDMzc07depkbW09ePBgZ2fnjIyM1NRUFovVeLFHp9MfPXqkUCi8vLxgjQIAOQEAAPAtot7HBupVtX6Q0dyQI+VyuaQaNcczmcxG+gIpvZ6+++47kUj05MmTxrci5AyWnp6+d+9eHx8fNptd4+dqH49hGLoR9OtO1fj6+iqP+fTpU1pa2ps3bzIyMjIzM9+8eXPv3j2BQMDn89lstqGhYadOnWxtbR0cHBwdHXV0dDgcjpaWlqampra2NioxUVRUVF5eTtV7RLlx9fX1lS9Ltf6gSCQSi8VFRUVZb//3f9nZ2Tk5OYWFhQKBQCqVav8XPT09R0fHkSNHooWXzp07W1tbqz4uxMiRIxMSEh48eND4jGpIQN69e5fFYo0bNw7WKACQEwAAAADQlsAwTCAQpKenN0QDkCSZmZmpxntNIpF4enpaWFhQYhxjGDZ9+nQdHZ2rV69SoksJgnjx4sXhw4dnzpzZ8PrTtX8XXQzyehoyZIhye1lZGb8agUBQWlr6/v37zMzMq1ev7t27VyAQVFVVaWho6Orq6unpmZiYGBkZyWSyDx8+aGho8Hi82ib7171KW1vbioqKgoKCwsJCPp9f9l/odDqHw9HV1TUzMzM3N+/Xr9+0adN0dXW1tLS0tbW51fB4vDofS50P39PTkyCImzdvNj5oB8MwFot148YNPp8/bdo0LS0t6JgAyAkAAAAAaDNIJJLi4uIGGoV8Pl/NXrFYTJVjm9LrafTo0QKB4MmTJ1Sd9sWLF9HR0QsWLGjMSeo0uJFR3qlTJ+VG1WOkUmlqaurjx4+fPXv28uXLmzdv5ubmKgMPtLS09KoxqMbIyIjFYn3R3D+bzUaRHrq6up06dbKysnJzc7O3t3dwcHBycqqzMGsDFVqdh9Hp9O+++04ul9+6davh2kyd+UWnp6WlHTt27IvEHgCAnACAOigpKWlM8SbgK2AwGG/evFEzsmIYZmdnBw+qjaJQKAwMDJrt5zQ0NAQCgRp7iCAIHo/X2nzAWqFPmtLrafr06QqFIiUlpfHXibyeMjIyYmNjfXx8OBxO0z091Y0kSTKZTJdqVI/58OFDcnJyYmJibm5uaWlpUVHRhw8fRNWguntcLnfatGkNCXcWi8UzZszgcDgWFhaBgYE19ENTuB2SJDl16lQMw+7fv0+J1xONRktJSSFwYvKUybBGAYCcAICvhCCIp0+fSiQSeBTNzN27d9W/l3Xr1sFTaqPI5XJXV9fmTO754sULNXs1NTV79+4NUacNt1mR1xOPx7t+/TpVX9qXL18eOHAgKCioeV5EfQsa5ubmvr6+/fv3j42NFYvFCoVCLBZL/otIJBIKhQ2cYCJJEoVkZGdnb9q0ycvLy8nJqUnlIjon8nq6ceMGJamKWSxWytOUsvKyGTNm6OrqQvsH2ig4PAKgNYABrYZGjsRke6TN2aPN3KfgC0a5zYphmIeHh7Ozc20noq8c7HE8LS1t165dLXtf6HYsLS3nzp2LijmwWCxtbW19fX0TE5POnTs7Ozs3UE4oT0gQRGVlZXx8fM67nGborTiOe3p69uvXTyaTUfJzdDo9Ozv70KFDYrEY2j/QRoHpIgAAqITP579586bd1L1Cpo+xsTG8WaD5Z1gCAgIOHjyYkpJCVWR2dnZ2TEyMj48PmtdvqVsjSdLMzGzu3LmHDh2qqKioMYvxdXdaVVUVGRXp5+dnb2/fDNc/depUHMfv3btHldhLT0+Piory9fXV09OD9g+AnAAA4JtGKpUKBIK2XrFYiUKhkIjBGQ9oGSmLYRjK/HPz5k2qTOFXr17FxcXNmTOnBd3PkEVua2s7c+bM6OhomUzWeLGE47hIJNq/f/+kSZN69+7d1Nev9Hq6fv06JU+SyWRmZWXFxMT4+fnB/AUAcgIAAIDWbhxgwJOn1WJra6uvr1/jBaEI4PaR3QHdGp1OHz9+QlFR0evXrympR4FhWHp6+s6dOxctWtSCq4hIUVhbW8+fP3/79u2ULL/gOC4Wi48fP66jo2NjY9PUnRfDsEmTJslkstu3b+M4Tsny0cePH+Pi4hYuXKipqQl9HAA5AQAA8I3qKC6Xp6ZSgVQqhaSQjYckyUmTJtW5q6Ki4saNG+3mIZMkSRB4UFDQ4cOHUfZYSszWnJycmJiY6dOnt6DZihRFp06dZs+eHR8fLxQKG39rGIbJZLKoqCgfH58ePXo0w/VPnjwZx/G7d+9S5fWUl5cXHh7u7+9vamoKPR0AOQEAAPDNgeN4tet2vYaFSCR6+PAhPKjGW3L17ZJIJO1pTQnZrDiOe3t7s1ise/fuUXXatLS02NjYBQsWtKBrInpTDg4OM2bMiIqKomqNgiTJY8eOlZeXDx48uEkbg9LrCcdxqryeGAxGUVFRbGysv59/x44dabA+CrSJsQ8eAQAAAIXmBZ1O0NUCDlStGTTHjDcMgiBQ7i95/VBVoIDBYHh6etrY2FCSbQzDMBzHs7Kytm/fLpVKW/yZ29razps3DykBSrqhTCb7999/nz171jyZ2SZNmjRgwACqEsHhOM7n82NiY0r4JdAlgTYBrE4AAAAAwP+Ztnp6ep06dWqIXahQKIqLi9XYrAqFwtbWts4KzV9xYXQ6HfkFPXnyhCpn/ffv38fGxvr6+rZgGTVlHIW/v//Ro0crKysp8Xqi0Wj79u2bNHHSoMGDmjRKBF3/d999RxDE7du3KTknjuNlZWXbtm2bMWOGra0tdEwA5AQAAAAAtBnYbLaxsXEDp5mrqqlvr1wu79SpE4U2K51O9/b2xnEcxVFQcto3b97s2bNn8eLFLRuZTaPRnJycZsyYERkZSUmICKoIfvbcWZFYNHLkyKZWFBiGIa+nq1evUhK6QxCEUCg8cOCAv7+/tbU1dEwA5AQAfCUKhYLH48FzaGYIghCLxSKRSM3YyeVy4UG1UUiSbHjt4cYjlUpzc3PVOOhjGGZmZtZGH2Zzuq6h32IymVOnThUIBFlZWY2/AGQH5+TkhIeHz58/n8VitWzLtLOzCw4Ojo2NlcvllCgKhUJx/vx5Lpfbt2/fptZLJElOnDhRJpOhyGxKrl8oFEZHRy9evBgiswGQEwDwlchksoEDB8JzaH6SkpLqGwtJktTU0Bw8ZDA8pbar0h88eKBmTp1yG+vcuXNqDmCz2X///TdloxqdrqOjU596wXG8tLS0ratBJpM5Z86cI0eOpKSkUOj1tHfv3hkzZrS415O9vb2vr++xY8dEIhElFjmdTj9y5EhxcfHo0aObNOUXun5PT086nU5VqRAcx6VS6fbt26dNm+bi4gKfLwDkBAB8DXK5HB5C86Nm0K3OXEnAI2rTEATRnFXM1Ntw1M6Ia2trq6liRlRDVRKeFrS5mUymt7e3QqF48eIFVadNT0/fvXv30qVLW9zrqVu3bgwGIyoqiiAIShQFg8FITk6Wy+Xjx49v0s8XWu2ZOHEijUajyusJKYojR44wmUxHR0f4fAEgJwAA+KbBMCwvLy89Pb0NZTe6d+8enU6vz5NeIpF4e3t36dIFXm7raWPq7cUWtJWptblZLJaPj09UVNS7d++o8npCRQ+Cg4M1NDRa8AZJknR0dJw1a9bBgwcpqZmNNFhSUhKbzR4+fHhTi0nk9SSXy+/cuUPVG5dKpVFRUQvmL7CxtYHscADICQAAvmnkcjklmVua07JRs1d9kAkANGnLZLFYc+bMOXr06NOnTyn0etq3b5+fn1+Lez05OztPmzbt2LFjlNQSwTCMxWKdO3eOz+d7enqy2eymvv6JEyfS6fTk5GRKPndIJ0fviZ40aZKbm1s7UMVAewKaIwAALWMutBU+W3wAZgqBFrS52Wy2t7e3g4MDhafNzMzcuXNnyzqaom7VvXt3Hx8fCitjMJnMR48enTx5sqnvDln/EyZMGDhwIFXXjyLLT548mZLyFNo/AHICAADg2zUBDQwMzMzMTOuHyWDCgwIabnOz2ewZM2ZYWFhQkq0LSehPnz6Fh4eXl5c3Txm4+iBJsmvXroEBgWocDr/iBm/fvp2YmCgWi5vh+idNmjRkyBCqJh2Qhty7N/bhw4fNlpwNAD4LODsBAAA0H0wmc8qUKertgMePH5eXl8OiB9Bwm1VDQ2POnDnx8fEvXrygJNSYIIgPHz7s27cvMDCwxb2eurt2V5CKY8eOUbWkwGazb926VVpa6u3tTUmRQfV6b8KECXQ6/dq1a5R4KCGvrSNHjvD5fHd3d0iMAbQGYHUCAACgWc0jOp3OrB8GgwFCAvgKm5vD4fj4+HTu3JnCWfzs7Ozw8PDW4PXUo0ePqVOnSiQSqk7LYDBSU1MTEhKa4e4Ighg/fjy1Xk80Gu38+fNUhXoDQCOB1Qkaig2tqKhARXM0NDRato4PAAAA0JopKirKzs5uyJEkSWZkZKjJFoph2NChQ+3s7CixLzkcTkBAQGxsbE5OTuMnwlHsUHFxcXh4eFBQEJfLbUGhS5Jkz549SZJMTEykJDIb5fhKSUmRy+U+Pj5NvQKD6lFgGHbnzh2qfNIIgjhy5IhEIhk8eHDbTXwMgJxo85AkmZ2dnZSUlJGRwefz5XI5juM8Hs/BwaF///6Ojo4t6zMKAAAAtEJEIlFJSUlDjEJkjqsZSjAMc3V1pXBQ09bWnj17dnx8/KtXryhxg8Fx/MOHD7GxsXPmzGlxr6devXrRaLSEhASqwgZYLFZqaiqq36erq9uk16/0erp69SpVeZk4HM7Zs2fLy8s9PDyatEIfAICcqOODi2FYSUnJn3/++fRpHekRnjx5Eh8fP23aNH9/fzqdDo4Hrfxt8vl8iEhrZipYFW/evKn92DEM4/P5JSUlTCaTx+M1vO9gGMblctti6kOpVCoWiwUCQQ2XCSaTqaWl1Xa/Htra2s0238lgMGo/wBoWbZOael9nHTawuX62DVDYSNCpNDQ0UD2K3NxcqmbxP3z4sG3bth9//LEFZ8GVikImkx05coSq0ZkgiOzs7P379y9cuLCp7w7DsHHjxkml0uTkZEoq9KG3c/XqVSaTOXbsWBibAJATzUdZWVliYuKhQ4fUzBiRJBkfH3/t2rUff/zR2dkZFEWrRS6Xp6SkQOL/5ldxV69eVWNm8Xi8/v37N7zj0On07t27a2pqtrklQQzDysvL7969W2O7kZFR9+7d2+ingyAIJyen5rTgaz9A1cbGZDKHDx9O1W9xOBwLC4v6pnJJktTR0WnTS9MYhmlqagYGBu7bt+/9+/eUqHQcx0tKSrZv3x4QENCC0g4pCjc3NxqN9u+//1Lo9ZSVlRUeHu7v76+vr9/U1+/p6UkQxK1bt6iaCGMymWfPnhWJRB4eHuCtDYCcaHLQJ2PdunUZGRkNOf7jx48rV65cvHixu7s7KIrWbPqA22jzo2ZhnSTJL514I0lSLpfLZLI2ar3VaIHoCbR1od6cAbhqujBJktR28M6dO8+bN6++9olh2MePHzMzM9v0Nx+JotmzZx84cCA9PZ1Cr6eYmJj58+dramq2uKLAMOzEiRNUCT8Gg5GbmxsbGxsQEGBoaNik10+j0caNG4fjeFJSElUfCg6Hc/v27aqqKi8vL/B6AlrAwP52bpUkyfT09KVLlzZQSyCEQuG6devu3r0LFSgBAGg2g0mNLat+L9AQ6aKlpaVZDygbR1sPnEMtRFNTc8aMGaamppRZDDien5+/ZcuWZqjY8FlF0bdv3/Hjx8vlcqpeFo7jHz9+jIqKElWJmuEWxo0bN3jwYAqvH8Ow+/fvJyQkQB8HQE402X3ieEZGxq+//lpeXq5mjKlv16pVq5KTk6G5AADQDFhaWjrUT5cuXQiCgEQRQEPsS21t7cDAQFNTU6r8anAc5/P5O3fuLCkpaXFFMWjQoMmTJzOZTApNhaKiok1hm3Jzc5vh+idNmjRs2DAKVzKZTOa9e/f27dsnFAqh/QPNCf0b0RJv3rz5+eefS0tL6+zVAwcOHD16dIcOHQoLCw8dOvTs2bPah23atElHR8fZ2RkaDQAATWpnGBkZqT8GClcBDYQkSX19/Tlz5uzduzc7O5uqMmq5ubnR0dHff/99i3s9DRgwAMOwkydPUmYV0ekCgWDv3r2BgYFmZmZNev1Kr6fLly9T5dHHZDJfvHghkUgCAgIoFFoA8BlL+1u4ydLS0g0bNtSpJTp27Lhr164//vjDzc2tY8eOvXr12rFjx6RJk2r7ElRUVKxdu7ZlV3gBAAAA4EttVi0trZkzZxoZGVGyqIXSLRQUFISFhVVWVrbs3ZEk2b9//zFjxigUCgq9hvh8fkREhEAgaIa78PDwGDp0KLXX/+rVq+joaMh5CICcoAySJKOiot6+fVt715gxY7Zt22ZraysSiVD2WIVCUVVV9Z///GfJkiW1J12Ki4tXrlxJYVVOAAAAAGgGdHR0goKCqPV6Ki0t3b17d1FRUYsrCnd394kTJ1Lr9SQSicLCwr4o2PKrr3/ixInDhg2jMESTwWBkZGT8ryLiC6DxAyAnGguTyTx8+PC5c+dq7/L391+6dKmWlpZMJlOuRaB/VFZWTpgwISgoqHbffvLkyb59+yAOEgAAAGhDkCRpaGgYHBxsZmZGlaJAXk+RkZEt66mPRuTBgwePHDmSwpgiHMerqqri4uKysrKa4frHjRs3ZMgQCrPb0en07Ozsvfv2QiJ1oBloz7ETGIalpaXFxsbW3jVixAhfX1/Uh2toA/SfCoXC19c3Ozv79OnTNf721KlT/fr1gyAKAAAAoE7DXUdHx8HBoYHHl5WVqSm7gULzTUxMKLFZtbS0/P39o6KiiouLGz8vhpKMlZSUhIWFhYaGamtrt+xjHzp0qEQiuXz5MnI3oMSKqKqq2rlzZ2hoaJPGUaDr9/DwkMvlKO8LVdefk5Ozbdu2xYsXczgc6JtA09GeVyfKy8u3bdtWe7uzs3NISMhnC2pWVFT88MMPo0ePrrFdLBZv2LCBz+fDGgUAAABQGzqdzuPxdBqGXC4vq5/y8nIKY/ZQZHZQUJCJiQm1Xk9RUVFFhS3v9TRq1CgPDw8KCy+ggX7Hjh1Pnz5t0nRq6PrHjx9PrdcTnU7/9OnTjh07Pn36BOnggCb86LXje7t+/frLly9rbNTR0fnzzz85HI5CoVCf2Z0kSalUOmvWrNevX2dnZ6vuzcvL++2333bs2NFGq24BQFvkw4cPbWg4FAgEQqFQzUdGQ0PDxcWljb4LkiQLCwubLTUFQRD3799XU1avFT7MhrfV5iwkgoY2Y2PjuXPnRkREFBYWUjULnpeXF7ErYtnSZZpaLZnriUajDR06VCaTnT9/niqjHMMwqVQaHx/PYrEavuj01dfv4eFBo9EuXbpElSgiCOLTp0/R0dA0S8AAAIAASURBVNGhoaEtmIkLADnR9kDLr9u3b6+xncFg/Prrr5/VEqod28jIaNasWWvXrq0Rgf3q1av4+HgvLy+Q+wDQPLx69Uo10qn1G9zqZ3/NzMzatJx4+/ZtSUlJs72Ox48fq7kYExMTCh8mnU7X0NBQUza7TeffRIpCW1s7ICAgJiaGkpeIFFFpaWnY5rDFixbzdHgt1U/RiDxixAipVHrt2rWGjPUNvEGZTLZr16758+fb29s36d0hryeFQpGcnEyh11ZJScnff/8dEhKip6cHowkAcqJByGSyVatW1V46GDNmTJcuXb6of0ql0qFDh+bn50dERNTYlZCQMGDAgA4dOkAzAoBmAMdxgiDajZMhhf4Y38LrUFNqQ6FQUJWzH2FoaKivr6/edH769GlbVxTGxsZBQUFxcXEFBQWUTOQjr6foPdEBAQGGhoYteGskSY4dO5bFYl26dEnNotaXnpnBYMTGxnp6evbt25dCf6Q6b2HcuHEEQVy9epXCHiQUCnft2jVz5kwLCwsYUACKR4T2d0sEQSQkJLx+/brGdm1t7eDgYBzHv3T8E4vF3333nbu7e43txcXFe/bsgXpSAAAA7QaSJHEcp9cPUU07kLVoVWf+/Pm6uroUVjxAnvotmOtJ+Wrc3d0HDhxIlZxAZ1YoFMePH09JSWnqW8AwbOzYsUOGDJFKpRROAfD5/MjIyOLiYujpALW0w9WJT58+nT17tvbHccWKFVwuVyKRfNEwoDx4zpw5qamp+fn5qnuvX79+48aNwYMHQxAFAADNxoQJE9TELSCjAZ5SI43Rb+E2SZLkcrmBgYH79u2jJL8IOkNFRcXmzZvnz5+vr6/fIs8TTfCj7KskSd64cYNCrycMw2JjY2UyWa9evZpujQK9nXHjxtFoNOT1RNWTEYlEGzdu/P77783MzCCjDAByot6ucuHChby8vBrbp0yZMmDAgC/VEqqnNTEx8fPz+/vvv2vs2rRpU6dOnczNzSGIAgCAZoAkyc/GCVCYKxNo36KCJEkzM7OgoKC9e/cWFxdT5fUkEAhiYmICAwONjIxa8NZQriQ2m3358mUKS0RzOJyEhITy8vKhQ4c2nYcCuoWxY8cSBJGUlETVaXEcl8lk0dHRvr6+dnZ20AsAatpVO7sfiUQSFxdXY2OHDh0mT57cyAUEuVw+ceLE2qN4WVnZkSNHKFxOBQAAUG9kUHgY8K03JxqGRsl58+ZxuVwKZ8ELCwvDw8Nbg9fTiBEj+vTpQ+0wTZLk6dOnb9++3dS3gOP4mDFjqPV6otFoQqEwKirqw4cP0AUAkBM1YTAY69atqz0DMWHCBFSAppHja1VV1erVq3k8Xo3tFy9efPXqFTQmAAAAoM3pCWQc6+np+fv76+joUKIokFNQVVXV5s2bW7DigXKNYvLkyUMGD1E6QVFyZgaDcfTo0UuXLjW1tzPyeho5ciSFqW+RObR169a0tDTwrQBATvx/usf9+/drTxWYm5t7eXlRIutJktTU1Jw/f36NLi2Xy8PCwqBDAgAAAG10AEXlt2fNmsXj8SiscIe8noqKilr21kiSnDBxgru7O7W+SRwO5+LFi2fPnm1SDwV0C2PGjBk2bBiFlgY67YEDB549ewZdAGgk7Sd2QiaTnT59uvYkwdKlSwmCoKSrK0vknDlz5sWLF6q73r9/HxUVtXjx4mar6wQAAAC0UcrLy+/evdvA/LbJyclqpqXlcvn48eP79u3b+KsiSRJ5PYWHh1dVVVHiL4fjeElJydatW3/66SctLa0WVBQ0Gm306NECgeD+/ftfkeNRzcmTkpIwDJswYUJT38Xo0aOlUumVK1fodDpVkeVisXjv3r1z5851dHSEjgl8fU9vN3eSmZl5586dGhvd3NxcXV0pXIgkSZLFYi1YsKB2zviTJ0/W0BgAAAAAUOdQImkwVVVVwvqpqKioUWW1McYlSZKGhoYBAQHUxlGIxeKtW7fm5+e34DI+8nqaNm3a4MGDCYKg8EqYTObly5ePHz/epPOJ6O2MHz9+1KhRFK6xIK+t6Ojohw8fUhitDnxrtJPVCQaDERcXV8OjSUNDw8fHRy6XUxiSiEpjOjs7BwUFRUZGqu6SSqVxcXG//PILi8WChgUAzW8oWFtbt6HhkMvl5uTkqFk4ZTFZpmambfeNdOjQoXk+hqjGc05Ojpq3z2KxjI2NmzSt51eMJhSmLqXwqmg0mrW19Zw5c3bv3l1RUUHJQ8MwjM/nx8TEBAcHt2yuJxROyWAwrl+/TqGiYLFYd+/eFYlE06dPb9IKd8jriSCIixcvUvhDOI4nJCSIxeIBAwbAgAJ8o3ICx/HXr1/fu3evxvYuXbo4OTk1RX8Wi8VTpky5dOlSVlaW6q67d++mpqa6urpCHAUANDMKhcLR0bFtVYCpXW2zhoncduWEQqGwtLTU0dFpNoGn/mHyeDwKrVgcxxkMhppbo7ZKd0upwXnz5u3cuVMkElHl9SQQCLZs2bJixYraGU2aTVGgK/Hw8ODz+U+ePKFQjGEY9vDhQ7lc7u/v39Q3MmrUKKlUmpSURJXXFqrQd+TIEYIg3NzcYEABvkU5oVAoNmzYULtv+Pn5URU1UfvkGIbNmzfv119/rbG4+eeff8bFxXE4HFAUAND8NlDbumD1dkBbz/SKloza38MkSbJXNWqOEQgEDx48aLvvDk3kd+jQwc/PLz4+vry8nCqbVSqVbt++PTAw0NTUtKVaOCrJMmPGDE1NzTt37lBV4Q45Sjx58kShUHh7e3M4nCa6QfR2xo0bRxDE9evXKTRy2Gz2sWPHRCLRoEGDmq6eBtAuafOxExiGXb9+vcYqAY1GGzJkiKura5MmW+jVq1ft6Dc+nx8REcFkMqFtAQAAfJu0rVUyNQLMzs5u9uzZbDabwjgKPp+/Z8+ewsLClhVLNBpt4sSJAwYMoNboZzAYL1++3L9/fzPkeho9evSwYcOo/SEcx8+ePXvx4kXoxcC3JSfEYvGVK1dqd6dFixY1aVAU+hiFhITUVvBXr16FmGwAAFqQ7mrp1q0bTHk00pL7RkA1s4ODg9lsNoUGa3l5+ebNm0tKSlr2JeI4PnHiRCcnJ2pX0jAMe/36dURERDPUtx01atTw4cMVCgWFeo9Go124cOHMmTPQ2YFvSE68f//+/v37NTZOnjyZwqwU9XU5hUJhYGAQGhpaY1dVVdXx48epLWAJAADQcBPQQC1GRkbgyQA0cKQjSdLCwsLX15dCJ16U1GTnzoicnPct21NoNFpAQED//v1xHKfQZqDT6dnZ2ZGRkaWlpU39djw8PEaNGkVtuA6Tybx69eq///7bDtbZAJATDWrxhw4dqjEBwOVyR44cSW2yi/p6skQicXd3d3FxqbHrypUr6enp39QkFgAArccEVH8AhXOZwDfSnBwdHefOnctgMChUFKWlgj17ogsKClpWLCGvpz59+lA7ZBME8fbt2z179lCVxlfN2xk1apS7uzu1pj+GYcnJyQkJCdAFgHYuJzAM+/jxY3Jyco3tXbp0cXBwaE5JM3Xq1NplKP7+++9WlZQQAAAAAL4O5PVEeRxFZWXl5s2bCwoKW1YsEQQxZcoUR0dHyr2ecnNzN23aVFVV1dRvZ2Q1FF4/mpO9d+/e4cOHoR4F0E7kBEmSqampDx48UA3eotPp4eHhtQ+eMWNGM2cU6du3r6ura42Nubm5cXFxtWUGAAAAAKgf8pBnf0NQVmST1U/jzUE0kW9tbe3j40OtopDJZJGRu9+9e9fiDzwoKKhfv37UzgMSBFFcXBwREdGkoefo7YwdO5baCncosvzRo0dHjx5t0jUWoB3QNhLFyuXyo0eP3r17l8PhGBoaOjk59erVi8vlpqSk1DjS1dXVxcVFLBY3m6MRSZIEQSxbtszHx6fGrlOnTg0aNMjCwgLaGQAAANDwYYXH4/Xu3bshsbwkSYrF4uvXr6sZQJ2dnRtfdgONqk5OTvPmztu+YzuFJWJLS0sjIyOXLFlibGzcIg8cmeMYhk2aNEksFj9+/JjayoD5+fm7d+8ODQ3V0tJqulug0WhogeL8+fMUhlKgehplZWVz586FvgnUR9tYnVAoFG/evJHJZOXl5W/fvv33339//fXXpUuXVlRU1DhywYIFzayhMQyTy+UoP3eNXXw+/8KFC7BKCAAAAHzpyMJisZgNAJUel9aPRCKhcLmeJEnzjuYBAQFUrVEgpxqJRLJly5a8vLyWiupRej1Nnz6dWq8ndIMCgWDjxo0lxSVNLURHVUNhHR4Mw1Cx4KioKLFYDGFXQJ20jdWJysrKhkRrMZnMCxcumJqadurUycbGRlNTs9k+Q2Kx2Nvb+9atW2/fvlXddfz48eHDh1tbW0MPbK8oFIrPZvHCMIzBYEBofssil8tzcnLaUE9ksVgikai++QiSJPX19bt3795GXweO49nZ2TKZrBn6BUmSHA6noqJCzW9paWl1794d3FMbaHY7Ojp6e3vHx8dLJBKqKtzJZLKYmJiZM2daWlq21N2hNYqgoKDExMS7d+9S2+CFQuHuyN1+fn7m5uZN93ZIkhwzZgydTr98+TKFs5kEQbx+/frAgQPTp0/X0NCAjgC0PTlBp9OfPHnSkCMlEsnx48eRLylBEFZWVt27d+/bt2+XLl2a4TrZbPaUKVPCwsJUl6flcvnGjRv37t1bWVkJra1dkpOTc+rUKTVGKjL7fHx8INN/i8uJzMzMtrVa+PLlSzU61s7Ork3LiczMzOZMqK2+HFCHDh26dOlClZwgCILD4ag5QCQStd05JmRzd+3aVVtbe8eOHeg/KTlzaWkpcgpqDV5PFRUVz58/p1bulpSURERELF26zMBAv0n13ogRIxQKxblz5yhUyBiGpaamRkREhIaGQqZpoE3KiXv37jX8eEU1Uqn0VTWHDh2i0WgODg4uLi7du3c3MDDQ1NTU1tZmsVjUOkfSaLThw4efOHEiMzNTdVd6enpiYqKHh0czVLQBmh/U2FAhodoWg0Qiqaqq+vDhA/i8tRIzqD3dSzu4HQot0Ua+fWrdgXR1dQcOHKjmmI8fP168eLGNLoagV0aSpKWlpZ+f39GjRymJV0RnkMlkW7ZsWbhwobm5eYus6CJFQRCEv7//nj170tLSqKpdiE4ikUjCwjYtWLCgSW8QeT2RJHn16lWqolyQ11Z+fv7OnTsDAwO1tLRgyR1oS3JCoVAYGRnZ2Njk5OR8dVxEWjVHjhxhs9mGhobGxsYdO3a0tLS0sbGxsrKiJGiJJEkmk/nDDz8sWLCgxq6DBw/26NHD0NAQGly7tFC5XG6fPn1qC4b79++npaXhOF5RUXH27FktLS2N/6JZjZaWFixZAEA7oyE2VjuYXUK32a1bNxqNhgpAUej1FBsb6+fn17lz55a6NSR0AwMDExMTa5fKbeTJpVJpTEzMzBkzrW2sm/QWRo8eTafTL168SKFaxnH83bt3e2P3+gf483g86O9Am5ETEokkMDAwICBAoVCkpKTcunXr0qVLX60rRCLR+2oePnyIvn1aWlqOjo49e/YcOHCgsbHxV/c6FJPt6Og4adKkU6dOqe7Kz8+/du3a1KlTQcq3V0Uhl8trywkXFxcLC4t3797dunWLw+Hw+fx3796VlpYqZ2QxDNPU1OT9F91q9PX1QWMATfvdp9Nnz56tpuiVQqF49+5dVVUVfLKAz9KtWzcOh7Nr1y4cx6lqMOXl5bt27Vq2bFnLej0RBDF58mQ+n//mzRtq+0JFRUXEroglS5Y0Xe5HpdOETCY7f/48tV5POe9ztm3b9sMPP6h36gNATrQuUPV7giD69esnlUovXrxY4wAdHZ3Kysov1RhIOZSXl9+vJiIiQlNT08HBoWvXrl26dNHW1ubxeDo6Ol/UCSUSSUBAwK1bt4qKilS3HzhwwN3d3cDAAGKyvx2NQafTUXLGBw8ejBkzBvnXKRSK8vLy0tLSsrKy8vLyimpKS0sLCgok1YjFYg6Hw2QyORyOtra2lpYWEhtsNpv+Xxj/Baw94CtaJoZh6q00uVz+8ePHpq69BbSbFmVra+vr65uYmEih15NCodi6devcuXM7derUgl5POI4HBwfH7IlJTUul1usJw7AdO3YEBQXZ29s3qdfT6NGjMQxLSkqicAWJRqOVlZXt2LEjMDDQwMAAegFAbysXippvZWXlP//8UyN6r0OHDj/99JNYLH737t2rV6/S09Pz8/O/bilZKBQ+qoZGo2lra+vp6RkaGqI8UQ4ODqampg0pcKOtrT1lypSoqCjV6erKyspt27atX79eJBJBs/sWULoXo2YglUqVC+hsNpvD4XTo0EH1MKQlUFZH9P+VlZVlZWUVFRU5OTlCoRAdIJfLUXZIBoPBZrORA5XSdUpbW1tTUxPKsQOfbZnqUSgUMPEBfFGL6tmzJ51OP3jwIFXxMMgpaO/evf7+/lZWVi11a+h2/Pz9EhMTHz58SO35FQrFgQMHvL29kc9Y093CyJEj6XT6+fPnqT1zfn7+nj17goKCGl/VBAA50azw+Xxk66syfPhwR0dHDMNcXV09PT0xDCstLb1XTUpKSllZ2deNi+XVvHv3TvkFQWkZ3dzc+vTpw2azlRMMtT+skyZNOn78eI0Fitu3b9+/f7979+4QlQuWXO04WrTsoPzPOodkDMOqqqqKi4tLSkoE1RQUFJSWlqrmDcMwTE9PT1tbW6ca5D3F5XLr1BiwuAEAACWQJOni4sJgMPbs2UOV1xOGYUKhMCIiYvny5SYmJi340WYwGFOmTCkqKsrKyqLwy4kKbsTExMyZM8fZ2blJFYW7u7tEIrlw4QKdTqfq+gmCKCoq2rZt2/Jly3X1dKEXgJxoG7BYrMjIyBobtbW1Bw8erNo3FAoFj8fz8PCYOHEiSm2empr65s2b7OzsoqKikpKSsrKyr1u7KC4uvlINjUYzNDS0s7Pr2rWrhYWFjo6Ovr6+rq6ucqZZQ0NjyZIlq1atqnGG2NjY9evXg2c80HDhoYpCoWCz2R07drSwsMBUEIvFqq5TQqGwtLS0pKQkPz9fXI1cLkclsdBShra2NpfL1dbWVjpNKUtiUVhLFQCApkMul6uJfqlxpFAorKioqG9mDY1Zjez7yGbt0qWLt7f3P//8Q2E9CpIkw8PDZ82aZWVl1VIzIMjdeuHChTExMampqdRmJGMymXFxcdOmTXN1dW2itWXVehRXrlyhMBMAGoAidkX4+/s3XT0NAOQEZeA4npWVlZycXGO7q6urnZ2dqvsT6jbIXQTDMCMjI2NjY3d3d5lMxufzy8rKSktLU1NTX7x4kZ6eXlxc/HXXU1jNrVu3cBxHURaGhoZWVlYDBgzo2rWrRCIZPHjw0KFDr127pvpXqampDx8+7NevH8wKA1+tMepc3eJyuSjJhnLRTCaTSaVS1f+XSqXl5eVl1WRlZVVWVorFYpFIhKrsIVDAhoaGBnKd4lbDZDKhxQJAq/oU8Pn8tLS0BnbM1NRUNWpBIpFMmzat8Q5F6GL69u3LZDIPHjxIYaSBRCLZt29fYGBgi3s9zZw58/jx4w2shfVFciUhIUEkEg0YMKBJb2H48OEEQZw9e5byehp79uwJCAhowRKEAMiJhl0onX706NHa2319fevT2cq1AqX/uq6uro6ODoZhLi4uaA4gNzf35s2bDx8+fP36NSpA+6WeSAqForSanJycR48e4Tju4uKCahEEBQXdunVLVerI5fJDhw65ubmBcQZQDpp6VE5AYhiGFhzq6xrKDiIQCEpKSvh8vkAgKC0tzc/PLykpUe0LbDabx+NxuVzkQKWnp6evr89isVRPVafvHwAATYRMJisvL29gNTGhUKhmL1rDpPBD5OrqihKQUOj1VFVVtWPHjmVLl5mZm7XgbA6TyfT29i4sLHz//j21Xk9yuTwhIYFGozW1ohg2bBjyeiIIgsJ6FMgtbfHixbBGAXKiVZOXl1e74r2Li0u3bt0qKioa3iWUJhQSIaampr6+vv7+/lKpNL2at2/f5ubmfvr0qaioqKys7Euvs1+/fujMJEkaGxuPGjXqzJkzqge8fv368uXL48aNa85ysECTjjFisbi8vLw+WSsUClubka0UHmi+DYVYKF2nUCK1iv8iFAorKyvRv9EgKhaLq6qq6HQ6QRDIgUrrv2hoaKBVDj09vfz8fC0tLU1NTaifCnxFEyVJsoHZLyhBR0enoKAAieQ6wXHcyMgI8hw00GZ1dXWtrKw8c+YMykJByWlxHEdONba2ti3r9bRo0aK9e/dS7vXEYDBOnToll8sHDhzYpF5PqB7FlStXGugv10AUCsWePXt8fX1tbW2hI4CcaKVDy+PHj2s7JgUHB1dWVjamMysUCpSaE8Owzp07I9dMkUhUUVFRWVlZUFCQkpKC3KIakjORzWabmJgoFApkltHpdG9v78uXL9eY+AkPD3dzc+PxeJA7pX0gFovRyn6dyGQyNTZKiw/8tePC0QDJZDLRKoTqICSTyZDHNvqHXC6vqqpCSW/Lyso+ffpUWVlZVVUlFosZDMbx48eZTCaLxeLxePr6+sbVmJiYtI9yzkAzfPYdHByaM9IsIyNDTctksVgUliJlMpnW1tb13R1Jkmw2u+0m7UAflgEDBrDZ7IMHD1I4Cy4Wi+Pi4gIDA21sbFpQLOE47uvre+zYsefPn1Pe7E+fPl1RUeHh4dGkb2f48OE4jp85c4ZC3YJhWHl5+d69e6dPn950keUAyImvRy6XX7p0qcZGW1vbjh07ItudWqOKwWAgtygzM7NevXqh5dpnz57duXMnJSUlOzsbWVS1Z6NNTU1RbQGlVrG2th4zZkyNqnYikWj//v1LlixpB4VRAUNDw3HjxtXXbtHcD7IMVGMTVV2D6tzY4qaAcmxT/QdRjdIGQsIDlWFS9XeSSCSZmZlJSUlCoVChULx//x5pjxram8vlohwGPB7P2Ni4tLQUdWe8GoIgUNcDB6pvWVE0c8tX09gobIckSRoaGoaEhKg5pqys7NatWxSWHmuR19ezZ0+pVIp8eChUFDt37gwNDW26AnAN+UKy2WwfH5/i4uLc3FxqvZ5oNNrly5cxDBs7dmyTvp1hw4ahQl4UfmZxHJdKpXFxcUFBQY6OjvARAznRikAV3VNSUmp0uWHDhmloaDT1JwNZhBiGOTk5ubi4EATx/2PvPcCiOPe+/53Z2d5ZepciYFc0iELsvWuMNVix5JiY88QT3yc5ydHUJyY5JycxMUZjwx6NIgoejBrsqFFRUSnS28KyLNvrzP969/fPPvsuimgGKd4frmuvZXZ2dsrdvvf9K1qttqCgoLi4GLJrV1dX19bWwtpFSEgIl8t1PYLRaFy5cmXTrHa//fbbpEmT2qo1RNDYIotEop49ez7y099///3GjRtQkC5evMh0ASyFIDis843zPeyD/7/AFudr03+d4+/n3K26+WyAxnjppZfWrFmjVqvBJQPeNDY26vX6mpqaqqoq8AKvqKgoLCwEw78dO3ZArDa5XO7p6QkhbqVSKYfD4fF4YrG4traWzWZzuVwUGw3RoWlJJaUr41jbXiZFUQMHDrRYLOnp6TTmUGMymT/++OP8+fNbNQHcExt/Fou1atWqXbt23bt3j17BSRDEmTNnwCqplYxF4emMHj2aIIhff/2VXqsniqL27t37yiuv9O7dG9V3JCfaCxwOZ8uWLW4bBQJBYmLi82z6ndOrTCYzxgGsM4Bpx8OHD2/evBkZGclisdzsRgiCWLVq1bp161yPqVarjx07tmrVKlQEO8Gw4HGrTDExMV26dHH66jhT1Lm+sdlsFovFZrMZjUZnFCYobE7LIovF4rSgc10EaAqO4ywWi8PhMJlMFosFr5BF2/W1KZAXjxabBKdZlMFg4HA4vr6+kLDPaf1cUlKSk5MDARLgSuGNt7e3Wq2uqampqKioqal58OCBTqeDL8KFwNdBcUHmPrFY7Onp6eHh8bTZ6xFPHM306tWrGWMbu92el5enUqnQ2hHiiS3kyy+/zGazDxw4QFfGA6fV06JFi9rKTB8aOoIg5syZs3///vv379P+E2fPnm1sbJwzZ06rPp3hw4djGHb8+HEadQsYje/bt0+n07WeZzkCyYmnK5QlJSVNU9f16dMnLCysrZxcnYIBYvlDZu4hQ4aQJAlLGa7nT5Jkr169oqKi8vLyXA+Smpo6Z84cT09PZEfeWeE4cMtJ18ybZj612+2WP3DNnP1IZQKvZrMZXk0mE/UknL8FqSecODVJU+3hmq0CcF0bwXG8vr4erHKdUgemFSGEGiyngEiA342Pj4eU3k4bJ5IkFQpFdXV1ZWVlcXFxTk4OODWBL7hCobDZbK5D3h9++EEmk/n7+4eHh0dGRgYHBwuFQvhpgiBA1CHrqRY2vK4LrU2x2WzIKRnR8h5z4MCBVqv12LFj9ObM3rRp06pVq9oweiyDweDxePPnz9+4cWNVVRXtVk/Xr19nMpkzZsxovYAWYPVks9kyMzPpPX+SJFNTUzkcTmxsLGp1kZxoY5hMZkpKStPtycnJEC+/ncy+OKNqPjKTsVQqnT59+ueff+422/fRRx99++23yIPiRRicNdWiLZeR0AEzmUwejwcGfk8rTkDoOlc8XIERObw6d3CuG8CCiXO70WjU6XRux3G+d108gcxZsJIAqyIgQmCQarVa4V+nZRebzX748CGHw3FacMEbp2jp0aMHbIRVCBBRZrPZmVXDZDL5+PjU19fX1tb++uuvR44csVgscPk8Hg/cwRkMBsSecp4MLHEIhUIUfgqBaL0GkKKoxMREm8128uRJumbQoFXcvn377Nmzu3fv3oZiicVivf7663v37s3NzaXX6onJZF69ehXDsKlTp7bSAiw8nVGjRrFYrMzMTNqtng4fPmw2m9EaBZITbUxFRUXTfDHx8fEhISEdKNCq3W4fO3bszz//XFhY6Lr93r17p06dGjVqFFIUiKdSI8/WH8PA/Zl7Bdefbv5fkiTlcvmQIUOMBmODugGy0YMHhVarhdUGk8nkjBAFYubq1augZFwvvGlGCzfjLuenFEUVFRXBGyaT6eHh4XRToSjKYrHU1NSAaSJUNzefb1AX4KTh4eHh6+vr7++PNAYCQWMjNmzYMIIgIOYbXYc1mUy7du1aunRp21o9cTic2bNnp6SkuPXytBw/OztbpVItX768VZ/O0KFDIa4UvVZPNpstNTVVo9G0qmc5AsmJJ4xgcnNza2tr3bbPmzevYyVtAFPyd955Z9myZW7bjx49Gh8fz+PxUFlEtPPRQMun3EBOjBgx4pGf5uTk7N+/381rnM1mDx48WCAQwNfBK8lgMGj+QKfT3bp1y2QyWf/AVYqAMhEKhbDR6ZhhsVhAogB2ux3Eg2uCS9gfIt4+7ooSExMHDhzYctl28+bNgoICehc9tFptz549vb29YXUFlUlE850OSOUWVljnEuVjxwoE8efN22CNAnKo0Wj1RFHUpk2bVq5cGRER0SY2C06rpwVJC777/rvq6mp6rYYwDCsoKIAArK0Xdhysnux2e2ZmJo35NOA4Z86c4fP5CQkJaI4GyYm2aRCPHj3qtrFbt25BQUH05o55Dm2N3W6PjIycPHnysWPHXD+6f//+lStXhg0bhsoiopNBkuQjxx9Go9Fisbh1KiRJ6vV6Z2Y9iMPI5XLlcrlzLYLD4bgGh3FrAex2+7Rp08B5CQQ85PqFFQmz2WwwGK5duwa2W2QTQFo4h1MURYFfisViUavVEomk5ReO43hRUVFZWRmfz3emwiQIQuxAJBI9w7BMo9EUFxer1WqTySQUCj0dUBRlMBhaNcAdouMik8nCw8Nb0lGSJKlUKpvJnE2SZGRkpDMLzZ8c+g8fPpyiKLDUpwsmk7lz587Zs2e3YboDiqI4XM7KlSv37dtHe6wnHMchx8Xs2bOb92v6k09n5MiRLBbr5MmTtBtNnDhxwmQyjRkzBtVNJCeeKziOFxYWPnjwwK24JyQkCIXCDpffB5b8pkyZcu7cObVa7frRjz/+OHLkSGTvhEC4dsBNzbpg5eGRPTS4WRsMBtd6hOM4zwH8a7FYKisrn8plxTV3+NM2XxEREePGjbNareXl5aWlpeXl5SqVqrGxkcViBQYGhjjw8PBo4flUVVUVFxfPmjULw7DS0tKCgoKrV69euHBh+/btAwYMmDZt2iuvvEJjkjVER4eiKDabLZVKW1h0QTk3czS6LALgfEaOHInj+LFjx2i0ejKbzTt37kxOTu7atWtbtV0URfF4vNmzZ2/fvr20tJT2QdHdu3e///77N994k2ARrdf8QlyZtLQ0giDovTm//vqrRqOZOXMmqqFITjw/WCzWDz/84LZRIBBAQe+gtzs0NPTll192W6BQKpUpKSkLFy5spjVHIBBtImyeeX4RwzDwNY+Oju7WrRuO4zqdrry8vKKiorKyMjs7Oysri8Ph+Pj4BDrg8XgQCuyRXTicBni0d+vWrWfPnmC4xeVyMzMzP/roozfffLNLly5jx46FhDYymczDw4PG0UA7hCRJlUr13AxfCYK4fft283nuOm6U/ebLOe3mALBGYbFYzp49S6NnNoPB2Lx589KlS6Ojo9vQ6onP5y9atGjTpk3V1dU0hpKDQ1VVVW39aev8+fOFQmHradFhw4aRJHnq1Cka85/AcbKzs0Ui0ciRIzt364TkRHsB1vVycnLctickJISEhBgMhg4adIyiqPnz5589e1ar1bpuP3DgwIgRI3x9fVHQWASi8416YQaEzWZHRkbC1KlOpwOHkNra2urq6tzcXJPJxOfzJRIJZNLw9vaWy+WPNIsCfw9Iup+cnPz+++9XV1cXFhbm5+dfuHDhjTfeUKlUwcHB0dHRvXv3jouLGzBgQKf0ziJJMi8vz2lO9hxa7+zs7OZ3+Pe//03Xz7FYLG8vb5z5aLs4Js50ZmXpoOoFcqhhGAYZoGkcPOzZs2fmzJltKO0oiuLz+StWrIB8FPQOV8CPYufOnUlJSSKRqPWezogRI1gsVkZGBr2mExiGnTp1SqvVzpgxAwWbRnKi1WEymW5T+MCSJUtMJlPHvd0URfn4+MyfP3/Tpk2u2w0GQ1pa2rJly5CcQCA6t7SAiV6wwvLx8QkLC4Nab7VaS0pKwJCpvr4efEWCgoJCQkLCwsLcRiTO+NTwr5+DhISEhQsXUhSlVqt/+eWXQ4cOffDBB1arVSgUDh06dObMmVOmTBUKBZ3pfrbc2/g5tO30HlAgEPTt17eZMZnNboP8LR1XUWAYNmbMGLvdfurUKRqjoILV0/Lly6OiotpQLAkEgtmzZ2/ZsqWyspJGReFMBvrtt9++9dZbreQ65cw/aLPZ0tLSaHw6cP5Xr141Go2vvfYaykfReVrj9nla5eXlTePDvvzyy15eXpAeuOPecbPZ/OqrrwYGBrptP3PmDISDQCAQnZimwgCCXHE4nJiYmAkTJqxcuXL16tXTp0/v06ePxWK5fv369u3bjxw5AnYCJSUltbW1Wq22aXh4CMPPZDI9PT2XLVuWmZlpNBpPnz79+uuvNzQ0rF271svLs3fv3n/7299Onjx5+/ZthULxZwxH2Ww25PF8JBwOBwZV6In/mdH246DXzbdtZdj48eOHDx9O10Q13B+CIH788ce7d++2VQmEpyMQCJYuXern5wfzCPSWDZVKtWXLFpVK1apPZ/jw4ZMnT2YymbSff05OzpFfjpjNZlTZOwftdHXi5s2bbvFhcRx/5ZVXrFZrJ2hDbTbbokWLPv74Y9f6WVdXl5GRsXjx4o7rGYJAIP7M4MPVLCoiIiIyMpKiKL2D0tLSs2fPNjQ0FBQUQDQngUBw584dFovVv39/yPHnJldgGWSIAwaDUVlZWVZWlpeXd+bMmTfeeKOxsTEwMLBr1679+/dPTEzs16/fU01AMpnM8ePHN7NWjGFYeXm5xWJBs4+IJ5b8CRMm4Dh+9uxZGq1fcBzft2/fzJkz+/Tp04ZiSSgULlu2bN++fXl5ebRbPZWVlW3btm3BggWtFIYBZgQgW8iJEyfoHZzgOH7h4oVGTePcuXNbL/ot4kWXE2lpaW5boqKigoKCOkfrSVFU3759Q0NDi4uLXT/as2fP3LlzUUR5BALh7LnBLMpsNlMUNXbsWA6HYzabix3cvn17yZIlDAZDKpUOHjx43Lhx06ZN8/f3f+Q8YkBAgL+/f3x8/MKFCxkMRnVV9d59e3/++edDhw7Z7XYPD49x48bNmTMHkuO6KZNHtmMBAQHNX4JCoUDhJRAt7BYnTJhgMpkuXLhAEARd+SgsFsvOnTu5XG50dHQbiiWhUDh79uwffvgBJklp9GxmMpkKheK7775bvXq1TCZrvRELZAs5fvw4XU8HjkwQxL1793bu3Llo0aJWyvmNeG60O2MnJpN57969goICt2L38ssvP1Xo93bedHp4eEyePLnpR19++SWqVIjOjVQqjYmJifp/iYyMRCW/JUAA0JiYmPHjx3/99dfgdrVq1Socx7//7vuuXbv6+vqOHDnygw8+SEtLu3z5cnFxsdFodJMHFEX5+fu9/fbbV65cMZvNGRkZycnJ1dXVK1as8PT0jIuLe++9946nHb9x40ZdXR0yWEI8hz6RoqgZM2a8/PLL9KZkZrFYW7duzcnJacNlf4qiRCLR8uXLQerTW6EwDNPpdFu2bGk9Y2mnZ/aUKVNYLBbt5//gwYP9+/c3k/YE0SFod6sTbDb7+++/d9vI5XLHjh3bmTIzWK3WKVOmpKamlpSUuG6/dOlSTk5O9+7dUReO6Kyj4ejo6KYuklarNTs722QyIduYlgDBnfR6PY/Hm+iAwWCoVKo6B3fu3Dl37tzBgweVSqVMJvPz84uOjo6NjU1ISIiJiWEyma66gslkjnVAkmRVVVVtbe2dO3dOnjy5d+9evV7v7+8fFRUVHx8/evTomJgYFIkF0XpjVgaDMWXKFAzDLly4QGNJwzBs//79JEn27du3DcWSWCxeunTpnj17CgsL6W3lcBxXKBRbt25NSkoKCQlpvUsYOnQoQRBpaWn0jk+YTObNmzfVavWCBQvEYjGqCx2U9tU3QHzYvLw8t+1DhgyBFLCd7O6vXr3abYvZbG6NbJQIRLsaNDzStRTxJ/Hw8IiKikpISIC8vHl5eaWlpZ988kl4ePipU6dWrVrVs2dPuVw+ceLE7777rrKy0mKx2Gw256wtjuOBgYF9+/ZdsGDBvn37SkpKrly5Mn369Ly8vHfeeadHjx5BQUHLly8/d+6c0Wi0Wq30epci2kTbky3G/iRomf7HMGzq1KmxsbF2u53GfBR2u33Hjh25ublt2+6JRKI5c+a0xmCGyWRqtVqIItWqoighIWH06NE2m41ez2yCIMrKynbs2GEwGFDF7KAQ7a11O378eNPtS5YsMZvNnWzMYbPZevbsOWDAgGvXrrlu/+2336ZPnx4aGopKJwKB+DPNqVAonOWAwWDU19dnZ2ffuHHjzp07P/3009///nculxsVFRUXF9e3b1/IphcUFMTlcp1fDw8P/4cDjUaTlZV1+fLl69evz5s3T6/Xd+/efejQob179w4NDQ0PD2959mVE+0GlUuXn57dkXEhRVE5OTjN5x8AguX///rSU2zlz5rBYrGvXrtE4ZuVwODt27JgzZ06fPn3aapGNoiiJRLJ8+fIdO3ZUVFTQHuTXZDJt37597ty5YWFhracoRowYQRDEf/7zH3pD42AYVlxcnJKS8uqrr7aSHwjiBZITtbW1TePDjhw5Ui6X22y2TtZdYRhGkuQrr7xy+/Zt11hpRqNx9+7d69evf27ZXhEIROfD1aKJwWDI5fLxDhgMhlqtbmhoUKvVN27cOHv2bGpqam1trVAo9PT07NGjR1xc3NChQ2NiYuAIYKcxyYHFYlEqlQ0NDVevXk1LS9u2bZvZbPb29u7evfuwYcMmTJgQHByMdEVHwWazabXaFg7ZdTpdM3uCBT9dA1YGgzF9+nSKoq5cuULvmPvgwYMURcXGxrZVlaQoSiaTLVmyJCUlpbi4mF5hg+O4Wq3evn37rFmzevTo0XqXMGTIkMclB/szsFis/Pz8H3/8cfHixa0UqwrxosiJkpKSqqoqt42TJk2iMc17e+vve/fuHR4efu/ePdftWVlZxcXFwcHBKGgsAoGgS1c4kTpgMBh9+/aF2FA6nS49PT0jIyMrK+vgwYNms9kZLWrChAkeHh4sB2w2G1Lmde/efdGiRQwGIycnZ8+ePcePHz927Nhf/vKXsLCwKVOmzJs3LyoqymKxkCQJWTXa6tplMplzvaW1oSiqrq7uccGsKIoimISvn287LxvPtjO9s9QQ43jmzJlGo/H27dt02UPCFN6uXbtYLFavXr3a8IaLxeK5c+du2rSpoaGBdj8Ks9m8d+/exYsXR0REtJ6iSEhIsFgs6enp9FqrMplMpVK5Y8eO5ORkaKMQSE48SzU4cOCA28bIyMigoCBoXDrf3acoisPhLFiwYO3atW4fbdiw4ZtvvkEFFIFAPIeGSCgUvuoAVolv3bp118Hu3bs/+ugjHMcjIiL69evXvXv3wMDALl26hIWFsdlsiqJ6O9iwYYNCobh06dKNGzeuX78+depUq9UaEBAQExMTEhLi7+8fHBzM5XKfczOO43h4ePjznOb8/fffm/mUw+HQKCfEYnG3bt0eN3kPWZk7rgCGCEhJSUkHDhy4ceMGvVZPe/bsMZvNsbGxbWj1JJPJli9fnpKSUl5eTrvVk8Vi2bVr16uvvtqqaxTDhw9nsVgnT56k15ICw7Cqqqpt27bNmTPHz88Ptc9ITjx1u19SUpKTk+O2PS4uTiqVdlbXZAzDbDZbfHx8XFxcdna260cFBQWXLl0aPHgwcnZEIBCt3RA5RzkYhnl7e492wGAwtA70ev3ly5d//fXXL7/8sqqqSiAQSKXSPn36JCQkjBgxIiYmhmJQPj4+0xyYTKbGxka9Xr958+asrKzjx4/b7XaxWAwp8+Lj459n8BbwIX5+HerjvQsgiBaNvxUaGrpgwYJmnmlNTU3TuCYdS1EwGIyZM2fabLYbN27QePdIkjx06BCGYbQ4ezzz1cnl8kWLFu3cubO8vJz2NQqDwbBnz54pU6YMHDiw9S4hMTERw7DU1FR6z5/FYlVVVW3dunXBggXBwcGoiUZy4ilgs9k7d+5s2jSPHj260xv8WCyWN998c968ea4bbTbbyZMn+/fvj7LaIV6QES2O482MGJBF/vPUFU5EIpFQKMQwLDIyMikpicFg6PX6EydOZGZmnj9//sSJE3q9XiqVDho0aMyYMaNGjZLL5RwOx8PDw8fH59VXX500aRKO47///vu5c+euXbt25cqVr776KiwsbODAgSNGjDAYDBRFsVgs9HCfbcjYfO/QjLbpQIoCw7B58+aZzeb79+/T1Q7AkXft2sXEmX379W3DuiaRSObOnfvjjz+2htWT3W4/evQon8/v2bNna1Qxp9WT1WpNT0+nt5XGcVyj0ezevXvp0qXe3t6oviM50dJCWVZWdvnyZbftcXFxEREROp2uc3c2JEl6eXlNmjTJLRf45cuXCwsLUQ4KxIsAk8mMiYlpZu4Aw7BTp06hGMptrjEEAoGrWdTdu3fz8vJyc3MPHTr0P//zPxRFhYaG9uzZMzo6WiaThYWFRURExMTELFy4EMfxwsLCe/fu5efnX79+ff369Q0NDTKZzNfX18vLy8PDw9PTk3arD0QnUBQUg1q4YOGBgwdu3bpFY2/I5XL3H9hvtpjj4uLaaoxBUZSnp2dycvLu3btbI9aT3W7ft2+f0WiMi4trvQc0bNgwFouVkZFBu9WTUqncsmXL7Nmzw8PDUXVAcqJFMjQzM7NpQVy+fPmLEIQYGrLRo0efPXvWLTjG1q1bv/vuO9e4TwhEpwTHcQ8PD3QfOgpOs6jhDkiSNDkwGAxZWVn/+c9/vv/++/Lycj6fL5VK+/XrN3To0LFjx4KjBUS0JEny3XffvX37dklJCQwTeTxeUFBQmAOUIh3hOmDFmfisWbOMRmNubi7tVk84jr/00ktteHVeXl6LFi3atm1bdXU1vcIGDKp/+eUXrVY7cuTI1hvAJCQkMBiMo0eP0uuOQhCEWq3etWvXvHnzunbtiqoDkhNPQKPRuHkOMBiMHj16BAQEdNaYTk3p1atX7969L1686LrxjoOYmBg0KYtAINrbJIirGuTz+Twez8PDY54DBoOh1+lPZJw4c/rM5cuXz549++abb3p4eMTFxY0aNWr48OH+/v5cLjc2NjY+Pt5utz98+LCoqKi4uDgvL48kST8/v5CQkMjISKlUCkdGBlEvuqLA8cWLF2/ZsiU/P59GqycMw3bv3g1+FG1SxuBHpVLp3Llzf/rpJ7VaTbuioCgqMzNTJBINGDCglbzPwerJZrOlp6fTGzsHwzCDwbB79+5ly5YFBgai6oDkRHMUFRU19RibNm0aSZIvSBdCUZTNZktOTr506ZLbYu7333//9ddfo5KKQCA6kMagKEogFLw689VXZ/7/ZlF5eXlFRUX37t1LT0//6quv7HY7k8kUi8Wenp4ymczLywucv5VKpUqlqq2traqqev/99zEMCwoKioiIAHUREhLSVtF4EG2uKDAMW7hw4YEDB27fvk3jwblc7qFDh6xWa3x8fBtaPfn6+iYnJ+/Zs6eyspL2Qk5R1KFDhzQazahRo1rvAQ0dOpTFYqWnp9Nu9QShHWbOnNlWEX4RHUBOMJnMEydOuI2h/fz8oqOjO3R8WIIgfvjhh6ysLDabDfHan7h8j+O4VCptaGhw3fjgwYO//OUvEDodw7DGxsaYmJjo6GgwCUCO2ogOzWuvvfbf//3f3bp1Q7eiE0sLBoPh7SAxMZEkSesfJCcn5+fn5+bmNjQ0wPoGhJTt0qVLeHi4xWJJTEzU6/WQkPuXX37BcVwul/fp02fIkCF9+/ZFN/kFVBQsFmvevHlarbawsJBeq6fDhw/jON5KcZBaeHXe3t4LFy7csmVLXV1da6xRnDp1ymg0Tp48ufWqPISjPHLkCL1+IEwm02QyQRZCMJhEIDnhXv50Ot3p06fdtvfu3dvf399ms3Xotq+oqEiv17PZbJ1OZ3YANksEQUAQGyaTyeFwQGxwOByCICIiInJyclwTIdntdoVCER0djeN4TU1NSUmJ1Wq9evWqXq+3WCwQQSUkJCQsLKxLly5isRgOxXWA/BoR7Zz6+vrHpf1CdEpwHOdwOGw2G5J4RkZGEgSh0WjKysoqHJSXl586dUokEsnlcoPB0KdPn5EjR86YMYPBYGRnZ1+7du3u3bu//fYbZCWCnHpsNpvH46G5FdoRCAQDBgxoiakthmFWq/XcuXOP24GiqLCwsKCgoD8/JsYwbOXKlZs3by4sLKTR6onJZO7bt4/BYLz00kttsgIGFyKTyebNm7djx47WsHpiMBjnzp0TiUQvv/xyKw0PwOqJJMn09HR6jdUxDDObzfv37+fxeMiPAskJd9hs9nfffdd0++TJkztHfNhp06bNnj1b40Cn00EQ97q6utraWljTt1gsVquV7UAsFotEotLS0traWteDWK3WtWvX+vj4XLx48Z133tm4cSNJkg0NDWq1WqPRKJXKqqqqq1evHjt2zGQy2Ww2kUgEWW+9vLw8PT29vLx8fX39/Pwg4CMq9AgEos1nW2CuxGq12mw2DocTFRUVExNDUZRWq4UGs66u7ubNm2lpaTBv4u/v36VLl7i4OJAWNTU1hYWFly9fzs7OJklSJpN5e3t7eXn5+/vLZDJ0h+nSfjwer4WeexRFNRM1hKIoWjwAXa2e9u/fn5ubS+P1cjico0ePWq3WxMTEtrrnFEUFBAQsXbo0JSWlpqaGdmGDYdjx48fVavWUKVNaQzXBA3r55ZdZLFZaWhq9k8KgWrdt2zZ58uRBgwahGorkxP+i0Wj+85//uG2MiIjo3bt354jpZLPZCIKQO3BtL1yx2WwlJSXFxcUlJSUVFRVNA+EZDIY1a9YMHTrUZDJBHyyVSsVicUhISNOjmUymwj+4efNmZWWlxWKBzlsulwcHB4eFhYWHh0dFRfn5+SErZAQC0R6kBeSbwzCM78DX1zcsLAwCUOr1+hs3bly7du3kyZNgBCKRSLp169a3b9/x48djGNbQ0JCXl1dYWHjt2jUMw+RyeZcuXaKiolriuFlZWWk0Gp/DPAtFUQRBmM3mx4U6pShKLBbHxcW1q2a55YFZn9tcFQxYORxOUlLSv//974qKChrvmN1u/+WXXwiCiI+Pb6vqQFGUj4/PokWLNm/eTHs+Csjwc/nyZYvFMnPmzFZSFAwGIz4+3mazHTlyhN78J5BPIy0tjSCIAQMGoBlSJCf+/2Jx5swZGCK7smTJks4dGhWiSTgbaxaL1b179169euEOMAxbsmTJgwcPXL9SVFSk0WjAvWnu3LkSiUQmkwX8gY+PD8cBl8vl8Xi9evWCPonJZJIkWV1dXVxcDLYEVVVV165dO3v2rFarhXVVHx+f4ODgyMhIm83G5/MFAoFIJBKLxQKBQCKRNFNXbTYbSoiBQCDoHYU4G0ZnZkOJRDJq1Khx48YRBFFVVXX79u3c3Ny8vLwDBw6oVCo+n+/t7R0SEjJ27FibzVZdXV1bW1tcXJyTk8Nisbp27Tp48OCoqCixWCyTyXg8ntuPlpWV0T5ia4ZmZtNJkvT396cxYimLxZJIJI9rpTEMg16ggxYVKCFvvfXWpk2biouLaTwyi8U6cOAARVEDBw5sQ6snuVw+f/78lJQU8Cyi/e5lZ2cLBILRo0e3kpUg5MxmMBjp6ek2m41eqyebzXbgwAEWi9WnTx+kKJCcYBiNxgsXLrgZNYWEhPTv35/ewtf+e1DSgVNdvPbaa++9957bnkOGDOnevfuHH364fv16BoOhUqlqamqqq6tzcnJUKpXZbLbZbAKBQCgUikQimUwGaaHA0ikqKgp6KYi5ptFowOxKp9PV1taWlZVduHAhPT1drVaTJOnh4SGXy729vcEtEhJRRUZGgju487RNJhNYmiIQiKaoVKo7d+4wmUyCIJhM5p9s0KqrqxkMhkKhEIlEXC6Xw+G8UBrDZrPBZIpEIhkyZMiwYcMoilIoFOfPn1coFNCI3bx502q18vl8WLlls9l8Pl8ul1+6dGnfvn1MJtPPz69Lly7R0dG9e/f28vKCcTb+B8/ncpoxWCdJkt55XLdV8aZwOJzs7OwOOivkavW0Z88eiB5LoxJLTU21Wq1DhgxpqwukKCo4OHjJkiW7du2qra2lXVEwmcwzZ86oVKpZs2a1RnsCDygxMZHFYh07dox2qyccx/fu3VtbWzt69GikKF50OaFSqXJyctw2jh8//kWe8wbZPWTIEH9//6qqKtePLl26BIkhYabNTYZhGKbRaIoclJSUlJeX//777yqVyrmDVCoNDAwMCgoCv+2wsLDQ0FCwj2IwGDweD9LQKBSK7Ozs69ev37p168SJE6WlpfBDGIaFhYV17969b9++/fv3HzhwoFAoRPUHgXgcCoUiIyOD3mPu378f3uA4LhQKpVLpoUOHfHx8wDnK398flisDAwPB17nz6QowwQcrfIlE4uPjw+fzQ0NDYR+z2QxWo/n5+TD1LhKJevfu/dprr3l6el67du3y5ctHjx5lMBihoaEJCQmjRo3qxAafTywAHb2EwPnzeLwlS5Z88cUXNI65MQwjSfLIkSMsFqutbPTh6nx9fRcsWLB582a3FLd0KYq7d+8yGIw5c+a0RuJIuISBAweazebU1FR61TLIldOnT/P5/ISEBKQoXlw5wWQyMzMz3YyaJBJJv379ULEwm83Lli1bt26d60alUumqvtzuEtjdxsbGQlQKMBLQ6XSVlZXVDmpraxUKRWVl5YMHD7RarV6vZzKZQqFQLpf7+fkFBweXlZXL5R4ikSgyMvKll17y8PCANdDi4uL79+8XFBQUFhYWFxcfP358x44d9fX1LBYLx3Ewu5LL5RBUis1mw9Qpi8VCzxFBL4sXLbaTzYUKKSkpaQ+jQ6vVOmzYsOjoaAi0AN7G8GpxYLVa7Y8Cx3GoONDTs1xgs9lms5nD4dgcwHEwDCsrK4OkPTDOttlsZrPZYrFATRQIBDBDL5fLPR14eXl5e3tLJBIIAQe7QZ3l8XhgLcnhcJ5P5Z0/f37z7rmVlZUticnhPFsul9ujRw8wHG1oaKipqbHZbJWVlYcOHWpsbJRIJNHR0QkJCUqlsrS0ND09/fDhwywWy8fHJzQ01NPTE1Z3UULujgWsUaxZs2bz5s30Wj2x2eyff/7ZbrcPGjSorcIkgh9FUlLS7t271Wp1a1g93bhxg8PhTJ48uakpIF2XMGTIECaTCfko6LV6oijq8OHDDAajDZ8Roo3lhNVqPXjwoNvGmJiYLl26IIt8u93er1+/Ll26uDaOVqu1pKSk+Q7VOW/nbGRhqhL7A6vVanBgNBoNBoPJZKqrq6usrCwvL//uu40KhUKj0WAYBu4TMpnM19c3KCgoNDQ0JiZm8uTJISEhJpOpsbER4q58+eWXOp1OpVLl5+frdDqj0QgL6BwORyAQSKVSiUTCYrHA7RupC8Sf7JMiIiOa36eoqKg9yAmKoqAGuZZ51/fgduwGbIRXEAwmBxBj2mQyWSyWxsZG5/7QMUulUudCBEVRJElyuVyQJSAYOBwORVENDvLy8uCwcEyj0Wg2m3EcBznB/QOhUChxIJVKwWwSLCdBjTgnGmh4oBFPeKA1NTVPG+IP7h64dHft2rVfv34eHh5qtbqhoUGr1RYUFNy9e7esrEyr1XI4HBzHCYIwmUx37tzR6/XQ9Pn6+gYEBAQHB7fS6ApBL86c2UlJSSkpKQ8fPqSxryEI4vjx4zabbdiwYW14daGhocnJydu2bauvr6ddUbDZ7Ozs7IaGhvnz57eG0QFcQkJCAkEQqamptAT4cj04WKbV1dVNnjyZ3gUQRAeQE2w2+8CBA03jzY8ePRrc9lH7yOPxEhMT3eZaFArFUx3EGffJdTsETnGVHBBf3BnIory8/ObNm3fu3MnNzX3w4EFGRkZjYyMcB8fxgICAiIiIbt26xcTEcDic0NBQgiCccgVmBGtra+vq6vLy8pxJRZhMJmSnioiI6Nq1a0REBBhrIo2BeKry3IFOtWnVcwWWEFs+Ee52+RiG2e32sLCwGTNmVFRUKBxAvVM6qK+vV6lUVVVV9fX1rifjfOVwOJC1RiQSgerAcZyiKIvFolary8vLNRpNfX09zBG4IZFI5HI5LHT4+fn5+vr6+/sHBgb6+/sHBQWJxWLnScJpO1/d/m3tokKSpM1mI0lS7ICiqB49ekyfPh3HcZ1Od/ny5WsOampqoA309PQkSfLevXu///47g8EICAiIjIyMjo4WCARuITQQ7bDGCQSC5OTkDRs21NfX0/WwYCh89OhRgiDaKnqsM9bTggULtmzZotPpaC+HBEE8fPhw7969SUlJrk6Sf37KgCRJeHWIfFylUmVlZcXGxgYEBND13OH1ypUrYrF4xIgRqJK+WHLCZDKBAasrXl5eI0aMQDmtnPWkT58+Bw8edI18pVarW2nc4zoFGOTANXGm0Wh8+PBhaWlpWVlZeXl5ZWVlfn7+hQsXHj58aLPZwBhDKBSKxWLIdxESEhIVFcXj8UiSDAsLs1qt1dXVNTU14DqZmpqq1Wq5XK5YLPb397fb7RBIyjk5yuPx0BwDAuHWMTftp3Ech2zTzX+XpMgGVUNjY6PaAawuwivkw9FoNHq9HhYrYEmEJEkWi+Xl5QU2ja6CxG63m83mhoaG8vJycI9uqpREIhGEiZNIJB5/4OnpKZfLPTw8XG2r+Hw+GGXxeDwwzWq99SVnc2ez2Xg83pgxYyZMmHDlypWioiKnHtNoNHBuJEnW1NRUVlb+9ttvEonEz88vMDDQw8NDJBJJJBJkVtE+6wiTyVyzZs2WLVtotHqCJfcjR47Y7fbExMQ2efRQdP39/efPn79v3z7arZ7gJ+7du7dnz56ZM2c6ZwSe4RGo1eqampq6ujqVSlVRUXn37p179+6VlJRotVqhUBgcHNyjRw/XNRB4ahCvAl4BwoHrR/CG/Qdgq+l85XA4BBMNG14wOYFh2JUrV9wytTEYjEWLFoGQReIS6livXr08PT0rKira/GR4PF4PB84tdrtdqVS+++67TCYTzLXBnECpVBYXF4MlFUy+wnjC09PTx8cHXDLkcrlAIDCbzY2NjaWlpZcuXcrLy9M7AHtxyOgHhhYikUilUsnlcmQCh0A8QzOCYRiO4U8M8gPmlE5nD1ec3hqNjY31DlQqFdR3eNXr9ToHGo3GYrFQFGUwGLRareskBYwDmEwmuHWB4SWO42w2m8ViwZgAHDlkMpnTI0utVrtZXtHiYg5HgKszmUx8Pj88PDwiIoIkSdMf1NTUVFVV1dXV1dfXNzqAESqbzRYKhWANFRwcjBwt2tUcHIRGXJC0YPv27aVlpTSOJcD032azjRw5sg2rc3h4eHJy8tatW2nPmQ1l+969e1u3bl2wYMETmwsnWq0uJ+fWrVu37t69W1hYWFVVBZMUUqm0S5cuvXr1Sk5Ojo6Ohiy9YrFYKBTm5+c3NjaCmxYYZzYF2grXf9HIEMmJR1SJyMjIkSNHnj171mq1QpcjFAqHDx9Or5tORx8HcDicQYMGNfUwoTfg2jO3rRKJhM/nO82LAwICnCZPoDfq6+uVSiWHw6mtrS0qKrp06ZLFYrHb7XBp3t7eAQEBXbp0CQkJ6du3r0QiIUlSqVRCvvD6+vrc3FyLxUKS5C+//MLn88FWChLwBQcHQ5w4MM9ApQWBaGbc3EJgmfFP/qLValXUKBS1CoVC4Uz/D4Py+vp6cOHQ6XSw1mG326GOw2ILTCWAHZfJZHrk0ge0POCXJZVKLRYLLI2CFzWfz3dthWCyA1wpXLc3bWyday+wciKVSv38/Pr164fjuMFggLXZyspKjUYDLmfV1dXXr1+HyOaRDsBaDBIHvTgFTKPRZGVltbDYZGRkNNNcWyyWuXPnDh48+M8rCoFQsGLlig0bNjQ0NNBlVgcHSUtLYzKZbetH4ePjk/Ra0k/bfgJvH9p79urq6j179ixZsgRs/Jx1xGazgWMSSZIPHjzIysq6fPnyzZs3S0pKwIHB09OzV69eM2fOHDx4cEJCgtOmuml169q1K2qckZygZ6Ds7e3997//ffny5adPn87Ozr579y4kN0VawrXhsFgs06ZNayonCgsLBw4c2A49TFztszEM8/T09Pb2Hjx4sEwmw3HcZrPV/QEIBqVSWVRUVFZWptPpIOY6h8OBCYywsLDevXuD43hQUBA4j2o0mrNnz/78888mkwlWMCBEpl6vZ7PZPAfgGYKyfSMQz7/6w6giMCgwMOgJ6agtFourwZXT5kqn0+n1eoPBoNVojSZjSUkJmGABFosFEuzU1taWlJQ80ksbXEudQavOnDkjk8nAFFMoFHK5XPgUZkZ5PJ5SqTQajbBIAmLA1fXFbrez2WyIFoVhmFqtBoGkVCrh5Esd/Prrr6BA/Pz8ZA4kEskL0gq1XEE1byZE18QQjLkJgvjrX/+6bdu2ZuKXPAMcDuf48eMkSQ4dOrStrJ4oBhUUHDRv3rz9+/c3Nja2htVTUVHRtm3bJk6caDKZKisra2trq6urHzx4kJeXB/21QCAICQkJDQ1duHBhWFgYuBhJpdKmDcKfnONAIDnx5NpuMBiEQuG0adPGjBlTV1cnEAjQELBp8xoUFNR0e01NTTuvkK4R4i0Wi9FohJZFLBZLJJKIiAjXHU6dOmUwGCBYjcFgUKlUDQ0NVVVVEM3WZDLdvn0bDCHAnzIkJAR8QPl8fk1NTVFREayc6vV6MK/kcrngwuEMR9NKWT8RCMTTjhKgKWCz2VA3m9/59OnTJpOpafArwGQyXb16FfzFnVGwTCaT0WiEAFZKpbKpsSgE4XVaaZMk6VzqJAiCz+eDDuHz+eAB4gRmK7o4IEkSDMNgpaKioqKysvK+A5gWEQgEgYGBkZGRAQEBnd7Ror31RzDG4PF4SUlJW7duraqqovEMcRw/efKkzWYbM2ZMG40M/u9fZGTksuRlm3/crNVqab//PB4vNTX1k08+YTAYer1eIpGEh4f36dNn2bJlvXr1EovF4BnlunyBZAOCaNsGCMIawqAZeU005ZGO6e1kcIzjuEwmaz6bJvTcri2La3gZsK+Ay4EdZDKZa1hbyM0XHR0NU4DgBQ5GUGAmJ5FIfH19wUZTJBLZ7Xa1Wg02FUVFRVDAICOHVCr1cuDr6ysQCGAA4bTORCUNgWiHQ08Ymj/uU1jwBE3SNGYUND59+/blcrkqlQo80eEVFkYgdGx9fb1Op7NarbAc4YxiB4qlaaMHTp88Hk8oFIpEIplMJhaL+/fvP2zYMIPBAEn0KioqwG7zxo0bDAbDz8+vZ8+eYWFhxB+0k56OzWbLZLJmQvHy+fwOnTNbJBK9/vrrX3zxRWNjI71WT+np6QRBjBgxog1rkFQmHTZs2Jo1a6AE/kmDBRiAOeuOn5+f2Wzu1avXP/7xD7dgD2iohmhfcgJp2ZZ0padOnWq63dvbu82beIqi2Gz2hx9++MQ9r1y58lTTJ27hNQmC6NatW48ePZx2yQaDQalUqlQqkA319fV3794tLy+HfBrgsMXlcsPCwiDFOEVRVqvVbDZXVFSUlZWBrTaO4zweDwyrYK4FplvAHAIVRQSiQ+AWANcNCEIlFoshZTjWBBzHL126pFKpYB3VmWQQrKrMZrOrM7prFkIIPqFQKJw7OHsxpzEVxKiw2WyQSBQcM/z9/X18fORyeffu3Z82pQbtty4qKmrt2rXNz2edOXOmg3rBgqLgcDhvvfXWjh07SktLaTw4h8PJyMiw2+0jRox4zqtPkEYmMzMzNTX1119/7devn5eX1yPLEhh9uQL+UY/8l81mu24HJ6JHTl+i/hHR3uUEwg0Wi3X27Nmm22GpvUNov+ZD77fwCM7cfM5JETCTcPp8nz9/Xq/Xw2wi7KzRaJRKJUSe0Wq1Go3GNbsfOJFDQAm1Wl1VVdXY2GixWMD4QSAQQOouuVzu7e0tk8lQUEgEohNIjkcCJlJg6QTGTo9r65yrFs61C6oJYLHp6hACvh+gQ8xmc5GDwMDAnj17tm0z3pI23Gw2d+ixIygKoVCYlJS0adMmpVJJb0rmzMxMu90+bty453ZFRqPxyy+//Omnn+rq6qZNm5aVldWlSxedTpednQ2dmtMpCAIxY83idBZq3nMVLUcgkJzo2JhMpvr6epFIZDQaMQwjCEImk1VVVb2wo1u3Fg2GCNAlO/NUOJ00IPqTk8bGRljTUKvVKgf19fWgPSiKgqiULBYLDLIrKiry8/OdPwqOlWAr5e3tDfEunbGxUTvbfhg8aHAzhUen1507dw6FAutAxPaLbT4W0P3797VabWurEddS1EzzC41PU4tNNyssCHDXHgL0vSC9Bti7vvHGG//85z/ptXrCMOzkyZNMJnPUqFGt2hEYjUalUrlr167PP/+cIIjJkyd/8cUXXl5eUOp4PN7EiRPbVnkiEEhOtFOgD9u4cWNhYWFpaSk4KigUiq+++grdnJY0fM6ZP+jj+Xw+RKJwdvCQHMNgMMAbCJyv1+ttNhsYPoHjit1u1+l0KpWqsrISvggRYMAyCiLG8Pl853vk9t2G9UUkFjVXNnAUO66DPVChSNjMPhaLpV05PrmtYzQjOSDCNSqNz1NR8Pn8VatW7dq1q7y8nMaDczicU6dOkSQ5atSo1pjpMxqMqcdSU1NTMzMzo6OjN2zYMHHixMDAQDdvBwQCyQlEcy0ghmEQ1By8AC9fvozuzLP18a4dPNxYgiDAccK1p3e1YbBarZCxC4JNgRMnRVGQqAu0h1KpBPMGiqJg4dhpKAVLGSKRCDX3z3Mk98QRKgI90PZwXahZeP79qVQqTUpK2rhxY2NjI733/9SpU3a7fcKECTQe02w2b9my5csvv1QoFKNHj7506VJoaCj4M0DJR0UIgeQEgrYOFUHjjQVLBphhAh8+kUgELt0woQi5+Rr+QKPRNDQ0wFozmC6w2WytVqtQKP63ghEEZPMFfw8PDw+nr1u7ivGCQCAQL4KiePPNN7/55ht6rZ6YTGZmZiaO42PGjPmTK2Zms7mmpubQoUMbNmwwmUzjx4//xz/+ER0d7aqfUa+BQHICgehIkgN8K2ELrGmANnBaRZMkafwDiHyv1+u1Wi2YTsF2SHpVUFAAx+FwOBDVHkyqILuW+A+Q2zcCgUC0nqIQi8UrV65MSUmprKyk8eAcDufMmTMkSY4bN+7ZFIXJZEpLSzty5Mjp06fDwsI++uijMWPGhISEILsmBJITCEQnFBhuRlOQYk8ikTg3OneD9waDoa6uDuymYFmj0YHrYZ36BBYxwFDKx8en+bQeCAQCgXhaRSGXy5OSkr755hu9Xk/vGP306dMkSU6aNOlpv7hv376///3vxcXFgwYNSk9P79mzJ4vFQqZxCCQnEIgXRWA8cqOrUyYk0evataszKp/JZIIYU5BXq7GxUafT2Ww2q9Xa2NhYV1d39+5d+DqLxZJKpXIHnp6eQqEQAoQDHTQePAKBQLStovDw8HjzzTc3bdqkVqtptHoiCOL06dMYho0bN+6JS81Wq/Xhw4dnzpz57LPPdDrd6NGjDx061LdvX/SMEEhOIBCIR6gLCDPlmj0DliCc6xI2mw1spSBEvclk0ul0jY2NEL2+vLz8wYMHToHB4/EgxDiYS4lEIi8vL5lMJhQKkbpA0M7BgwcjIyPRKAfR+RRFcnJySkpKTU0NjQdns9nnzp2DNYrHNch2uz0jIyMlJeXChQve3t7r169PTEyEmCso5BcCyQkEAtFSgdE0lCTXgfNft08pilKr1XV1dUqlsqamRqVSNe0CcRwXi8UymczPzy8sLMzHx6ddhdFEdFCuXLnCYrGQnHgBYTKZYrG4mdgVkLen4yoKb2/v11577d///rfFYqFxEE9R1NmzZ0mSnDp1atNPT5w4sWbNmgcPHvTu3XvXrl0jRoxwSgiK0Wm1xPnz5wsKChYvXoyqFZITiGdBUVn54PrvDDraBxzDix251Qpu3RLw+SSNjThFcThcptFot9npvXyKQT148MBoND3uDjBxvK642Gq1PW4Hu9WWm5vbzE/Y7faKigqr1foi6BCJRCKTyaKioqDL0Wg0oDEaGhrA89tgMGi12uLi4kuXLsG3+Hy+RCLx9fUNDAxks9n+/v6uogWBQCAeB5/Pj4+Pb66DUyiOHz/ecVtUUBSrV6/esmVLQ0MDXe7OGIaxWKysrCwcx8eNG8disaxWa2Fh4eXLl7/88sva2toRI0b8+OOPiYmJ7nkSGZ12XUKn04FdGQLJCcRTI+DxsrOycrOy6Gn7GAwjg8FiMP754YedqcnBnvRpxoXzzUoh6kXQEs30W84ukMfjQSgq8g8g1ZdCoaiurr558yaGYa+99hqSEwgEghY6em5vaDk5HE7Pnj1TUlLq6uri4+Od0fz+JCwW6/z589Ayb9myJSsry8PDY/Xq1SNGjAC7JtdzeEF6K1RlkJxAPDUWi+X9f/yDQXf9wRgM+peWHRlDBw4c2Br3gaIYJEU+7lMmjn/44Yc6ne5xDY3Vap04cWIzx7fb7RcuXDCZTKjItexxUC+sba5AIHj//fc70xW94GGF2Wz2smXLnPnvm0KS5P3792nPWUZXTWymhja/zxMP8my7PW1mQHD6stlsZrPZOYVBURRBEDiOt59pi6bR9mpray9evHjt2rWbN2/m5uZWV1eDsSiTyRw0aBCdAyyC+OSTT65evRoREbFt2zbIc9eq5mGQjBUFHEcgOdGphHgz/Vx769jomo951H1gMLHmLPihE3qclb9zlr0ZOQF9GCpyLS+ZL6aOwjCMz+d3yut6YUsyj8drvm1p+biqsbFRpVK5tiRNWxUmk0kQhHN46jr6f+Kr654ANFzONPwkSQqFQqvVCg3yI7HZbNDiPfJT53a3HZr+6xz6kyTpdIFwnonbe9eThy9arVaz2dxMr+Hn57dw4cI2XLswGAyQ8KehoUGtVldVVd2/fz8/P7+kpKShocFut/s68PPzW7RoUXh4eGRkZLdu3UiS3LVrl/NuuD4g56vbU2u+9pEk2a1bt5CQkGXLlo0cOfI5pI+4ePHir7/+um7dOtTTIZCcQCAQCCSikDikQWu1fOfbt29nZ2c/8n46jwMT2M40+RD6GV6dloduJogwUfK4HZzBo+E9l8sFxQLp+eENjuPOLRwOh/kHbrvBm//7HmcyiT/eu+wMwNHgjfN33c4Zc0GlUhUWFj58+LCkpKS8vLyiokKtVuM4zuFw7Ha7QCAgCEIkEonFYvDsgi1sNvs5awmFQnH37t379+/n5eUVFxdXV1dDZDySJOVyeUhISExMzKxZs2JiYiQSidCBWCxumthnxYoVFosFlAD1JEiShADfTqX3f19tdqvN6nxvd0g5tVpdVFQUFhb2HHSUQqFAdR+B5AQCgUAgEM8bs9kcERExePBgV5EA4gHHcRaLderUKQaDMWHCBBh/P8OKaPNfoSjKz8/vrbfeem5ay83Vym63V1dX37p1C8blBQUFxcXFWq0WjHaYTKafn19kZGRUVFRMTEzPnj379etnsVg++ugjLpfruvDSGhLXebYARVHlZeWXLl+6fv36rVu38vLywJGaIAipVBodHT1o0KDY2Ni4uIExMdFND9XMGQoctPCUnvZKn89aIppiQCA5gUAgEAhE28Dn8318fJoO+sEfgCAIi8Vis9laKf6y0ySplQzftVptXV2dyoFardZoNFVVVaWlpWVlZVVVVWq12mw2s1gs7z8YM2aMn59fQEBAYGBgkIOmx6ysrARBQvtYlqIojUajUChqa2vhtMvLywsKCoqKiiorK/V6PYfDCQgI8Pf3j42NnT59ehcHEREREonk+Yy2n+E4aKCPQHICgUAgEIjODJivPO6jjuWgVVFR8eDBg4KCArBTqqysVCqVRqPRZDJZLBahUOjr6xscHBwZGRk/MD46OtrTy5PD4XD/oHmnlNYAwzCFQpGRkXHr1q0HDx4UFhbW1tYaDAa9Xk8QhL+/f3h4eM+ePadPn961a1eBQADZPPl8PovFavqw0MAdgUByAtHBiIuLy87ORvcBgUAgnoPmAbt8JyRJFhQU3LlzJzc3Ny8vr6ioqLy83GKxEAQBCiEwMDA8PHzYsGHdunXr4YAg3Lt+ikG1YdIDHMd//vnnr7/+ms1mczgcT0/Pbt26DRs2rG/fvnFxcYGBgU8lGNw+qqys9PLyYrPZqPAgEEhOINovOTk56CYgEAgE7ZAkWV9fDwY/SqVSpVKpG9SVlZUVlRVVVVU1NTUmk8lut0ulUghV1K1btxEjRvj4+EDYooCAAE9Pz0dqErcxdxtqCVj5iYuLGzx48MSJE4ODg58YZPapFh9mzJjx008/de/eHRUnBALJCUQ7LkMEKkUIBAJBw8AaLJTy8vIKCwuLi4tLS0v1er3FgdVq9fHxCQwMDAsL69ev37x582JiYsRiMURSAppa/jxaPNBkC8Tn8/v27fvIH31aYmJiBg8eDPndwK6MrpMUCASt5O6CQCCQnEAgEAgE4vlJBWcKCIikZLFYGhoaVCpVfX29Wq3WarWNjY1r167lOeDz+V26dBk6dGhkZGSMg4iIiJZIhaa0kiMBRVEymWzx4sX0HrO1MzMgEAgkJxCdEA6HY7VaH9d/oH4FgUA8M45EEcxmmpdWamFIktQ7MDgwGo3Of/V6vclkgvlyHo8nEAhEIlFoaKhAIPD391+8eDGYLQmFwpaIhzZsIVvjp1GDj0AgOYFAPAtvvfVWMyFTmEzm+fPn0V1CIBBPryXwnj17NNO8YBh29+5dlUr1J3/IarXCIgPkYG5sbFSr1eAkDSn/pVKpWCyWSqUBAQEeDgiCcMuFB3knBg0a5LTM+TPiYceOHXFxcTExMagYINoDQqHwiTF8EUhOIBDPzvOPSIhAIF4EIK/ZE/dx6g2j0djQ0PDI3ZhMptFopChKpVJZLJb6+nrI3tDY2KjX63U6HUEQLAc8Hk8mkwUFBUkkElAOUqnU6XDsmmvZTRs4tz+DeGjKrVu3wsPDURlAtAcoikp0gGL4IjmBQCAQCESnhcfj3b17t66u7nGqw2AwMJnMI0eOMJlMoVAoEok8PDxCQ0PB1QFyNfB4PA6H43QmBnlgsVgeecBWvZxmTLwQiOcv7J9PsUcgOYFAIBAIRJsxcODAl156qYUDI8wFtx1sNhu6mQgEAskJBAKBQCBeLJgO0H1AIBCIZwAFY0YgEAgEAoFAPBq7A3QfEEhOIBAIBAKBQCBaitVq3bx5c+/evSUSiUgkiouLW7duXVvpCrvd3qNHj48//vjFFDZXr16FN8uXL586dWo7PENk7IRAIBAIBOLRA8pr166RJOm2nSTJrl27+vr6Pu6LFEUVFhZWVVUNHjyYIIj8/HylUtmjRw+xWNwR7wNFUSaTic1mM5lMtVp97949Ly8vyOHdWbl37978+fNv3rzp5+cXExNDEER1dfX69ev37Nlz+NDhXr17PefzMRqNubm55eXlzYR+7pSYTKYhQ4Zotdp79+4xGIycnBy1Wo3kBAKBQCAQiI5BXV3duHHjzGaz23az2bx169YlS5Y87ot2u/2LL77YsmVLfX29h4fHp59+euTIkRMnTiQkJHTE+5CZmbl79+5//etfnp6e165dmz59+pw5c3788cfO+tzNZvPUqVMLCgrefvvt5cuXe3t7s1is2tran7b+9PEnHy9bvuzMmTN8Pv95nhKPxzt79mxAQMCL5uOkUChu3LgxYMAA+PeHH35on/EekJxAIBAIBALxCGw2m9lslkqlK1euZLPZrtv79+/f/HetVqszZq7VajWbzU1XOToKa9as0el0YGbD4/HCwsICAgI68XP/5JNPCgoKZs6c+emnn7JYLIhgFhoa+tHHHx04eOD27ds3btxISEiAPBIPHz7MysrKy8sLCAiYMWMG3BmSJC9fvkySZEJCAny9oaHh5s2bISEhkBHFarVeOH8h61yWVCodNWpUTEwMJHCkKKq2tvbYsWPFxcWxsbGjRo0SiUQQRc1sNkPaR/jdsrKyc+fO5ebmyuXyadOmhYeHQ2G7efOmWq0ePnz4+fPnT548GRsbO2bMGIFA8MgrJUnSYDAcPHiwqqoqISFh6NChcHDIEpOWlnb9+vWoqKjRo0f7+PjAV0pKSoqKimJjYxUKxbFjx7hc7syZM+FTq9V6+vTpnj17CgSCo0ePVldXjxs3rk+fPq6/WFtbe/z48crKysTExISEBNfcOCRJVldX79mzB8OwKZOnRHaNNJlMV69exTBMrVb/9ttvQ4YMsTpw1e23b99OT0/ncrnjxo2Ljo6G2/jw4cOysrL+/fuXl5cfP35cLBa/8sornp6ezi/m5eVlZGSo1er4+Pjhw4dDYk0kJxCdGdc+rCnQuKC7hEAgngE+ny8SiZyJqNsQiqKe83Rvy/H29n7vvfea5gSEvH4EQTgTHpMkqVAo5HL5095SrVZbVlbGZrNDgkPYnP9t8w0GQ3V1tcFg8PXx9fTyhNaeJMna2lqpVMpkMisqKkwmk7+/P5wDRVFGo1Gj0fj6+mo0GpVKZTabXYdfsE9jY2NVVRWLxQoICODxeK6diN1ur6io0Gq1fn5+crmcJElIcG6z2erq6sRi8eDBg69du+Z6gXq9vrq62mQy+fr6yuVy59FUKhWO4xKJRKFQKJVKuVzu4+PTHgrbE/n555/ZbHZSUpJr/wvj7H379imVShCTSqVyyZIlaWlpQqGQzWarVKrVq1cfOnRoxowZJpNp8uTJBoNBrVZDMparV6+OHTt2woQJx48f12q1EyZMOH/+vKenp9Vq/etf/zplypQ9e/YIBIK0tLQpU6YwmUxfX9/PPvuMIIiUlJTZs2fr9fqxY8fOmTNn586dFotl1apVO3bs4HK5QqFQqVT+7W9/27hx4+uvv05R1IoVK2AFKTU1VSwWNzQ0BAUFnTt3LjQ01O0yzWbzmjVrNm7cKBaLMQx7//33J0+enJKSIhaLT548uWDBgrq6On9/f6VSabFY/vWvf7311lsMBmPTpk0bNmwYNGjQpUuX5HJ5fX39G2+8sX379oULFzY0NIwbN2706NGZmZlisdhoNL777rvJycnffvsth8MxmUz//Oc/33vvPS6X6+Hh8cEHH/Tp02f//v1RUVEgt+bNm5eRkeHj46PRaN5xsHz58v/6r/+yWq35+fnDhg2rqalJSkqqq6tTKpUMBqO8rHzhooVnzpzx9PQkSXLNmjVz5sz59ttv5XL5V199tWnTppdeeunq1atwkitXrty/f/+sWbMYDMaGDRvWrl3L5/PFYvH69eu9vb2PHj0aHx+P5ASiMxMbG9vMpxaL5eLFiyaTCd0oBALxtEyZMsVtrNmGEATRPseaMEYXiURu22022+zZs+Vy+f79+50D6F69en399dfz5s1r4cFJkvz8888PHTqkUChwHO/ateumTZvALeHatWtr164tLi42m80ikWjGjBmffvop/EpsbOz7779/+PDhhw8fWq1WuVz+8ccfT5w4kcFgHDhwYN26dSkpKW+88YZKpaqvr//v//7vXbt2yeVy+MUdO3Z8/fXX9fX1TCYzICDg66+/dqYcuX79+jvvvFNWVmYwGGQy2ZIlS954443p06cXFRXZbLZJkya9+eabCQkJS5cunTRp0scff8xgMC5cuPDuu++Wl5dbLBaRUDR7zux169bB0RYvXhwSEsJgMNLT0w0Gg0QimTNnztq1a5ufI2tzqqqqlEqlQCAICwtz3Q5z9q49cmpqalpaWlJS0rp166xW68OHD8ePH//+++/PmDEDwzCRSORqmEQQBJvNBs28e/fu8+fPf/rpp6+88gqGYX/9619TU1N37tz5+uuvw03bsWNHaGjozZs3Fy1a9Oabb06bNg1EGo/HYzKZFy9e3LFjx9SpU7/44gswB0pISPj8889XrFiBYRgsRNTU1Fy7do3P52/btm3Dhg3vvvvu3r173Ur1N998s3HjxmnTpn3xxRd2u/2777775ptvNm/ePH/+/BUrVuh0urS0tJ49e6rV6hUrVvz1r3/t2rXr+PHjQR0VFBRkZGREREScO3fuL3/5ywcffDBz5kyov5mZmZs3bx4xYoRarZ44ceKePXuSk5MHDBiQmZn53nvvDRo0aMeOHWw2+9atW9OnT1+4cOHly5cZDEZSUlJGRsb69evnz5+vVqtXr169YcOGuLi4w4cPJyYmduvW7fDhw15eXnw+XygUghZKXpZ85syZv/3tbytWrLDZbJs2bfr6669tNtvBgwe5XC6DwaioqDh75mxQcNDJkyffeuutDz/8cOLEiQKBYO3atUOGDNm4caNIJEpNTV29evUnn3xy9OjRplMGrSUnCILo06fPi+YH8yLQnif4H7dG6SyTaHUCgUA8Gx4eHugmtGTEbzKZXIcaTCaTzWZTFFVQUKBSqVwFhlKpfFxy8Ueyc+fOd999NyQkZObMmRcvXjx9+vSoUaMKCwvNZnN8fDxJkhMnTgwLCzty5Mhnn31WUFDw888/22y2qqqqlStXisXiiRMn5ufn//777//1X//Vr18/Pz+/+vr6srKyYcOGxcTEDBs2LCMjIz09/bPPPvvyyy8ZDMb333//l7/8xdvbe9asWQ0NDUeOHImLi8vPz4+MjNRqtWPGjGloaJg1axZBEEeOHHn77bc9PT0HDBiQnZ1tNptjY2NDQkI0Gs39+/f79evHYDDUanViYiKO41OmTAkMDDx8+PD69esrKiq2bt3KYDBKS0tTU1NxHB85YiSbwz558uQHH3wwceLEvn37tufHrVKpbDYbl8t1GnRZLNYpUyYbDAYY/lksljVr1rzyyit8Pn/8+PE//fQTjuN2u93X1zcmJqaysvKJPwElxGw2+/v7czicf/3rX0uXLo2Li4N1KjabLZPJfH19QUX4+fmxWCyn7Aerp0mTJv30009SqdRut3fp0mXgwIE3btyA9RPYbe3atXCfZ8yY8cMPP9y/f9/tHIxG45kzZxgMxt69e7lcLkVRb7/99p07d0wmU0FBQVlZ2f/5P/9n4sSJFEWFhIT8z//8z8iRI9etWzd+/HinVhw7diyDwYiIiPjggw+MRmNNTQ0skQ0dOnTRokUwOJk6deoPP/zw/7F3HmBRHV3jv9tZdmlLE9gFRUAEERVRMChK7AUbFrAkgsaYRKKvEQv2FmKN7TXGigo2fEURLEEFsSEgICALSq8unWUL2+7/+TjfO9/+UYktiSbz83l8llvmzr1zZ+45Z84509TURBDEoUOHCIKIjY3lcrkajcbMzGzixIkXLlwQCoVcLvfhw4e2trZr1qyB8oODg+l0ukwms7a2plAoOjo67bS758+fP3782MrKauvWrbAlNDT0woUL165dq66uhuewaNGiwUMGEwTx7bffrly5UiwW19XVgabR3NxsZWWlq6sbHBxsaGjYt2/f97RlvJ06QaVSO5btMJ8u2v0Qg8FgMBggPz/fxcVF+wPh5+e3d+/e9y/5xYsXgYGBzs7OSUlJRkZGBEGMGjXqyZMnycnJW7ZsUavVyMNkzZo17u7ucXFxycnJYPLv1KlTTk4OKIQeHh7JycmlpaUWFhZQ8tChQ69fv04QRF1dna2t7cmTJ7dv3y4SidauXWtubp6UlAQTIOHh4YGBgcHBwVevXp02bVp9ff358+f9/PwIgjh9+vT8+fNTUlL27t178eJFsVh8/PhxLpcbFxeH6j9mzBgqlXro0KHAwECQ5/r06XPhwoXg4OCePXsifWnmzJlgkp81a9aVK1c+cnXCwMAABNnCwkKoKklqRCKRRCKhUChisbiioqK0tJQkyYCAgP79+586dSo/P//Zs2fZ2dn5+flgO++YefPmnThxYv369Tt27Bg0aNDIkSMHDBgAicJCQ0PXrVvXq1evbt26DRs2zNvb28nJSVvShWmiPn36xMXFwXVzcnJyc3O1Z0IoFEqPHj3gt76+vo6OzsvhyzKZTCgUOjs7gy5BoVCsra1BwQgLCyMI4uuvv0bG1i5duvD5/IKCAnS6QCBAgpORkVFlZSUKDYIABjgRdABQw/Lz86lU6pw5c1Cu28LCQpiF69Kli1gsHjJkCDp4ShsEQZSWlr7yGVZXV9fU1MyePRudYmJi0q1bt7t37xYXF8PVLS0tUSVB9dJoNDQabc6cOceOHePxeBBY4uXl1bVr1z9VncD8jcG6BAaDwWBehsvl+vj4MBgMtAXJau/J3bt3CYIYOXKkkZERCD3h4eEtLS2GhoYQYguCOEmSPB5v3rx5K1asePbsGagTo0aNMjQ0hLM+//zz5ORk7RUJ5s+fDyey2ezu3btnZ2eDL5NYLLazs8vMzExOTqZQKEqlkkajwWTIw4cPHR0dBw0aBGVOmTLFzc0N7M0ajYYkSYlEwuVy4VsJ/wuFQj6fP3HiRLiWubl5UFDQxo0bS0tLe/bsCVeHWyAIApYLAEP1x4xAIDA0NCwpKcnPzwd1gslkxsXFkSTJYDCuXbs2c+ZMED3j4uLmzJkjEon09fXd3Nx8fX0vX778utkJhUKBfFssLCwSEhLOthHXBo/H27ZtW2Bg4KpVqwYNGnTixIkrV67s27dv//79np6esbGxaHKMSqWmpaWNHz++oqJCV1e3T58+o0aNYrFYmZmZ2pdDvnmvk21UKlVzczNEJ7c7prm5GRyr0BYajUalUmUyGdoCe+HEdsmm0EsCtUXivlgs5nA4DAYD3YuTk5ODgwOPx2tuboYZoTcXxqBMMPGjU5hMJswlwkbwy0KVRB1k//79Y0aPiYiM+O2339LS0iBOZu/evVABrE5gMBgMBoP58PIleHu/LM28UsR5c7KyskC4REKPWRtlZWWtra0MBkNb2nNxcSEIoqqqCq4Crjiw6+XlLGDyATICsdlssBy/ePFCpVI9ffp02rRpUAiFQgGvrbS0tKamJgcHB4jKBU9aBweHDioPpbHZbJhXgbNcXV3BcgxPQ3tpDm3J8qMFVKkJEyZs3749IiJi5MiRBgYGFAoF5TVCQjaFQtm4caNIJDp37hzY0VUq1ZkzZ+BRo5tVKBQg1FZWVqIpgsbGRolE8t133y1ZsqS5uTk4ODg8PPz06dOzZ8+ura3l8/lHjx4lCCIxMdHf3z8lJeXWrVvgWQRi8apVqyoqKn755RdQGkG/bZc37HeFciaT2alTp5KSErSlvr5+5cqVhoaGoESlpaWNGjUKdtXV1TU3N0NDvzPW1tZZWVnnzp1DWxobG1UqFY/He/DggY6OjnZlMjIyNm/ePGzYsPHjx7+yNAMDAw6HIxQKtTeWl5fT6XQej9fBa9ba2lpdXT148ODJfpNhFm7mzJkxMTEhISHvs5QKXhUbg8FgMK+FwWD80xK9Y14WMV9eegIZ6bXFuLKysrcqGWz/YrFYWx6KjY2tra2l0+lqtVr7upWVlWB1hktrp/V7OQWttucGcuXlcDgUCsXb2zs+Pj72v0RERBw6dMjJyQmc8rUTe8TGxqampr6u8hwOh0qlKpVKhUKBNoJt/ndN4x8tUOG1a9c6OTnFxMTMmjXr9u3bFRUVUqk0JyfnxIkTa9euRRkXIRmXr68vnHvw4MHS0lIIcmCxWFwut6WlJSEhAXJAXbp0iWyDIAh/f39HR8dff/1VrVbr6+tDuiEmk1lSUmJhYTF8+HBwK/L29nZ2dn5ZMoa96LoRERE5OTlvm4aYy+V6eHjU1NTA+iEajebixYsHDx7Mz893c3PT0dFZvHgxtKZCoTh8+HBtbS14Fr0zo0ePlkqly5cvh7e6pKTEzc3N1NQ0NzfX1dWVz+enpqYmJCRA5oMdO3ZERUVVVVXBo5bJZNrdBPyv7O3tExMTr169CmltT548mZ+fz+fzYWbslXWg0+np6em2trZfzvkSJsr8/f07der0/kmc8ewEBoPBYF7L8uXLwbiIwbwseurq6paXl6MtV69efSsDPDhNpaSkKJVKcKZas2bNuXPn9u/fb2xsnJeXd+vWLWQhPn78OJVK1V7wAekJbyi129jYsFis8vLyfv36gZeIUCj09fW1t7e/dOmSpaVlUVFRcXExLBTw+PHjSZMmDR06NDY2FkKNte+LJEkul6uvr19TU5OcnDxw4EDYfvToUTqdjmz5n6j2CCEifn5+MTExt2/fhjywEomkqalJpVJ9/fXX/v7+4G925MiR7t279+3b9/nz51lZWWw2WyaTKRVKBpMxceLETZs2zZo1y8XFpbCwEIRXaKmdO3deu3Zt2bJlR48c5RnzHj9+DDHTXbt2DQgIiIyM9PT07N27d3l5uVAotLOzGzlypLa8Cwti9OvXz8PDo6ysLD09HVSXxoZGYxPjNzeUfP/99xcvXly0aNGZM2caGxuFQqGRkdGBfx8w72Q+Y8aMI0eOQDVKSkoyMzMnTZqEcna9G3PmzImMjNy2bdv169dNTU2fPHny4sWLJUuWODs7EwSxZcuWyZMnT5kypV+/foWFhXl5ed26dVu7Zi1B+R/dOCcnRyAQJCUlIeOOiYnJqlWr/Pz8pk+f3r9/f6VSmZyczGKxtGN7XkalUnl4eHz22WdXrlxxcXFxdHQsKCiorKycOnUq+BC+M3h2AoPBYDCvxcjI6KNdDwHzl6sTjo6OtbW1q1atqq2thQytb1XCsGHDevToERcXd+LEicrKytjY2IsXLzKZTE9Pz5CQELlcvmLFitzc3KqqqrCwsAcPHri4uLxPdvz+/ft7eno+f/586dKlpaWlhYWF//rXv549e2ZkZESn07ds3tLU1LRy5cry8vLnz58vX75coVDAasRcLreqqio1NbWqqkpbdVm9erVYLA4JCSkoKKiqqlq1alVmZma/fv1QHPYn2qyget2/fz8sLMxaYA0eMoaGhqNGjXr06NGBAwcg1iUsLGzcuHFyufz27dstLS3Hjx8/efKksbHx5ZjLBEFs3LgxJCRET08vPz/f2to6MjLS2dnZzMyMIIju3bvfvHnT1ta2qroqKyvLwsLiwoULgYGBJElCWlUdHZ3Hjx/D8hS5ubm6uroUCsXY2NjExESlUq1evXrWrFkkSSYkJIhEop9//jkxMVFfX/9yzGUKhWJpadm5c2c0PcVisWxsbKytrV/Wmnr27JmZmdmzZ8+cnJzKysoePXokJCSYd/ofVfDw4cPr16+n0+n379+XSCSLFi0KDw+HiQITE5POnTujtVbAG9Da2prVhoGBgbZPlLGxcadOnUB3FQgEKSkpI0eOfPHiRUZGBouls2rVqrCwMJi0mTRp0r1798zMzFJSUpqamnx9fVNTUwnK/+qolpaWVCo1NzdXIBCA3E+S5OTJk1NTU21sbDIzM/Pz8wcPHpyW9hhWCTQzM+vcubN2cufOnTsLBAJw7YuOjh47ZqxarU5PTycIIigo6OzZs++ZvxjPTmAwGAwGg3l7AYJOX758eU5OzuY2CIJYuHDhvn37tGcMwJj6yqQxMLdw8eLFb775Zu7cuRwORyKRdO3adcuWLQ5tlJaW7tixw8nJicvlKpXKzz///OjRoyYmJiKRqF1R2uW/fC2IoIDfJ06c+OGHHw4cOHDs2DG5XE6lUv39/fft20cQxMxZM4V5wt27d9vY2EACnPnz569YsQLkrQcPHowbN27o0KHg7QNXmTt3bkVFxe7du+3s7DgcjkajGT169OHDhyHfFLWNDqr6MQOB18vaaGlpkUqloAmghqNQKCYmJpcvX5ZIJAqFAsnQkydPRjNUP7XR0NAAe8E9CXb5+PhkZ2fD6h+Ghobak1q//vorrIeI8nSRJMnhcGDtNnjxTpw4IZfLW1pa0ErPMPsBCgk6C8ToR48evZy+EpbREAgEDx8+lMlkCoUCaQhw4po2amtrtReTJkkyuA1UIEmSMTEx6IDGxkbtg79sA/2pp6cXGxsLqXJNTU3bPfABAwbk5OQ0NDSwWCww4kBNpreh0WioVOrUqVO1L+3m5vbkyZOmpiY2mw36AJyyvA3tIyFpFWwxMTGJuRIjl8ubmprQTNp7pvek4EUkMO8JTDL+VVdvbW3dtm0b5GHAfCRoNBqBQLBw4cLf/XCOHj16y5Yt4FqAwWA+FEuWLJk4caKXl9d7lqNWq0HgMzIyep1KIBaLi4qKqqqqevfuzePxGhoauFyurq5uc3MzyKBUKrW5uVkulxsaGr4cz02hUGQyWU1NTWpqqpWlVTfHbiBcouWr8/Pzq6qqPD09oVi0KjaXy4VYCFg8WywW83g8yHAKGXsgfw5JkhDwampqCpdTKBQNDQ2PHz9WqzWurq5mZqYsFgt2qdXq5ubm7OzshoYGNzc3MzMzcMFSq9VlZWUVFRX29vZGRkYNDQ06OjoQ/63RaJqbm4VCYW1tbb9+/fT09NhsNpRWX19PkiRaPo8kSZFIxOFw3iSV6rtx48aN6Ojof//73x9QqdAWMTv+s6Ny2v690blth6JdrzzsnavxVvf7ut8fVmd7k8fbwdXfrZIoD8EHvDs8O4H5tAHn3ZdTSmP+WrPW++Sbw2AwHwk0Gg3ZpF83Auvp6bm2AVvQ8fptvPy73ekEQejo6Fi38fIBBgYGaMlqZP2kUqnaGZMIgtBt4+XfcAlkOIfLMRgMc3NzFJKhLVpRqVRDQ0MUCIGgUqmd24DjtZ8JhUIxMDDw8PB4ubR2iyRq50f6hL6wb/5nR+W0/Xujc///Q1952DtX463u93W///zH28HV362Sf8QDxOoE5tOGTqdPnz5dO9045mNQJ1gsFl7JBIP5J/D+Pf11JfxBUmMHxb5JTT6UhI3B/K2EMfwIMO9JYmLiXyi2UqlUWPcRg8FgMBgMBvPngzM7Yd5XoHdzc/urInCwHQiDwWAwGMDBwQHW3sZg/mTw7ATmAwj0WKzHYDAYDOYvhCRJCPD4g+KGMZgOwLMTGAwGg8H8rXB3d+84hBrz9+NNIncxmD/q9cOJYjGYfwJqtRqtpvnxEB0d7eXlpZ3VG4P5GCA1JEH5VMWyN8kvicFgMFidwGAwb4RGozl06FBWVlZhYaG5ubm9vf2XX375JsHrFRUVe/bscXBwCAoK+qiEHpIkb9+6HREZsW3bNh6Pt337dpFItG7dOrxyM+aD9JeYmJiEhISioiKOLsfewX706NEoUWnHr+UPP/zA5/MXLlwIyx18PHaEA/8+8Oz5s23btjGZzDNnzqSlpS1duhTPXWAwGKxOYP6/zxie3MS8kubm5kmTJt28eRO9ISRJGhgYpKam2tnZdXxuRkaGl5eXj4/P5cuXP7YXfuvWrcuXLy8sLOzSpUvPnj0LCwtLS0vbpXj/+/Vx3M3/BL766qtDhw5p9xcmk/mf//xnzJgxHZ8ok8m4XK67u3tiYiKLxfp47kihUAwfPjwxMbGlpYXD4UyZMiU2Nvbx48eOjo7/tMa9ffv2ggUL2Gx2u+1KpfLe3XsGhgYdnPv1118/e/bs9OnTbDZ78uTJ1tbWhw8f/nQfxa1bt3x8fAiCePHihbu7+549e3AAN+Y9waHYnyoajSY3N7ekpKSxsZHFZBnxjPr06YMWE/2TkUqlycnJRkZGb7K8sUQiYTAYTCazrq4uPT3d0tLSyckJN+gfIYOePn365s2bo0aNCgkJcXJyqqmpOXny5K5duwYMGPD8+fNXrir1/xkbPlbhVbtiX3zxRV1d3d9y1TySJCUSyZMnT2pqaiQSCZfL7dSpU69evdqtK/ynDTgpKSlisXjIkCG/6zUH6wTDcJSXl1dWVubm5oaWEvtoiYyMPHTokJub2/r163v37i2Ty6L/E7123doZM2bk5uZaWFj87mv58et7vr6+9vb2aJ3mfxRFRUV5eXmWlpYGBgbahlSlUqkhNR2fm5ub++TJE4VCwWQy09PTW1paPtGHoFKpvvrqq2PHjsETaG5uLisra2howF9MDFYn/onIZLJvv/326tWrIpFIo9HAqqI9evTYtWuXl5fXn1+f6urqqVOnenl5Xbx4seMjRSLRzJkzd+3a5ezsnJKS4ufnN3PmzF9++QW36R8h/926dQuEJBDszMzMwsLCUlNT77QxduzYpqamvLw8FxcXZLErKipqbW3t1q0bKkehUERHR+vo6Hz22WfaUohSqbx7925BQUHnzp3bCYtKpVIoFGZlZclkMldX1759+8L21tbWnJwcJyen1tbW+Ph4fX39wYMHMxgMlUqVlJRUVlbm7e1tY2MD37yMjAxbW1u1Wn3nzh0ejzd48OBXymoTJkxQKpW6uroajQa0Ux6Pd+/evcrKyn79+jk4OGgfrFQqf/vtN6VSOWTIELlc/uLFCxcXl49Z+gkMDExPT29uboYtRkZGY8eO3b9/v56e3p8vhSxZsiQjI6OmpuZl+2670Wn9+vUEQYSFhREEsWfPnuPHj1+/fv0vGZreiqtXr1IolO+++w7NRSz5YUmrojU0NDQ9Pd3CwqKsrEwkEvXq1QsUKqVS+ezZMzab3aVLF1SIWCyOj48Xi8WDBw/WXrlZrVI/SnkkFApNTEzc3d21d2k0mmfPnmVnZ9fV1Tk4OHh5eYG7VF1dXXl5uaura1lZ2e3btx0dHfv27UulUltaWuLj4+E1hrgjlUqVl5dnYGDA4/Hi4+MpFMrwYcNZOq+YZl8NsAAAJiJJREFUJPHx8enbt6++vr5Go8nLy+NwOHw+/+HDh/n5+bCyNZVK1e4vSUlJNTU1gwYNotPp5eXlTk5OH9Xcy1sBt7Zu3TpfX1/tlU9hzrbjc2k0GvJho7XxiT4EqVSakZGBxlKBQPDgwYPfnazGYN7IAIb5tFAqlVOmTAHpcO/evUKh8E7inSFDhhAEYWdnV15e/udXCUzdY8aM+d0jT58+TRBEWloaSZJ37tzp27fv5s2bcZv+EajV6uDgYJDq4E/YnpeXl5SU1NDQQJLk2bNnCYJ4+PAhOmvUqFF0Ol2tVqenp+vp6bm5uVlZWcFYweFw7t27B4fJ5XKBQICGEV1d3Tt37sCuiooKZ2fndgZR2JWbm0sQxKZNm9CuTp06PX361NbWFm2JiYkhSfLFixcEQQQEBKDPtoGBQUJCAkmSGo3mp59+IgiisLCQJMnu3bszmcz6+nqQuf39/a2trVFpq1evRrd2+PBhJAdzudypU6d+zANgY2MjTLl4enpeu3bt+bPnp06dgraYO3fun18fuVzu7u5Op9MlEknHR5aUlNDp9JkzZ8KfGzZscHd3T09P//i7zOLFiwmCCAoKUigUKpUKNorF4uvXr9fW1qpUqi+//JIgiJqaGthVWVlp0wZJklKplEajWVtba6sWERERcKRMJvP19dXuFPv374ddzc3Nfn5+2rs8PDxevHhBkuSBAwcIgvj111/RrilTpjx69AjJgmZmZjk5OSRJVldX83i8yZMno97KZDKjo6M1Gk1ra6u3tzdBEC0tLSRJTpw4kU6nP336VCqVCgSCadOmubu7o/K//vrr1tZWqFhaWhqKR9LX14dCoHt+ohw7dowgiPPnz79yb3FxcVxcXGVlJdry8OHDa9euKZVKkiRBcwNDvrm5uZeX1ysLUalUUqk0KipqxYoVkZGRSoVSo9HAqKVSqeLi4tasWbNr167cp7loQBaJRFevXi0pKSkrK9u9e/e6deuePHkCFyVJMisr6+bNm2Kx+OHDh2vXrv31119ramqgTCi2rq7u9OnTK1asOH/+vFgsRrtAVKipqdm/f/+aNWvif4uHVzouLs7Ozo5CocTHx9fX10skkv/85z+1tbWo/kKhcOvWrWvXrr19+7ZcLkf1v3Hjxv3796VS6YULF5YtWxYXFyeXy/F3FoPA6sSnR2xsLEEQxsbGeXl52tsnT55MEMTPP/+sLVAWFhampKQUFhaij4RGo6mqqoIhqbS0NDU1taKiAoYMhUJRUVFRV1enPSQ1NTVVVlaij2tNTc2TJ08yMzPr6+tfqU60tLRUVlbKZDK0t6amBsbolpYWmIi4fv26SCRSq9USiQRVDIa/oqKi1NTUgoIChUKBtotEovr6eo1GU1ZWlpaWVlZWhsZioLy8PC0t7enTp9q1wty9e9fc3JwgiF69eoWGhp4/fz4lJQV9qEiSPH/+PEEQycnJaMu4cePYbDaoEzDhMHjw4NOnT+/atQvsqdCUYL6dP3/++fPn161bZ2xsTKFQoFHs7e2pVOpXX30VGRn5448/2tvbEwRx4MABkiSFQiFIJzNnzty7dy847xIEMWrUqMOHDy9atIjBYHTt2hWpEwRBTJ48+cqVK/v27ePxeNbW1sXFxe3UCRcXFw6HU19fLxaL4ZQRI0YcPHhwy5YtxsbGLBbr/v37JEk+ePCAw+HY29v/8ssv4eHhAwYM+JjtKRqNBp7whAkTtDtjfX19165dCYJ48uQJ6uPV1dWPHz/OycnRFiZUKlVZWZm8DfDTAAUSRM8XL16gHg39rqysTLvPlpaWpqWl5efnS6XSl9UJjUZTUVEBXRL2ol6vUCgePXrEZDInTJjQ3NysVCpbW1slEon25aqqqjIyMnJycpqbmrXVlcrKypaWFrlcLhQK09PTGxoa2g1EmZmZ6enpVVVV2qV9QLKyskAZcHR0DA4OjoyMvHfvXnNzM3pKkJYAqRNVVVV2bSB1giCIfv36HTt27ODBgzDFd/HiRZIkQSUICgo6ceLE3r17zc3N6XQ6qPELFy4EFfHo0aO7d++GsO89e/ZoNJqDBw/CW7p48eKdO3ciLX3OnDnHjh0Dffi7776DdwC0aDc3t6ioqJMnT3bv3p3FYmVlZalUKm11ws/Pj81m5+bmymQyCJ/o3r37vn37du/eDV310aNH0FUNDQ3NzMy2bdt2+vTpSZMmwaVjY2P/ruoEjCrr169HW6AtsrKy3lCdUCqVO3bsAGcBcI1zcHAAfe/JkyfQfHw+H+aKg4KCxGIxSZIXLlwgCGLgwIFsNtvMzIzBYBAE8cMPP2h/1uFciJ5nMBjQCmq1Ojw8nM1m02g0eG8NDQ1jYmJgHJZIJIGBgSAqQFzZmDFjWlpa0AQUh8OJjY0FE8++fftIkqyrq5sxYwaUA3ppnz59oP5KpRK2Ozo66uvrw6ehd+/eqC9gMFid+PQYO3YsQRA3b94EsQP9X19fP3/+fGQ/rqiomDhxopWVlYmJiUAgGDduHFi8VCqVq6vryJEjQ0JCOnfubGpqyufz165dS5JkbW1tly5dfH19Gxsb0eUmTJjQo0eP8vJylUp1+PDh7t27d+rUydzcvGvXriAjtlMnDh8+bGtre/jwYVTCtGnTHB0dKysrV61aBVPzVlZWnp6eiYmJDg4Oy5cvR1qHv7+/jY0NVMnHx6egoAB2jRgx4ttvv503b55AIDA1NbW1tV2zZg3SQ5YsWQJnWVpaOjs7R0REtFM2/smkpaV5e3vD94NKpRobG3t4eBQVFb2JOmHYRlNjk/bHOCgoCIR4Npt948YN2HX27Nldu3aJxWJ462bPno0Ewe3btxMEERwcjNQJb29v2JuTk0MQhI2NTUVFBRxs3kZpaalIJCIIomfPnkiYO3HiBEEQR48c7VidcHBwqK6uhlO++uorgiBOnTpFkuTcuXPBARp2NTQ0gOPWx9lq2dnZZmZmTCYT3Qvq5lFRURs3biwpKYGNa9eutbOzMzU1tbCwcHV1vX37NlKwDQ0Njx075u7ubmlp2alTJycnp2vXrpEkOXXqVDs7u7KyMlRydHS0np7e9evX4ckEBQVBR+Pz+V5eXqC6IHVCJpPV19dbWVktXLgQifXHjh2zsbGJiop6+vSpiYkJhULR1dXt3bu3UChcvny5g4MDCKkymWzDhg22trbm5uYWFhbOzs7R0dFQwr179+zt7cPCwkaMGGFpaWlmZubs7JyYmAh74+LiHB0dzc3NzczMbG1tly5d+sH7ODzeoqKiKVOmgEgH3mU9e/aEp/om6oSZmdnjx49h7/Xr1wmCGD9+PEmS8+fPJwgiLi4Odl26dGnbtm3QDQMCAvz9/ZGhF/rI/PnzkToRGBgIuyApwqBBg+DP1tZWkBGlUml1dbVAIKBQKMi4fu/ePYIgZsyYQZLk69QJcAVEE9pQ4W3btpEkuXr1amQFAEETXBb/BurE0KFD586dG/RfZs6cCZ+SXbt2oblcAFwxnz59+obqREJCImh0xcXFFRUVENM/a9YsjUYD9otTp05VVlaWl5fPmjULPepLly7p6OgwmcyDvxwsKSm5f/9+586dCYKAPj5z5kzQb7OzsssrysGBcPjw4XK5vLS0lE6nd+3aVSgUgopuYmJiYWEBBsG1a9fBbG15eXlxcfGiRYsIgti6dWtJSYmLiwuFQqmurpbL5Xl5eTADhhp94sSJZWVl5eXlJ0+eBE0GXn4ulwvq6/M2QA7ZtGkT/shisDrxqWJoaEilUpVKpbbpTvs3dH43NzdYzGjlypUDBw4kCMLCwgLUCfAT1dHRmTJlip+fHwwT8J3o16+fjo4O8kxobGyE8VcqlT58+JAgCD09vXltQCHHjx9vp06AeQYGSsDLy4vJZBYUFJw9e3bo0KEwYC1dujQ2NpZOp4N4SpLksOHDwByybNmyQYMGUalUW1tbEKdcXV3BKjNu3LhJkyaB8y5U8vz581Qqlc/nf/PNN/Cl1P7e/8NBb0Vzc/PevXuHDBkC4ddGRkbZ2dm/q05wOBwQhqCcjIwMHo/n6uqKTKrgmHHw4MGamhpt8U4ulz9//vzMmTOLFi0CkeXbb79FolJISMj/DUAE8fnnnyOzupOTk4mJSUFBAagToStDoVjYSxDEggULkB3xleqEr68vMqjv3buXIIjw8HDwiXJ0dFQoFOiZgB3u42y4GzduUCgUR0fHdl27XTcPCQkhCMLa2nrx4sUBAQEcDocgCJiNKSoqggYyNzcPDAwEO6uLi0tjYyM4HEIsJjBw4EAGg9HU1KRSqebMmUMQhL29fUhIyOjRo8GKKZVKW1tbkTpRU1NDEMTUqVOROvHzzz8TBHH48OHKysrJkyfT6XRHR8clS5aIRKKgoCA6nQ6+cOHh4QRBmJqaBgcH+/v7s1gsCoWSmppKkmR8fDzU38LCYu7cuRBowWKxYHJSt42pU6cuXLgQzPAgAP1BqFSq8PDwMWPGwLQbg8F4/PixWq3+XXXC09MTZFMN+b9vrJubW1NT02+//QbN4eTktHXr1qqqKph9hQZtbW2tqKiIjo4ODQ2FcXvu3LlInQB9GHoxQRArVqzQ7hFDhw6VSCTV1dUWFhafffYZ2lVZWWlvbw8LJL9OnbC3tzc3N4dTNBpNeXk5QRAbNmwAnZMgCJn0/yasFixY8PdQJ2g0GpPJZPwXyA7yQdSJlStXQsgTaoUJEyZ8//330HDTpk1Dj1omkxkZGZmamoI6wWKx3NzcUDngUxcfH4/UiUuXLmmPmW5ublKpFDSEO3fuyGQyqVSqVqs3bNgAE2IymQzmfmEuWqPRFBYWjhgxIiwsTKFQ9O3bl0KhQGlInZDL5X369EHbNRqNQqGA1wA6L5fLNTc3h6eBHua8efPwdxYD4FWxPz0aGxvB11w7MrVdlOrZs2fT0tJ8fX0fPXq0efPmO3fuLFiwoKqqat26dTAjr6OjExkZee7cufPnzy9duhScYgmC+PHHH+VyOfr4bdu2jSCIsWPHstnsMWPGGBgY3Lt379c2kpKSGAzGTz/9JJPJ3qTaMDZ99913BEFs3rx569atEEQOREVF/Xbjt+nTp6elpYWFhSUmJn7zzTeFhYUg7wKnT5++fPnyhQsXYCC7cuUKyJQajWblypX79+8/f/78qVOnvLy8SktL8XvS2tp65syZ9PR0UAK/++67W7du5eXlTZ48uaGhISoq6pVnKZVK9C6RJAkOTrBFV1cX8nGBM8amTZu8vLxycnLmz59vamr61VdfgfK5Y8eOLl262NnZBQYG/vbbb6CsaqPtXA6vIo1Gg0to//8/cqeZabsXu6ysrOO7NjAwQBGTkAEJPsAlJSUQvowK/JgTDYHfEYSJv66bP3369Oeff7axsbl3797OnTsjIiJ+/fVXKpUKlns4pnPnzkVFRUeOHElOTnZzc8vOzq6srPT19TU2NgaVDB5pUlLS1KlT2Wx2Xl7esWPH+vbtm5ub+9NPP8XGxu7evVsikXzzzTdvkk5Ko9FYWFgcPHiQRqP1799/+/btpqam2nF6c+fO5fP5OTk5u3fvjoyMBNn0hx9+QAeYmpo+fPjw0KFDSUlJ48ePb21tvXfvXkZGhkKhGDhw4NmzZ/fs2ZOUlDRmzBiQfT8gLS0tcXFxMAzSaLTZs2dfuXKluLh45cqV4MSiHaOMKqwd0fs/fYSt+78Pqi1vEI/Ha2lpkUqlQ4cODQ8PHzZsWE1NTUhIiIWFxbhx4woLCykUyoULF5ydna2srPz8/M6ePduud8CEm3brg0UAflOpVPRKaDQa7d7KYDB0dXUrKys7bi9oIO2cVOD1Cvq8Dvv/Eqa93JE/UUJDQ69evRr3X65du/ahgsvv3r1rbGzM5/NhIR2SJC9evPjzzz/DTBFEyFD+i5eXF6jl4CYKrQyDFUycolcLZpXRXg6Ho1arqVRqZmYmQRCrVq0aP378hAkTRo8efePGDYIgUlNT5XI5xNbT6XSoTJcuXa5du7Zs2bLXfa9VKlVWVhZYHuEUBoPRv39/SBoOx+jp6aEUAuBGq/0Rx/zDwerEJwlIGx18JMCNBPKrwJEBAQG6urpITzA1NUVrM/Xq1YtCocjlcnBEsbGx2b9/P8ijMTExurq6fn5+NTU1dXV1o0aNAospyDrTpk3Lzc0Fr8o3l3Gh/u22nzlzhkajgSUGKrxz506CIJKSkuCOOBwOeJHC/D5kuANXVBqNFhoa6uvre/z48WHDhl2/fv1N8tX+7VGpVAEBAWDB0g59XrNmDahh8E1CjQKUlpYiwYJKpVZXV2vrsVKpFIk7QUFBcXFxubm5586dc3R0PHLkyMmTJ+/cubNy5Uo6nX7z5s28vLwHDx5Mnz5de+UEkNV+Nz8E/IC5Kfjiwvv5Vi2rfVEbGxtw70FbCgsLP/IUNCga5JU8evRIqVQOHz6cz+fDloCAABMTk9LS0oqKCtgyfvx4NpsNd+3t7Q1GRxaLNX36dKFQCFIC6BVjxoxhMBgwbmzYsIFGo0E3Hz9+vI2NDajubwjYetvJ2TQaLS8vT6lUgvKJrL9DhgxJSEhAA1f37t1RJD3MSTY2Nvbo0YPJZCYkJHh4eGzatEmpVEZFRa1aterDPvMXL14EBwfPmDEDjU5gkQ0JCTE0NExJSUHtolAo4AC5XA4q9P/du1QCvQk6UX19vYmJia6uLjzJqKiox48f37hxo0+fPtevXwdnEj8/P5FIdOXKlaKiouTk5C1btrST0pB6DO3YbuRHf1Kp1KqqKu1vRH19/bslLmMymeCmj+a44Pn8PQZGV1dXHx+fof9lxIgRrxuR2r3Dv0ttbS2TydRoNO3MIpCGVVshp1Ao7dY6BG1N+0TUsvQ20HaoLYVCaWxspNPphoaGxm3weDyBQDB16lRbW1uFQiGRSEBNeqvkxZD+od0pEokE1QSpXtAX8MJlGKxOfMKYm5tXVFS8PNKRJFlWVgYx1mC6g+8xDA0WFhbgio1GDZQaD9J3wLhApVK/+OKLkpKSpzlPMzIynj9/7uHhYWVlBW4qlpaWDAYDmbIgkk8kEr1/tvWysjI2mw0xasi6xuFw4HuGzOQvD2QBAQHgLnX16tU5c+bo6+uvXr1aKpX+w18SkiQhrPnOnTsnT56UyWQqlUqtVisUiqNHj4IXHI1GA6PXgwcP4KzKysrc3FxkhaXT6bdu3YJviVqtTkxMbG5uHjRoUENDg6mpaWebzs1NzVZWVlOmTAHX8Pz8/OzsbIVCMXToUB8fHz6fz2azU1NT3+HDDERHRzc1NcHvdevWEQTRv3//d/uAjR49urq6+urVq2q1Gqb+4+LiPtrm09XVpdPp2dnZL++CAJWWlhYIcIK8uggrKyuxWIxkXMi+BR0K5Zal0WjDhg2jUqngoRQdHW1hYQH+MPn5+drjBoVC4XK5RkZGkNeog27+u41Co9FAVwErLBpDwE1cIpFQKBSNRoNUI/B0QjMep0+f5nK5mZmZq1evtrOz8/HxqRHVfNhnbmFhYWZmJhaLV69eDUHkEOzx4MHDxsbGcePGtcl8eqDIQcXy8vLaJewvLCzMysqC35B2wtbWVl9f387OztDQsLy8nM/nDxs2bOvWraAt37lzBwLuR44cyefzeTzeqVOnwBbwtvWn0+n379+vqPjf6YjMzMyysjJwLn0H+vTpA9PIoILm5OQkJib+PcbG1xnUQUwHswV0NDT4vCEODg5VVVXa1pnQ0NDAwEAwgqAXAyaBkar2Si3xd1Gr1U5OTiqVatu2bZH/5ciRIz/++GNAQACVSjU3Ny8uLkbHi0SiL7/8MiQkBGXrevn2+Xw+jAAImN3S7pUYzGuHIPwIPjnGjh175MiRqKgosOUjysvLra2tvb29ExISQFUoLy9H2TwbGhpUKhVKlNludlvbajJmzJiffvpp1epVPj4+UqkU0npCCHVjY6NarUa2HBhrDAwMUF78l+064Cf6uzdlaWmZkZHR7kiJRPK76cAh5eLy5cuTk5PT0tJu3Lixc+dODocDXqT/WGCqes+ePXPnzp09e/ahQ4d6ufai0Wmpqal37951d3cHt3gbGxtDQ8PQ0NCWlhYGg/HLL79ou09QKBRYtuyLL76oqqr66aefunfvvn79ehqNNnz48MjIyBkzZ4wfP76lpeXkyZMQBlNXV8dgMOLi4nbs2MHhcJKSki5duoTsc2+LUCicPn36xIkTnz17tnv3bh8fH09Pz3d7IP/6179iY2MnTpw4Z84cLpd7/Pjxj7n5unTpYmVlVV5e/vTpU+1FHiG0fcOGDaGhoT169AD7t/aJNTU1rDa0Fe+Xu/mQIUNsbW2vX79++vRpkUg0ffp0S0tL1M3LysrgT5CuJBIJk8nUNqbCG4Lc92Go+V0ZDgze2kZuSMAA/hsvr+6vXeGxY8fm5+c/fPgwMzPz1q1b8fHxfdz6aE+dfRAVbuvWrUFBQTt27Lhz546rq6uBgUF+fn5MTEzXrl1BYe7Vy5VOpy9YsCA3N7exsfHlBXNEItG8efNmzZolFov37t3L4/FCQpZBvNDXX389b968cePG0Rn08OPhdDp96NChbm5udDo9Ojrazs7Oysrq0aNHhw4dolAo7zAVAI/u8899vv3225aWlh9//LFXr16LFy9+q9ljxLx586Kioo4cOdLQ0NClSxfIZNrujfr72ekoFEpSUpJYLOZyuTExMTCB+eaC/oQJE6Kjo9esWbN9+3YajZaUlLRly5a+fft269bNyspq69atw4YNA6eAY8eOZWRk+Pv7v3NtFQrFjBkzIiIiQkJCjhw5YmxsLBaLx4wZk5SUFBMTM3r06P79+4eHhx84cGDBggVqtfrs2bPh4eH+/v50Oh0asbq6WttIx2Qyhw8ffvDgwV27dn3//fdUKvX+/fsRERE6OjoTJ058N3sQ5h9nxcR8Wty7d49KpTIYDO3lAkiS9PDwQBnf9u3bB+kF0V6IMwsICIAle+zt7SEyD8V9fvHFFyiO1s3NjcFguLq62traakeAde3aFSWohqBwQ0NDsVisHYoNudK///57OKaoqMjGxobJZEII17lz51Dsb0xMDArF3rhxI0EQGzduRBG9YESHvE89evSA/KEAOIH88MMPGo3mm2++YbPZRYVF4F+RnZ1NpVL79OmD3xOUKMbDw0M7f/yMGTMgWBmCAk+ePAne2FQqdfLkyatXr9bR0VGr1RkZGRwOJzAwEOLzQAYtLS1Fsf6gzcIuPp+PUopt2bKFTqdTKBQajebs7Jyamkqj0Xr27FlXV/f8+fN2QbQoNQ382bNnT1NT0+LiYnDdHj9+POQr1NHRGT16NLx7Go0GskWB8xIKxQZddNasWSjF8JEjRwiCOHHiBPxZXFzs6+trYmJiZma2ePHiSZMmIZeejxBwEhs8eLB2mrXKykqYUBIKhQkJCbB4JbrfR48eMRgMZ2fnpqYmsH3u3LkTnQtObhCCD8H00EAoFSaUAIsboLPAJg2TQigUG7x9hgwZApkuwW0JtWxpaamOjg4EnpIkiUKxoYGgKBRbzGAwBAIBhGIzmUzIRASAISM2Nvbo0aOmpqaQfQ4eAph70dv4AfMW1NbWTpkyBS3XyOFwhg8fjjKhaTSakJAQkMZYLFZwcLC3t7d2KHbfvn1HjhwJncLe3j4/Px9lYVqzZg1SyQwMDFDuu4sXL4LRhEajWVhY3L5929vbm8FgqNVqeIFRqiiw2mzZsgXVmcFgjBgxAkKxLS0t3dzcYJYJlquDtlYoFNA6kDzKz8+Pw+EIhULI7NSrVy9UGuiEqPyWlpa5c+d26tSJx+PNmzdv4sSJ4H36qYdivy5RrFwu19fXp1Aotra23bt319PTY7FYsEbHG4Zi19XVeXh4UKlUFxeXvn37cjgcFot18+ZNjUYTERFBoVD09PS8vb179+5No9FcXV0hDdelS5fodLr2YjIQTQR52GbOnMlkMrW/9fr6+r169aqpqWltbYUVqPh8/pAhQyA17ahRo8DbMCMjw8DAQEdHZ8CAAY6OjgwGw8TEpKG+gSTJzz//HN7t8PBwmI6AnpuVlWVqaspgMNzc3AYPHqynp8dgMKDFIbOTo6MjWnbm2rVr2mnHMBisTnx6uXrkcrm/vz+FQjExMdmwYcOTJ0/u3LkDuoSrqyu4mwuFQoFAwGAwIiIiioqKbt68aWhoyOFw4MvUgToB39S1a9fCNwlWsYCNkEVu2rRpJSUlxcXFo0aNIghi0aJFSqVSW51ITEyE72J8fPzTp08hNQRSJyB4Izg4OCsr6/Lly0id0Gg0xsbGNBotOjq6pKTk6tWrHA6Hx+NB1pfXqRMkSUKw+MCBA7OzswsKCsAlBmevezkRUE5OzvPnz9F27RTDkJtL0ap4XTkFBQVo1QLt01UqVVpaGkp0g7bDlwnJmq+smEajaZfrU7u2YJ2FJDbl5eVorYx2qY3a/dnBrvv370OmFISrq2unTp0+2lYrLy+HMFlvb++jR4/m5eVFRESA3Pn1/K/hyEGDBhEEsXTp0mfPnqWnp3t6etLp9DVr1qDMTh2oE8jXonv37qhF6uvrYf5n27ZtpaWlT548gfSj165d02g02svYgV3z2LFj+fn5a9euZTAYVCoVhJLy8nIej9e5c+esrCzIhoQyO0HKmoULF5aVlRUUFEDu0b1793agTly5ciUhIUFXV9fMzOxm/M2CgoLIyEhdXV3IWfTHUV9fLxQK272x6KVqt+ZPuze5trYW5eFt9x5mZWWhtMjaBebkPNVeQO2V/aXdG6K9BTI7eXh4QIpwlHb2TfrLKzempKRcvXpVe1EgGPCRgvQpcvHiRTMzM0iI/MqHUFJc4unpKRAI7O3tN2zYsH79ehcXFxg2586dO2DAgOrq6ubm5sGDB6NVGtshkUimTJnSpUsXgUDg4uICq44A586dc3Nz4/P59vb2c+bMQWnQExISXFxcIKEWsGPHDnt7e1AhQkNDe/XqhdaZIUnS09Nz8uTJYGVQq9WLFy92cHCwsrLq0qVLYGAgDNRwO2VlZYMGDbK2traxsRk8eDB6nx8+fNinTx+BQBAWFlZSUmJiYoJUrMrKyqFDh9rY2AgEgpEjR16/fgM9H3d3d23Tz4MHD5ycnJCSj8FgdeKTpKmpafny5WgBVHCcnTVrFqTVh6Hk2rVrvXv3BiME+MJCBkm1Wt1OnYiPj6dQKHPmzEHl19TUQIzXs2fP0KertbV14cKFTCYTwshMTEyCg4MhKPz58+cGBgZoVezQ0FDkbtGvX7/PPvuMwWBA3WpqamCxJBaL9csvvzAYDJRp7t69ezARrKurS6VSnZ2d0bjfs2dPe3v7durEsmXLwCAUEBCgPeM/e/ZsbdkX07FI0YFE3nGWUkiF+bK408Epbw6oE8uWLftQywuAhrxu7br09PSUlJTly5eDXPsxN5lQKPTz89OO4OzUqdOmTZvUKjUcUFpaCv4SbDabTqebm5ujVSwhuZm2OgGaNqgTcDoYKc+ePat96fT0dFhiH4IyHR0do6KiwL7er18/Op0Oour169chbINCofB4PFh/HdQJiUSCuuSNGzeCgoIYDAaoEyKRCHbB/BWfzw8LC4MmvnnzJovFmj17NqrJ5s2bQZ0gSXLr1q0QWAW16t+//4MHD97nBXurLvOGPaLjc99w+7vdkbY68Z5dDwAzzbhx4x4/fpyRkQFTjj169Ph7DIMdN5z2fOBbNbT2GAjzAC8romghnTfREju4RLvfdXV1KpX6leVIpdJ2F4Uf2gvFtqtMa2srUhte+Yp+kEEe8zeDggPzP0X/NEgtJ5VKy8vLc3NzYcknLpfLYDC0XZBlMplIJMrMzPT09ISpWxRkRqVSORwOHKZSqaRSKYPBQJEVkDeJQqHAMZDzjkKhqFQquVyemZnJZDIdHR1BiIE3qaWlhU6ng1ONWq1uamp69OiRnZ2dQCDQaDRKpZLD4YBviUQiycvLMzY2trKykslkcF2otkKhqK2tzczMdHV1NTIyQi46LS0t2pkKYVBmsVggWygUiqbGpkcpj3R1dd3d3VksFjyH9w8Qx/xViEQic3PzZcuWbdmy5YO4axcXF4OzFixl0Nra6uHhcfnyZYgW+Gi7uVKpbGlpyc/Pr6iocHZy5gv4bDabSqWibq5UKpuamlJTU/l8vq2trY6ODjwujUbT3NzMZrNRr29tbZXL5VwuF7ohhUKRyWStra16enrtMtvI5fKmpqa0tDRXV1cej8diseCKkNteT08PBgSpVJqVlSWXy/v168dkMiUSCZvNBuVHqVQWFBQolcpu3bqp1WqlUgnB5dBbZTJZWlqahYWFtbU1pAl+5SgEFeZwOHQ6XaPRiMXi7KxsUY3Iw8PDyMhIR0cH93HEixcvevfubWNjg9IqvCcSicTV1bWgoEBHRwfyqgkEgoyMDCMjo3/IY3/n29Q+8U1+f8B6dlws2vuGV8f9C/N24VtYnfiHDIgfZGh4OVzybYekjqv0bhVud9bb1hDzEaJUKjdv3uzj4zNw4MAP1ZrNzc179ux59uyZgYHBkCFDRo8e/aHyzf9pMs2H6jLvP25od7RXRlG/roQPUmEs6LRDKpWePHmSx+OBM/2HegH27duXmprKZDIHDRo0YcIELpeLnzwGg8HqBAaD+cTU4D+0TCwbYXDfwQobBoPB6gQGg8FgMBgMBoP5y8DL2GEwGAwGg8FgMBisTmAwGAwGg8FgMBisTmAwGAwGg8FgMBisTmAwGAwGg8FgMBisTmAwGAwGg8FgMBgMVicwGAwGg8FgMBgMVicwGAwGg8FgMBgMVicwGAwGg8FgMBgMVicwGAwGg8FgMBgMVicwGAwGg8FgMBgMBqsTGAwGg8FgMBgMBqsTGAwGg8FgMBgMBqsTGAwGg8FgMBgMBqsTGAwGg8FgMBgMBqsTGAwGg8FgMBgMBoPVCQwGg8FgMBgMBoPVCQwGg8FgMBgMBoPVCQwGg8FgMBgMBoPVCQwGg8FgMBgMBoPB6gQGg8FgMBgMBoPB6gQGg8FgMBgMBoPB6gQGg8FgMBgMBoP59Ph/AQAA//+Es6Gt31Qw6gAAAABJRU5ErkJggg==)"
      ]
    },
    {
      "cell_type": "markdown",
      "metadata": {
        "id": "g33e3lD4mZTd"
      },
      "source": [
        "Note a mudança de dimensões em cada camada. Porque após a entrada, a camada tem dimensão 28x28x6? \n",
        "\n",
        "**Camada 1 (C1)**: A primeira camada convolucional com 6 núcleos de tamanho 5×5.\n",
        "\n",
        "**Camada 2 (S2)**: Uma camada de subamostragem/pooling com 6 filtros de tamanho 2×2 e stride 2.\n",
        "\n",
        "**Camada 3 (C3)**: A segunda camada convolucional com a mesma configuração da primeira, porém, desta vez com 16 filtros. \n",
        "\n",
        "**Camada 4 (S4)**: A segunda camada de pooling. A lógica é idêntica à anterior, mas desta vez a camada possui 16 filtros. \n",
        "\n",
        "**Camada 5 (C5)**: A última camada convolucional com 120 filtros de tamanho 5×5. Dado que a entrada para esta camada é de tamanho 5×5×16 e os núcleos são de tamanho 5×5, a saída é de 1×1×120. Ou seja, transforma os dados pra um vetor que servirá como entrada da primeira camada totalmente conectada.\n",
        "\n",
        "**Camada 6 (F6)**: A primeira camada totalmente conectada, que recebe a entrada de 120 atributos e retorna 84 atributos. \n",
        "\n",
        "**Camada 7 (F7)**: A última camada densa, produz 10 atributos. "
      ]
    },
    {
      "cell_type": "code",
      "metadata": {
        "id": "Ez3bOD58i-ej"
      },
      "source": [
        "class LeNet5(nn.Module):\n",
        "\n",
        "    def __init__(self, n_classes):\n",
        "        super(LeNet5, self).__init__()\n",
        "        \n",
        "        self.feature_extractor = nn.Sequential(            \n",
        "            nn.Conv2d(in_channels=1, out_channels=6, kernel_size=5, stride=1),\n",
        "            nn.ReLU(),\n",
        "            nn.AvgPool2d(kernel_size=2),\n",
        "            nn.Conv2d(in_channels=6, out_channels=16, kernel_size=5, stride=1),\n",
        "            nn.ReLU(),\n",
        "            nn.AvgPool2d(kernel_size=2),\n",
        "            nn.Conv2d(in_channels=16, out_channels=120, kernel_size=5, stride=1),\n",
        "            nn.ReLU()\n",
        "        )\n",
        "\n",
        "        self.classifier = nn.Sequential(\n",
        "            nn.Linear(in_features=120, out_features=84),\n",
        "            nn.ReLU(),\n",
        "            nn.Linear(in_features=84, out_features=n_classes),\n",
        "        )\n",
        "\n",
        "\n",
        "    def forward(self, x):\n",
        "        x = self.feature_extractor(x)\n",
        "        x = torch.flatten(x, 1) #transforma a matrix x em vetor.\n",
        "        logits = self.classifier(x)\n",
        "        probs = F.softmax(logits, dim=1)\n",
        "        return logits, probs"
      ],
      "execution_count": null,
      "outputs": []
    },
    {
      "cell_type": "markdown",
      "metadata": {
        "id": "6dHRA0ZReQnM"
      },
      "source": [
        "##*Mini-VGG*\n",
        "\n",
        "A arquitetura da Mini-VGG é uma simplificação da arquitetura da rede VGG. Ela possui 11 camadas distribuídas em blocos de Camadas de Convolução e Normalização de Lotes, e depois Camadas Totalmente Conectadas.\n",
        "\n",
        "-----------------------------------\n",
        "Convolução com 64 filtros\n",
        "\n",
        "Convolução com 64 filtros + Batch Normalization\n",
        "\n",
        "Convolução com 128 filtros\n",
        "\n",
        "Convolução com 128 filtros + Batch Normalization\n",
        "\n",
        "\n",
        "Convolução com 256 filtros\n",
        "\n",
        "Convolução com 256 filtros + Batch Normalization\n",
        "\n",
        "Convolução com 512 filtros + Batch Normalization\n",
        "\n",
        "Totalmente Conectada com 4096 nós\n",
        "\n",
        "Totalmente Conectada com 128 nós\n",
        "\n",
        "Camada de saída com função de ativação Softmax com 64 nós\n",
        "\n",
        "---------------------------------------"
      ]
    },
    {
      "cell_type": "code",
      "metadata": {
        "id": "XfObJBb4b2wW"
      },
      "source": [
        "#=========================================>\n",
        "#   < Building the Network >\n",
        "#=========================================>\n",
        "\n",
        "class VGG_mini(nn.Module):\n",
        "    \n",
        "    def __init__(self, n_classes): \n",
        "        super(VGG_mini, self).__init__()\n",
        "        \n",
        "        # Maxpool 2x2\n",
        "        \n",
        "        self.pool = nn.MaxPool2d(kernel_size=2, stride=2)\n",
        "        \n",
        "        # Conv layers with batch norm\n",
        "        self.conv1 = nn.Conv2d(in_channels=1, out_channels=64, kernel_size=3, padding = 1)\n",
        "        self.norm1 = nn.BatchNorm2d(64)\n",
        "        \n",
        "        self.conv2 = nn.Conv2d(64, 64, 3, padding = 1)\n",
        "        self.norm2 = nn.BatchNorm2d(64)\n",
        "               \n",
        "        self.conv3 = nn.Conv2d(64, 128, 3, padding = 1)\n",
        "        self.norm3 = nn.BatchNorm2d(128)\n",
        "        \n",
        "        self.conv4 = nn.Conv2d(128, 128, 3, padding = 1)\n",
        "        self.norm4 = nn.BatchNorm2d(128)\n",
        "        \n",
        "        self.conv5 = nn.Conv2d(128, 256, 3, padding = 1)\n",
        "        self.norm5 = nn.BatchNorm2d(256)\n",
        "        \n",
        "        self.conv6 = nn.Conv2d(256, 256, 3, padding = 1)\n",
        "        self.norm6 = nn.BatchNorm2d(256)\n",
        "\n",
        "        self.conv7 = nn.Conv2d(256, 512, 3, padding = 1)\n",
        "        self.norm7 = nn.BatchNorm2d(512)\n",
        "        \n",
        "        self.conv8 = nn.Conv2d(512, 512, 3, padding = 1)\n",
        "        self.norm8 = nn.BatchNorm2d(512)\n",
        "        \n",
        "        # fully connected layer with batch norm\n",
        "\n",
        "        self.fc1 = nn.Linear(512 * 4 * 4, 128)\n",
        "        self.norm9 = nn.BatchNorm1d(128)\n",
        "       \n",
        "        self.fc2 = nn.Linear(128, 64)\n",
        "        self.norm10 = nn.BatchNorm1d(64)\n",
        "        \n",
        "        self.fc3 = nn.Linear(64, n_classes)\n",
        "        \n",
        "\n",
        "    def forward(self, x):       \n",
        "        \n",
        "        out = F.elu(self.norm1(self.conv1(x)))\n",
        "        out = F.elu(self.norm2(self.conv2(out)))\n",
        "        out = self.pool(out)\n",
        "        \n",
        "        out = F.elu(self.norm3(self.conv3(out)))\n",
        "        out = F.elu(self.norm4(self.conv4(out)))\n",
        "        out = self.pool(out)\n",
        "        \n",
        "        out = F.elu(self.norm5(self.conv5(out)))\n",
        "        out = F.elu(self.norm6(self.conv6(out)))\n",
        "        out = self.pool(out)\n",
        "        \n",
        "        out = F.elu(self.norm7(self.conv7(out)))\n",
        "        out = F.elu(self.norm8(self.conv8(out)))\n",
        "        \n",
        "        out = out.view(-1, 512 * 4 * 4)\n",
        "        \n",
        "        out = F.elu(self.norm9(self.fc1(out)))\n",
        "        out = F.elu(self.norm10(self.fc2(out)))\n",
        "        out = self.fc3(out)\n",
        "        probs = F.softmax(out, dim=1)\n",
        "\n",
        "        return out, probs"
      ],
      "execution_count": null,
      "outputs": []
    },
    {
      "cell_type": "markdown",
      "metadata": {
        "id": "-LQvCT-KNtF2"
      },
      "source": [
        "## Define o algoritmo de treinamento.\n",
        "\n",
        "Para cada lote de observações, realizamos as seguintes etapas:\n",
        "\n",
        "1. Executar o passo *foward* - obtendo as previsões para o lote usando os pesos atuais.\n",
        "\n",
        "2. Calcular o valor da função de perda\n",
        "\n",
        "3. Executar o passo *backward*, no qual os pesos são ajustados com base na perda. Esta é a etapa de “aprendizado”.\n",
        "\n",
        "Observe que para a fase de treinamento, o modelo está no modo de treinamento (model.train()) e também é preciso zerar os gradientes de cada lote. Além disso, é calculada taxa de erro da etapa de treinamento."
      ]
    },
    {
      "cell_type": "code",
      "metadata": {
        "id": "4oFKxeftNp8E"
      },
      "source": [
        "def train(train_loader, model, criterion, optimizer, device):\n",
        "    '''\n",
        "    Function for the training step of the training loop\n",
        "    '''\n",
        "    model.train()\n",
        "    running_loss = 0\n",
        "    \n",
        "    for X, y_true in train_loader:\n",
        "\n",
        "        optimizer.zero_grad()\n",
        "        \n",
        "        X = X.to(device)\n",
        "        y_true = y_true.to(device)\n",
        "    \n",
        "        # Forward pass\n",
        "        y_hat, _ = model(X) \n",
        "        loss = criterion(y_hat, y_true) \n",
        "        running_loss += loss.item() * X.size(0)\n",
        "\n",
        "        # Backward pass\n",
        "        loss.backward()\n",
        "        optimizer.step()\n",
        "        \n",
        "    epoch_loss = running_loss / len(train_loader.dataset)\n",
        "    return model, optimizer, epoch_loss"
      ],
      "execution_count": null,
      "outputs": []
    },
    {
      "cell_type": "markdown",
      "metadata": {
        "id": "uzXUMEgHoqk0"
      },
      "source": [
        "A função de validação é muito semelhante à de treinamento, com a diferença de que não existe a etapa de aprendizagem propriamente dita (*barckward*). Observe que precisamos especificar que estamos usando o modelo apenas para avaliação - model.eval(). Não precisamos nos preocupar com os gradientes."
      ]
    },
    {
      "cell_type": "code",
      "metadata": {
        "id": "O6jsMs5LotXv"
      },
      "source": [
        "def validate(valid_loader, model, criterion, device):\n",
        "    '''\n",
        "    Function for the validation step of the training loop\n",
        "    '''\n",
        "   \n",
        "    model.eval()\n",
        "    running_loss = 0\n",
        "    \n",
        "    for X, y_true in valid_loader:\n",
        "    \n",
        "        X = X.to(device)\n",
        "        y_true = y_true.to(device)\n",
        "\n",
        "        # Forward pass and record loss\n",
        "        y_hat, _ = model(X) \n",
        "        loss = criterion(y_hat, y_true) \n",
        "        running_loss += loss.item() * X.size(0)\n",
        "\n",
        "    epoch_loss = running_loss / len(valid_loader.dataset)\n",
        "        \n",
        "    return model, epoch_loss"
      ],
      "execution_count": null,
      "outputs": []
    },
    {
      "cell_type": "markdown",
      "metadata": {
        "id": "q5huNwCvri-5"
      },
      "source": [
        "Por último, combinamos todos eles no ciclo de treinamento:\n",
        "\n",
        "No loop de treinamento, para cada época, executa as funções treinar e validar, com a última executando torch.no_grad() para não atualizar os pesos e economizar algum tempo de computação. Além da função de perda usada para treinamento, calculamos a precisão do modelo para as etapas de treinamento e validação usando a função get_accuracy. \n",
        "\n"
      ]
    },
    {
      "cell_type": "code",
      "metadata": {
        "id": "1UZy66h6rnuj"
      },
      "source": [
        "def training_loop(model, criterion, optimizer, train_loader, valid_loader, epochs, device, print_every=1):\n",
        "    '''\n",
        "    Function defining the entire training loop\n",
        "    '''\n",
        "    \n",
        "    # set objects for storing metrics\n",
        "    best_loss = 1e10\n",
        "    train_losses = []\n",
        "    valid_losses = []\n",
        " \n",
        "    # Train model\n",
        "    for epoch in range(0, epochs):\n",
        "\n",
        "        # training\n",
        "        model, optimizer, train_loss = train(train_loader, model, criterion, optimizer, device)\n",
        "        train_losses.append(train_loss)\n",
        "\n",
        "        # validation\n",
        "        with torch.no_grad():\n",
        "            model, valid_loss = validate(valid_loader, model, criterion, device)\n",
        "            valid_losses.append(valid_loss)\n",
        "\n",
        "        if epoch % print_every == (print_every - 1):\n",
        "            \n",
        "            train_acc = get_accuracy(model, train_loader, device=device)\n",
        "            valid_acc = get_accuracy(model, valid_loader, device=device)\n",
        "                \n",
        "            print(f'{datetime.now().time().replace(microsecond=0)} --- '\n",
        "                  f'Epoch: {epoch}\\t'\n",
        "                  f'Train loss: {train_loss:.4f}\\t'\n",
        "                  f'Valid loss: {valid_loss:.4f}\\t'\n",
        "                  f'Train accuracy: {100 * train_acc:.2f}\\t'\n",
        "                  f'Valid accuracy: {100 * valid_acc:.2f}')\n",
        "\n",
        "    plot_losses(train_losses, valid_losses)\n",
        "    \n",
        "    return model, optimizer, (train_losses, valid_losses)"
      ],
      "execution_count": null,
      "outputs": []
    },
    {
      "cell_type": "markdown",
      "metadata": {
        "id": "whCSuzQJRf-K"
      },
      "source": [
        "Tendo definido as funções auxiliares, é hora de preparar os dados. Graças à popularidade do conjunto de dados MNIST (se você não estiver familiarizado com ele, você pode ler algumas informações básicas aqui), ele está prontamente disponível como um dos conjuntos de dados do torchvision."
      ]
    },
    {
      "cell_type": "code",
      "metadata": {
        "id": "hyzJYHgQRqzV"
      },
      "source": [
        "# define transforms\n",
        "transforms_ = transforms.Compose([transforms.Resize((32, 32)),\n",
        "                                 transforms.ToTensor()])\n",
        "\n",
        "# download and create datasets\n",
        "train_dataset = datasets.MNIST(root='mnist_data', \n",
        "                               train=True, \n",
        "                               transform=transforms_,\n",
        "                               download=True)\n",
        "\n",
        "valid_dataset = datasets.MNIST(root='mnist_data', \n",
        "                               train=False, \n",
        "                               transform=transforms_)\n",
        "\n",
        "# define the data loaders\n",
        "train_loader = DataLoader(dataset=train_dataset, \n",
        "                          batch_size=BATCH_SIZE, \n",
        "                          shuffle=True)\n",
        "\n",
        "valid_loader = DataLoader(dataset=valid_dataset, \n",
        "                          batch_size=BATCH_SIZE, \n",
        "                          shuffle=False)"
      ],
      "execution_count": null,
      "outputs": []
    },
    {
      "cell_type": "markdown",
      "metadata": {
        "id": "z6xSi2feRrfb"
      },
      "source": [
        "No código acima, primeiro é definido um conjunto de transformações a serem aplicadas às imagens de origem. Primeiro redimensionamos as imagens para 32 × 32 (o tamanho de entrada do LeNet-5) e depois as convertemos em tensores. A função transforms.ToTensor() dimensiona automaticamente as imagens para o intervalo [0, 1]. \n",
        "\n",
        "A segunda etapa é definir os conjuntos de dados. Para o objeto de treinamento, especificamos download=True para fazer o download do conjunto de dados. Ao definir os conjuntos de dados, também indicamos as transformações definidas anteriormente e se o objeto específico será usado para treinamento ou não.\n",
        "\n",
        "Por último, instanciamos os DataLoaders fornecendo o conjunto de dados, o tamanho do lote e o desejo de embaralhar o conjunto de dados em cada época. Para validação, isso não faz diferença, então definimos como False.\n",
        "\n",
        "A função de custo de treinamento se estabiliza, enquanto a de validação às vezes exibe pequenos solavancos (valores aumentados). \n",
        "\n",
        "Para avaliar as previsões de nosso modelo, podemos executar o código a seguir, que exibe um conjunto de números provenientes do conjunto de validação, junto com o rótulo previsto e a probabilidade que a rede atribui a esse rótulo (em outras palavras, quão confiável é a rede está na previsão)."
      ]
    },
    {
      "cell_type": "code",
      "metadata": {
        "id": "bTU83-BvSbci"
      },
      "source": [
        "torch.manual_seed(RANDOM_SEED)\n",
        "\n",
        "model = LeNet5(N_CLASSES).to(DEVICE)\n",
        "optimizer = torch.optim.Adam(model.parameters(), lr=LEARNING_RATE)\n",
        "criterion = nn.CrossEntropyLoss()\n",
        "\n",
        "model, optimizer, _ = training_loop(model, criterion, optimizer, train_loader, valid_loader, N_EPOCHS, DEVICE)"
      ],
      "execution_count": null,
      "outputs": []
    },
    {
      "cell_type": "markdown",
      "metadata": {
        "id": "_lOLKYj6S0Dv"
      },
      "source": [
        "VGG"
      ]
    },
    {
      "cell_type": "code",
      "metadata": {
        "id": "bDE0CWOfgHOE"
      },
      "source": [
        "torch.manual_seed(RANDOM_SEED)\n",
        "\n",
        "model = VGG_mini(N_CLASSES).to(DEVICE)\n",
        "optimizer = torch.optim.Adam(model.parameters(), lr=LEARNING_RATE)\n",
        "criterion = nn.CrossEntropyLoss()\n",
        "\n",
        "model, optimizer, _ = training_loop(model, criterion, optimizer, train_loader, valid_loader, N_EPOCHS, DEVICE)"
      ],
      "execution_count": null,
      "outputs": []
    },
    {
      "cell_type": "markdown",
      "metadata": {
        "id": "R8evQ23q0nV7"
      },
      "source": [
        "## Exercícios\n",
        "\n",
        "1) Utilize as redes acima na base de dados Cifar10."
      ]
    },
    {
      "cell_type": "code",
      "metadata": {
        "id": "PA-avx0G0sCM"
      },
      "source": [
        "transforms_ = transforms.Compose([transforms.ToTensor(),\n",
        "             transforms.Normalize((0.5, 0.5, 0.5), (0.5, 0.5, 0.5))])\n",
        "\n",
        "#transforms = transforms.Compose([transforms.Resize((32, 32)),\n",
        "#                                 transforms.ToTensor()])\n",
        "\n",
        "trainset = datasets.CIFAR10(root='./data', train=True, transform=transforms_,  download=True)\n",
        "\n",
        "train_loader = DataLoader(trainset, batch_size=BATCH_SIZE,\n",
        "                                          shuffle=True, num_workers=2)\n",
        "\n",
        "testset = datasets.CIFAR10(root='./data', train=False, transform=transforms_,  download=True)\n",
        "\n",
        "valid_loader = DataLoader(testset, batch_size=BATCH_SIZE,\n",
        "                                         shuffle=False, num_workers=2)\n"
      ],
      "execution_count": null,
      "outputs": []
    },
    {
      "cell_type": "markdown",
      "metadata": {
        "id": "xmbBreRA1MBi"
      },
      "source": [
        "2) Crie sua própria rede e execute nas bases de dados MNist e Cifar10"
      ]
    },
    {
      "cell_type": "code",
      "metadata": {
        "id": "V5cpHpR81RuW"
      },
      "source": [
        ""
      ],
      "execution_count": null,
      "outputs": []
    }
  ]
}